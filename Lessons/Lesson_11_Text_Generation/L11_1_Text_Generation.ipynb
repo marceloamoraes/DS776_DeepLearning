{
 "cells": [
  {
   "cell_type": "code",
   "execution_count": 8,
   "metadata": {},
   "outputs": [
    {
     "name": "stdout",
     "output_type": "stream",
     "text": [
      "MODELS_PATH=C:\\Users\\bagge\\My Drive\\Python_Projects\\DS776_Develop_Project\\models\n",
      "DATA_PATH=C:\\Users\\bagge\\My Drive\\Python_Projects\\DS776_Develop_Project\\data\n",
      "TORCH_HOME=C:\\Users\\bagge\\My Drive\\Python_Projects\\DS776_Develop_Project\\downloads\n",
      "HF_HOME=C:\\Users\\bagge\\My Drive\\Python_Projects\\DS776_Develop_Project\\downloads\n",
      "HF_HUB_CACHE=C:\\Users\\bagge\\My Drive\\Python_Projects\\DS776_Develop_Project\\downloads\n",
      "Successfully logged in to Hugging Face Hub.\n"
     ]
    }
   ],
   "source": [
    "from IPython.display import display, HTML, clear_output, Markdown\n",
    "import gc # for memory management\n",
    "import pandas as pd\n",
    "from openai import OpenAI\n",
    "import os\n",
    "import re\n",
    "import torch\n",
    "from transformers import AutoModelForCausalLM, AutoTokenizer\n",
    "\n",
    "from helpers import (model_report, generate_top_k_table, generate_greedy_decoding_table, \n",
    "                     generate_detailed_beam_search, generate_top_k_sampling, generate_top_p_sampling,\n",
    "                     plot_top_k_distribution, visualize_conversation\n",
    "    )\n",
    "                    \n",
    "from introdl.utils import config_paths_keys, wrap_print_text\n",
    "\n",
    "print = wrap_print_text(print, width = 100)\n",
    "paths = config_paths_keys()\n",
    "MODELS_PATH = paths['MODELS_PATH']\n",
    "DATA_PATH = paths['DATA_PATH']"
   ]
  },
  {
   "cell_type": "markdown",
   "metadata": {},
   "source": [
    "## What is a text-generation model?\n",
    "\n",
    "Modern text-generation models are advanced AI systems designed to produce coherent and contextually relevant text based on a given input or prompt. They operate using an auto-regressive approach, where the model predicts the next word or token in a sequence based on the preceding ones. This iterative process continues until the desired length of text is generated, allowing the model to create fluid and natural-sounding language. These models are widely used in applications such as chatbots, content creation, and \n",
    "language translation.\n",
    "\n",
    "In this notebook we:\n",
    "1. give an optional brief chronological history to text generation\n",
    "2. summarize a sample of recent models\n",
    "3. examine the computational cost of text generation\n",
    "4. discuss how text generation models are trained\n",
    "5. introduce chat roles and how chatbots work\n",
    "6. demonstrate the decoding strategies discussed in the textbook and discuss their use cases\n",
    "7. show how to use local and api-based models with various decoding strategies\n",
    "8. discuss how LLMs can be adapted for specialized use using fine-tuning and/or retrieval augmented generation (RAG)\n",
    "\n",
    "There's a ton of material here, but much of it can be skimmed and treated as background.  I'll note which sections are important and will be included in the homework so you know where to focus your energy and time.  Your main focus should be on sections 5-8.  There's also a bit of homework related to section 3.\n",
    "\n",
    "**Note:** Throughout this lesson we avoid using `llm_generate` from the course package.  Rather we show you how to use local and API-based models directly because these are both good things to know."
   ]
  },
  {
   "cell_type": "markdown",
   "metadata": {},
   "source": [
    "\n",
    "---\n",
    "\n",
    "## **1. Chronology of Text Generation Approaches**\n",
    "\n",
    "*This is a background section so just skim it.*\n",
    "\n",
    "The evolution of text generation models reflects broader trends in natural language processing. Early models used statistical techniques, later enhanced by neural networks, recurrent architectures, and finally, transformers. The last few years have seen dramatic improvements with large-scale pre-training, instruction tuning, and the emergence of reasoning models and agents.\n",
    "\n",
    "<details> \n",
    "<summary>If you're interested, you can CLICK HERE to see a detailed chronology.</summary>\n",
    "\n",
    "---\n",
    "\n",
    "### **Pre-2010s: Statistical Models and Rule-Based Systems**  \n",
    "Early text generation systems relied on **statistical language models**, **n-grams**, and **rule-based methods**.\n",
    "\n",
    "- **Markov Chains and N-grams:** These models generated text by predicting the next word based on the previous $n$ words, but they suffered from data sparsity and limited context.\n",
    "- **Probabilistic Context-Free Grammars (PCFGs):** Used for structured text generation, especially in dialogue systems and machine translation.\n",
    "- **2000s:** Phrase-based machine translation systems were common, particularly for tasks like translating short texts or building dialogue systems.\n",
    "\n",
    "---\n",
    "\n",
    "### **2010s: Neural Networks and Recurrent Architectures**  \n",
    "The advent of deep learning dramatically improved text generation by learning complex patterns from large corpora.\n",
    "\n",
    "- **2013–2014:** **Word Embeddings (Word2Vec, GloVe)** became standard for representing words in continuous vector space.\n",
    "- **2014:** **Sequence-to-Sequence Models (Seq2Seq):** Introduced for machine translation and text generation using **LSTM (Long Short-Term Memory) networks**. Encoder-decoder architectures became foundational.\n",
    "- **2015:** **Attention Mechanism:** Proposed by Bahdanau et al., allowing models to focus on specific parts of the input text, improving translation quality.\n",
    "- **2015–2017:** **Variational Autoencoders (VAEs)** and **Generative Adversarial Networks (GANs)** explored for creative text generation but proved challenging to train.\n",
    "\n",
    "---\n",
    "\n",
    "### **Late 2010s: Transformers and Pre-trained Language Models**  \n",
    "The introduction of transformers revolutionized text generation by enabling parallelized training and capturing long-range dependencies more effectively.\n",
    "\n",
    "- **2017:** **Transformer Architecture (Vaswani et al.)** replaced recurrent networks with fully attention-based models, significantly improving machine translation and text generation.\n",
    "- **2018:** **GPT (Generative Pre-trained Transformer):** OpenAI introduced a transformer-based, autoregressive language model pre-trained on a large corpus of text and fine-tuned for various tasks.\n",
    "- **2019:** **GPT-2:** Scaled up the GPT architecture, achieving impressive text generation quality with zero-shot and few-shot capabilities.\n",
    "- **2019:** **BERT:** Though primarily designed for understanding tasks, it influenced later models with its transformer-based architecture.\n",
    "\n",
    "---\n",
    "\n",
    "### **2020s: Large Language Models (LLMs), Instruction Tuning, Reasoning Models, and Agents**  \n",
    "The 2020s have been dominated by progressively larger models trained with more sophisticated techniques to improve coherence, factuality, reasoning ability, and alignment with user intent.\n",
    "\n",
    "---\n",
    "\n",
    "#### **A. Large Language Models (LLMs)**\n",
    "- **2020:** **GPT-3:** With 175 billion parameters, GPT-3 demonstrated strong few-shot learning capabilities. It became the basis for a wide range of text generation applications.\n",
    "- **2021:** **T5 (Text-To-Text Transfer Transformer):** Unified NLP tasks by framing them all as text-to-text problems, paving the way for more versatile models.\n",
    "- **2021–2022:** **Instruction Fine-Tuning:** Models are fine-tuned with human-labeled data to better follow instructions (e.g., InstructGPT).\n",
    "- **2022:** **RLHF (Reinforcement Learning from Human Feedback):** Fine-tuning models using human preference data to improve alignment and quality.\n",
    "- **2023:** **ChatGPT (GPT-4):** Demonstrated robust instruction-following abilities and multi-turn conversation handling, trained using both supervised fine-tuning and RLHF.\n",
    "- **2023:** **LLaMA (Large Language Model Meta AI):** Released by Meta as a series of smaller, efficient models showing that high performance could be achieved with relatively fewer parameters.\n",
    "- **2024–2025:** **LLaMA 3, Claude, Gemini:** Improved performance through better instruction-tuning, architecture modifications, and incorporating multimodal training data (text, images, code, etc.).\n",
    "\n",
    "---\n",
    "\n",
    "#### **B. Reasoning Models**  \n",
    "The growing interest in making LLMs better at reasoning, planning, and performing multi-step tasks led to new architectures and training techniques.\n",
    "\n",
    "- **2022:** **Chain-of-Thought (CoT) Prompting:** Improving reasoning by asking models to generate intermediate reasoning steps rather than answering directly.\n",
    "- **2023:** **Self-Consistency Decoding:** Sampling multiple reasoning paths and selecting the most consistent one, improving robustness in reasoning tasks.\n",
    "- **2024:** **Tree-of-Thoughts (ToT):** Extending Chain-of-Thought reasoning to generate, evaluate, and prune multiple reasoning paths in a structured manner.\n",
    "- **2025:** **Multimodal Reasoning:** Incorporating images, code, and structured data into reasoning models for broader capabilities.\n",
    "\n",
    "---\n",
    "\n",
    "#### **C. Agents and Autonomy**  \n",
    "Recent advances have enabled LLMs to act as **autonomous agents**, performing complex tasks by interacting with tools and environments.\n",
    "\n",
    "- **2023:** **AutoGPT, BabyAGI:** Experimental frameworks designed to give LLMs autonomy in pursuing goals by generating sub-goals, retrieving information, and producing results over multiple steps.\n",
    "- **2024:** **Toolformer (Meta):** A model that learns to use external tools (e.g., calculators, APIs) through fine-tuning, expanding the range of tasks it can handle.\n",
    "- **2025:** **AgentBench:** Benchmarks developed to test LLMs acting as agents, including their ability to solve multi-step tasks with planning and reasoning.\n",
    "\n",
    "---\n",
    "</details>\n",
    "\n",
    "### Chronology Summary Table\n",
    "\n",
    "| Phase                | Key Techniques                               | Notable Models & Frameworks                            |\n",
    "|----------------------|----------------------------------------------|-------------------------------------------------------|\n",
    "| **Pre-2010s**        | N-grams, Markov Chains, Rule-based systems  | Phrase-based MT systems, PCFGs                        |\n",
    "| **2010s (Early)**    | Word Embeddings, Seq2Seq with RNNs           | Word2Vec, GloVe, Seq2Seq, LSTM, GRU                  |\n",
    "| **2010s (Late)**     | Attention, Transformers, Auto-regressive LM | GPT, GPT-2, BERT (for understanding)                 |\n",
    "| **2020s (Early)**    | Large LMs, Zero-shot, Few-shot Learning      | GPT-3, T5, GPT-Neo                                    |\n",
    "| **2020s (Mid-Late)** | Instruction Tuning, RLHF                    | InstructGPT, ChatGPT, LLaMA, Claude, Gemini          |\n",
    "| **2020s (Late)**     | Reasoning Models, Autonomous Agents         | Chain-of-Thought, Tree-of-Thought, AutoGPT, Toolformer|\n",
    "\n",
    "---\n"
   ]
  },
  {
   "cell_type": "markdown",
   "metadata": {},
   "source": [
    "## **2. State-of-the-art Text Generation Models**\n",
    "\n",
    "*The first part of this section will help you better understand how text-generation models (LLMs) work.  So at least watch the video.*\n",
    "\n",
    "State-of-the-art text generation models, or LLMs, are auto-regressive, decoder-only architectures designed to predict the next token in a sequence based on prior context. These models leverage the transformer architecture, which uses self-attention mechanisms to capture long-range dependencies in text. \n",
    "\n",
    "Here's a picture I adapted from our textbook showing a typical decoder-only architecture:\n",
    "\n",
    "<img src=\"pictures/Decoder_Example.png\" alt=\"Decoder Example\" width=\"1000\">\n",
    "\n",
    "Even with recent developments in resoning models, for now at least they still rely on the same transformer decoder architecture pictured here but use Chain-of-Thought prompting and generate multiple reasoning paths before selecting the most consistent result.\n",
    "\n",
    "In the video below I discuss a few of the things in this picuture, including what \"auto-regression\" means, what those \"token predictions\" are, and how the final output token is determined.\n",
    "\n",
    "#### L11_1_Text_Generation_Decoders Video\n",
    "\n",
    "<iframe \n",
    "    src=\"https://media.uwex.edu/content/ds/ds776/ds776_l11_1_text_generation_decoders/\" \n",
    "    width=\"800\" \n",
    "    height=\"450\" \n",
    "    style=\"border: 5px solid cyan;\"  \n",
    "    allowfullscreen>\n",
    "</iframe>\n",
    "<br>\n",
    "<a href=\"https://media.uwex.edu/content/ds/ds776/ds776_l11_1_text_generation_decoders/\" target=\"_blank\">Open UWEX version of video in new tab</a>\n",
    "<br>\n",
    "<a href=\"https://share.descript.com/view/lq84nRLeB3K\" target=\"_blank\">Open Descript version of video in new tab</a>\n"
   ]
  },
  {
   "cell_type": "markdown",
   "metadata": {},
   "source": [
    "### A Snapshot of Current Models\n",
    "\n",
    "*This section is background, though you'll need to use some of the numbers from the table below in the homework.*\n",
    "\n",
    "I tend to geek out on LLMs so the following table very likely falls under the category of TMI (\"Too Much Information\"), but it's sample of some of the recent models in this space.  All of these models have been fine-tuned to follow instructions.  The DeepSeek-V3 model is the most advanced the table - it is designed to excel in reasoning tasks and it uses mixture-of-experts approach to dynamically select a subset of \"expert\" networks for each task.\n",
    "\n",
    "<details>\n",
    "<summary>CLICK HERE to see a table of some recent LLMs</summary>\n",
    "\n",
    "| **Feature**                 | **LLaMA 3.3 70B Instruct** | **Llama 3.1 8B Instruct** | **DeepSeek-V3**          | **Qwen 2.5 (72B)**       | **GPT-4o Mini**         | **GPT-4o**               |\n",
    "|-----------------------------|----------------------------|---------------------------|--------------------------|--------------------------|-------------------------|--------------------------|\n",
    "| **Model Type**              | Open Source                | Open Source               | Open Source  | Open Source              | Proprietary             | Proprietary              |\n",
    "| **Parameters**              | 70 billion                 | 8 billion                 | 671 billion (37B active) | 72.7 billion             | ?    | $\\approx$ 200 billion            |\n",
    "| **Transformer Layers**      | 80                         | 40                        | 61  | 80 | Not specified            | Not specified            |\n",
    "| **Embedding Size**     | 16,384                     | 4,096                     | 7,168?                 | 8,192                    | unknown | 12,288 |\n",
    "| **Vocabulary Size**         | 128,000 tokens             | 128,000 tokens            | 150,000 tokens           | 160,000 tokens           | 200,000 tokens          | 200,000 tokens           |\n",
    "| **Context Window**          | 8,000 tokens               | 128,000 tokens            | 128,000 tokens           | 131,072 tokens           | 128,000 tokens          | 128,000 tokens           |\n",
    "| **Maximum Output Tokens**   | 2,048 tokens               | 2,048 tokens              | 2,048 tokens             | 2,048 tokens             | 16,384 tokens           | 16,384 tokens            |\n",
    "| **Reasoning Task Accuracy** | 44%                        | Not specified             | 55%                      | 60%                      | 69%                     | 80%+ (best performer)    |\n",
    "| **Mathematical Tasks**      | Moderate                   | Not specified             | Strong                   | Strong                   | Moderate                | High (55%)               |\n",
    "| **Coding Tasks (HumanEval)**| Strong performance         | Not specified             | Strong performance       | Very Strong              | Moderate                | High performance         |                  |\n",
    "| **Cost (Input Tokens)**     | $0.23 per million tokens   | Not specified             | $0.20 per million tokens | $0.25 per million tokens | $0.15 per million tokens| $0.25 per million tokens |\n",
    "| **Cost (Output Tokens)**    | $0.40 per million tokens   | Not specified             | $0.35 per million tokens | $0.40 per million tokens | $0.60 per million tokens| $10 per million tokens   |\n",
    "| **Open Source Availability**| Yes (Customizable)         | Yes (Customizable)        | Yes (Customizable)       | Yes (Restricted)         | No                      | No                      |\n",
    "| **Best For**                | Coding tasks, cost-effective | Multilingual dialogue, general-purpose | General-purpose, coding | Multilingual, mathematics, reasoning | Reasoning, multitasking | Broad tasks, high performance across all benchmarks |\n",
    "| **Released By**             | Meta                       | Meta                      | DeepSeek                 | Alibaba                  | OpenAI                  | OpenAI                   |\n",
    "| **Year Released**           | 2025                       | 2024                      | 2025                     | 2025                     | 2024                    | 2024                     |\n",
    "\n",
    "</details>\n",
    "\n",
    "---\n"
   ]
  },
  {
   "cell_type": "markdown",
   "metadata": {},
   "source": [
    "## **3. Compute Cost for LLMs or Why is Text-Generatation so Slow?**\n",
    "\n",
    "*There will be a related homework problem or two.  You don't have to understand all of the formulas here, but do get a general idea how they work and what quantities are involved as it will help you better understand transfomers.*\n",
    "\n",
    "#### L11_1_Text_Generation_Cost Video\n",
    "\n",
    "<iframe \n",
    "    src=\"https://media.uwex.edu/content/ds/ds776/ds776_l11_1_text_generation_cost/\" \n",
    "    width=\"800\" \n",
    "    height=\"450\" \n",
    "    style=\"border: 5px solid cyan;\"  \n",
    "    allowfullscreen>\n",
    "</iframe>\n",
    "<br>\n",
    "<a href=\"https://media.uwex.edu/content/ds/ds776/ds776_l11_1_text_generation_cost/\" target=\"_blank\">Open UWEX version of video in new tab</a>\n",
    "<br>\n",
    "<a href=\"https://share.descript.com/view/89oyNf51xPP\" target=\"_blank\">Open Descript version of video in new tab</a>\n",
    "\n",
    "\n",
    "By now you've probably noticed that text generation is much slower than using an already trained model for text-classification and NER tagging.  There are two main reasons for this:\n",
    "\n",
    "1. LLMs are auto-regressive and require a forward model call for each new token.\n",
    "2. Even small LLMs are much bigger models than task specific models like BERT.\n",
    "\n",
    "To better understand the computational cost of transformers we can approximate the number of FLOPs or floating point operations used by a forward pass of transformer model.  This means we're counting the number of additions, subtractions, multiplications, and divisions.  The FLOPs count is dominated by the attention, feed-forward layers, and the final output layer. In particular we count the number of operations involved in each of the matrix multiplications. The other layers such as the normalization layers and activation functions are negligible. \n",
    "\n",
    "We won't derive the formulas here, but we'll give you some formulas for estimating the total FLOPs.  You can find details of these computations this article [How to Calculate the Number of FLOPS in Transformer Based Models](https://www.gaohongnan.com/playbook/training/how_to_calculate_flops_in_transformer_based_models.html#estimating-flops-for-a-single-forward-pass-of-gpt-2)\n",
    "\n",
    "We'll use the following variables:\n",
    "* $S$: length of the input sequence\n",
    "* $D$: the embedding dimension (length of the embedding vectors and hidden states)\n",
    "* $L$: number of transformer layers\n",
    "* $N$: number of outputs (the number of logits from output layer after all the transformer layers)\n",
    "* $T$: the number of embeddings passed through the final output layer (usually this is $S$ but not always)\n",
    "\n",
    "We assume that the feed-forward network hidden layer has $4D$ neurons which is the typical size.\n",
    "\n",
    "With that notation, the number of FLOPs from a single transformer layer is about\n",
    "$$ 24 S D^2 + 4 S^2 D.$$\n",
    "\n",
    "Notice the $S^2$ term.  This means that the cost is quadratic in the sequence length which is why extending transformers to handle very large input sequences (large context length) is difficult.\n",
    "\n",
    "If we have $L$ transformer layers, then the FLOPs for processing a sequence through the transformer layers is \n",
    "$$L (24 S D^2 + 4 S^2 D).$$\n",
    "\n",
    "This formula can be used for any architecture that uses transformer layers, whether an encoder or a decoder.\n",
    "\n",
    "The final output layer can be significant, especially for text generation because the number of outputs is the vocabulary size and we pass all the embeddings through the output layer.  The number of FLOPs is \n",
    "$$2DTN.$$\n",
    "\n",
    "In the case of text-generation model the whole sequence of embeddings is passed through the output layer so $T=S$ and the number of outputs is $V$, the vocabulary size so the number of FLOPs for the output layer is\n",
    "$$2DSV.$$\n",
    "\n",
    "To generate 1 token of new text thus requires\n",
    "$$L (24 S D^2 + 4 S^2 D) + 2 D S V \\text{ FLOPs}.$$\n",
    "\n",
    "We truly don't expect you to understand how this formula is derived (but if you can that will advance your understanding of transformers).  Instead, we present the formula so you can see what the main contributions to the costs of using LLMs are.  Bigger models and longer sequences for context are great, but they come with increased costs.  A bigger model means more layers (larger $L$), increased embedding dimension (larger $D$), and perhaps a larger vocabulary ($V$).  Increasing context length means longer sequences ($S$).  \n",
    "\n",
    "### Example: Generate 1 Token with LLama 3.1 8B\n",
    "\n",
    "Let's suppose we have an input prompt with 200 tokens and we want to generate a single token of output.  For Llama 3.1 8B the relevant numbers are:\n",
    "\n",
    "- **Parameters:** 8 billion\n",
    "- **Transformer Layers (L):** 40\n",
    "- **Embedding Dimension (D):** 4096\n",
    "- **Vocabulary Size (V):** 128,000 tokens\n",
    "- **Initial Prompt (S):** 200 tokens\n",
    "\n",
    "We can use Python to do the math:"
   ]
  },
  {
   "cell_type": "code",
   "execution_count": 9,
   "metadata": {},
   "outputs": [
    {
     "name": "stdout",
     "output_type": "stream",
     "text": [
      "FLOPs for generating 1 token: 3,457,155,072,000 or 3.46e+12\n"
     ]
    }
   ],
   "source": [
    "L = 40\n",
    "D = 4096\n",
    "S = 200\n",
    "V = 128_000\n",
    "\n",
    "def flops_one_token(L, D, S, V):\n",
    "    return L*(24*S*D**2 + 4*S**2*D) + 2*D*S*V\n",
    "\n",
    "FLOPs = flops_one_token(L, D, S, V)\n",
    "\n",
    "print(f\"FLOPs for generating 1 token: {FLOPs:,} or {FLOPs:.2e}\")"
   ]
  },
  {
   "cell_type": "markdown",
   "metadata": {},
   "source": [
    "Wow!  That's about 3.5 trillion FLOPs to generate one token using the LLaMa 3.1 8B model.  While the formulas may not mean much wihout studying them, at least appreciate how large these numbers get.\n",
    "\n",
    "Now if we want to generate 100 new tokens from based on an input prompt of length 200 tokens, then because the text generation is auto-regressive we need to first compute the FLOPs for an input sequence of length 200, then 201, then 202, all the way up to 299.\n",
    "\n",
    "#### Example: Generate 100 New Tokens with LLaMa 3.1 8B\n",
    "\n",
    "We'll use the same values as the previous example including the initial prompt with length 200.  Now we'll use a loop to add up the FLOPs for input sequences of length $200, 201, \\ldots 299$"
   ]
  },
  {
   "cell_type": "code",
   "execution_count": 10,
   "metadata": {},
   "outputs": [
    {
     "name": "stdout",
     "output_type": "stream",
     "text": [
      "Total FLOPs for generating 100 tokens (S=200 to S=299): 432,144,089,088,000 or 4.32e+14\n"
     ]
    }
   ],
   "source": [
    "L = 40\n",
    "D = 4096\n",
    "V = 128_000\n",
    "\n",
    "FLOPs_gen_100 = 0\n",
    "for S in range(200,300):\n",
    "    FLOPs_gen_100 += flops_one_token(L, D, S, V)\n",
    "print(f\"Total FLOPs for generating 100 tokens (S=200 to S=299): {FLOPs_gen_100:,} or {FLOPs_gen_100:.2e}\")"
   ]
  },
  {
   "cell_type": "markdown",
   "metadata": {},
   "source": [
    "That's 432 trillion FLOPs and 100 forward model passes which shows explains it takes a bit of time to generate text on our compute servers.\n",
    "\n",
    "Let's compare that to the estimated number of FLOPs to do NER tagging for a 100 token sequence like we did last week for the CoNLL2023 data (BIO tagging: B-PER, I-PER, B-LOC, I-LOC, B-ORG, I-ORG, B-MISC, I-MISC, O).  \n",
    "\n",
    "#### Example: Tagging a 100 Token Sequence using the BERT-base model\n",
    "\n",
    "The BERT-base-cased model has about 110 million parameters, $L=12$ transformer layers, an embedding size of $D = 768$. For the final output layer we pass the whole sequence $S=100$ through the layer and map it to 9 possible tags which would be like using a vocabulary size $V=9$.  Let's plug that into our FLOPs estimator:"
   ]
  },
  {
   "cell_type": "code",
   "execution_count": 11,
   "metadata": {},
   "outputs": [
    {
     "name": "stdout",
     "output_type": "stream",
     "text": [
      "FLOPs for tagging a 100 token sequence with 9 possible tags using BERT-base: 17,356,953,600 or\n",
      "1.74e+10\n"
     ]
    }
   ],
   "source": [
    "L = 12\n",
    "D = 768\n",
    "S = 100\n",
    "V = 9\n",
    "\n",
    "FLOPs_BERT = flops_one_token(L, D, S, V)\n",
    "print(f\"FLOPs for tagging a 100 token sequence with 9 possible tags using BERT-base: {FLOPs_BERT:,} or {FLOPs_BERT:.2e}\")"
   ]
  },
  {
   "cell_type": "markdown",
   "metadata": {},
   "source": [
    "How many times more FLOPs does it take to generate 100 new tokens of text than to tag a 100 token sequence?"
   ]
  },
  {
   "cell_type": "code",
   "execution_count": 12,
   "metadata": {},
   "outputs": [
    {
     "name": "stdout",
     "output_type": "stream",
     "text": [
      "FLOPs ratio for LLama-3.1-8B to BERT-base: 24897.46\n"
     ]
    }
   ],
   "source": [
    "print(f\"FLOPs ratio for LLama-3.1-8B to BERT-base: {FLOPs_gen_100 / FLOPs_BERT:.2f}\")"
   ]
  },
  {
   "cell_type": "markdown",
   "metadata": {},
   "source": [
    "Not only do we need only 1 forward model pass for BERT-base to tag a sequence of 100 tokens compared to 100 serially executed model passes to generate 100 tokens of text.  The text generation model requires 25,000 times more FLOPs.  \n",
    "\n",
    "**The Bottom Line:** While text-generating LLMs can be used as all purpose NLP tools, particularly when you don't have a lot of labeled data.  They're expensive to use and, as we've seen in the past few lessons, may not be as accurate as specialized transformer models for many NLP tasks."
   ]
  },
  {
   "cell_type": "markdown",
   "metadata": {},
   "source": [
    "## **4. Training a Text Generation Model (e.g., GPT, LLaMA, Gemini)**\n",
    "\n",
    "*This section is background, but it's a good idea to have some idea of what goes into training the chatbots that most of use daily at this point.*\n",
    "\n",
    "To get a better understanding of LLMs and text generation it helps to know how these models are trained.  In this section we'll break down the training process into **Pre-training**, **Instruction Fine-Tuning**, and **Learning Human Preferences**—all tailored to **Auto-Regressive Models**.\n",
    "\n",
    "<details>\n",
    "<summary>CLICK here for an outline of the training methods or at least look at the table below.</summary>\n",
    "\n",
    "### **1. Pre-training (Self-Supervised Learning)**\n",
    "\n",
    "**Objective:** Learn general language patterns, structure, grammar, facts, and broad knowledge from a large, diverse dataset.\n",
    "\n",
    "####  **Process:**\n",
    "- **Model Type:** Auto-Regressive Model (e.g., GPT, LLaMA, GPT-NeoX).\n",
    "- **Dataset:** Huge corpus of **unlabeled text data** from diverse sources such as:\n",
    "  - Books\n",
    "  - Wikipedia\n",
    "  - News articles\n",
    "  - Forums, Websites, Code repositories\n",
    "  - Social media posts (if applicable)\n",
    "  \n",
    "- **Training Objective:** **Next Token Prediction** (Auto-regressive Language Modeling)\n",
    "  - Given a sequence of tokens $x_1, x_2, \\ldots, x_{t-1}$, predict the next token $x_t$.\n",
    "  - The model learns to maximize the probability:\n",
    "    $$\n",
    "    P(x_t | x_1, x_2, \\ldots, x_{t-1})\n",
    "    $$\n",
    "  - This is done by minimizing the **Cross-Entropy Loss** over the entire dataset.\n",
    "  \n",
    "- **Optimization:** \n",
    "  - **AdamW** optimizer with **Gradient Clipping** and **Learning Rate Scheduling**.\n",
    "  - Mixed-precision training (`fp16` or `bfloat16`) to reduce memory usage.\n",
    "  \n",
    "- **Hardware:** Multiple GPUs or TPUs due to the size of the model and dataset.\n",
    "\n",
    "#### **Output:** \n",
    "A general-purpose language model that can generate coherent text based on general language understanding but is not specialized or aligned with specific tasks.\n",
    "\n",
    "\n",
    "### **2. Fine-Tuning (Instruction Training with Labeled Data)**\n",
    "\n",
    "**Objective:** Adapt the general-purpose model to **follow human instructions** and perform specific tasks more effectively.\n",
    "\n",
    "#### **Process:**\n",
    "- **Model Type:** Same architecture as pre-training (e.g., GPT-style).\n",
    "- **Dataset:** **Labeled instruction-following data**, consisting of:\n",
    "  - **Prompt-Response Pairs**: Text prompts paired with human-provided responses.\n",
    "  - **Task Descriptions:** Instructions for tasks the model is expected to perform (e.g., summarization, translation, question answering, etc.).\n",
    "  - **Open-ended Prompts:** Where the model generates text continuations based on creative or complex prompts.\n",
    "  \n",
    "- **Training Objective:** **Supervised Fine-Tuning**\n",
    "  - The model is trained to generate appropriate responses to instructions.\n",
    "  - This is typically done by minimizing the **Cross-Entropy Loss** over the labeled dataset.\n",
    "  - The training objective remains the same:\n",
    "    $$\n",
    "    P(y_1, \\ldots, y_n | x_1, \\ldots, x_m)\n",
    "    $$\n",
    "    Where $x$ is the instruction and $y$ is the desired output.\n",
    "\n",
    "- **Optimization:** \n",
    "  - Lower learning rates compared to pre-training.\n",
    "  - Shorter training duration (often just a few epochs).\n",
    "  \n",
    "- **Hardware:** Fewer resources required than pre-training, but still typically done on GPUs.\n",
    "\n",
    "#### **Output:** \n",
    "A model that is **better aligned with user prompts and can follow instructions effectively**. It can perform various tasks like:\n",
    "- **Question Answering**\n",
    "- **Summarization**\n",
    "- **Translation**\n",
    "- **Creative Writing**\n",
    "\n",
    "\n",
    "### **3. Learning Human Preferences (Alignment with Human Feedback)**\n",
    "\n",
    "**Objective:** Make the model produce helpful, accurate, and safe outputs that match what humans prefer.\n",
    "\n",
    "#### **Process:** \n",
    "This step is called **Reinforcement Learning from Human Feedback (RLHF)**, but we can break it down into simpler parts:\n",
    "\n",
    "#### **A. Collecting Human Feedback**\n",
    "- **Collect examples** of good responses for different prompts.\n",
    "- **Ask humans to rank outputs** from the model from best to worst (for example, when given the same prompt, which response is most helpful or safest?).\n",
    "\n",
    "#### **B. Training a Scoring Model (Reward Model)**\n",
    "- Build a separate model called a **Reward Model**.\n",
    "- Train it to **score outputs based on human feedback** (higher score = better response).\n",
    "- The model learns to predict what humans would rank as good responses.\n",
    "\n",
    "#### **C. Improving the Original Model**\n",
    "- Now, we use the scores from the **Reward Model** to help the original model improve.\n",
    "- The original model is adjusted to produce outputs that get higher scores from the **Reward Model**.\n",
    "- This helps the model generate responses that are more helpful, accurate, and aligned with human values.\n",
    "\n",
    "### **Output:** \n",
    "A model that produces higher-quality and safer responses by learning from human feedback.\n",
    "\n",
    "</details>\n",
    "\n",
    "### **Summary Table**\n",
    "\n",
    "| Phase          | Objective                         | Data Type                         | Training Method                           | Output                                    |\n",
    "|----------------|-----------------------------------|----------------------------------|-----------------------------------------|-----------------------------------------|\n",
    "| **Pre-training**      | General language understanding   | Unlabeled text corpus            | Auto-regressive Language Modeling       | General-purpose LLM |\n",
    "| **Instruction Fine-Tuning** | Instruction following         | Labeled instruction-response pairs | Supervised Fine-Tuning                  | Task-specific model, better at following instructions |\n",
    "| **RLHF (Alignment)** | Align with human preferences    | Human preference pairs           | Reinforcement Learning (PPO)            | Model that aligns well with human intentions and preferences |\n",
    "\n",
    "\n",
    "In practice your company or organization is unlikely to train an LLM from scratch.  They'll use an already trained model and adapt it for their purposes.  What that looks like will depend on the use-case and data-security concerns.  We'll discuss a couple of ways that LLMs are adapted at the end of this notebook.  \n",
    "\n",
    "In the next section we'll concentrate on the final decoding step where the output of model is used to pick the next token in the sequence."
   ]
  },
  {
   "cell_type": "markdown",
   "metadata": {},
   "source": [
    "\n",
    "---\n",
    "\n",
    "## **5. Chatbots and Chat Roles**\n",
    "\n",
    "*This section is important.  Both to see how local models and API-based models generate text and also to understand chat roles and chatbots.*\n",
    "\n",
    "#### L11_1_Chat_Roles Video\n",
    "\n",
    "<iframe \n",
    "    src=\"https://media.uwex.edu/content/ds/ds776/ds776_l11_1_chat_roles/\" \n",
    "    width=\"800\" \n",
    "    height=\"450\" \n",
    "    style=\"border: 5px solid cyan;\"  \n",
    "    allowfullscreen>\n",
    "</iframe>\n",
    "<br>\n",
    "<a href=\"https://media.uwex.edu/content/ds/ds776/ds776_l11_1_chat_roles/\" target=\"_blank\">Open UWEX version of video in new tab</a>\n",
    "<br>\n",
    "<a href=\"https://share.descript.com/view/GDRk92GqkN4\" target=\"_blank\">Open Descript version of video in new tab</a>\n",
    "\n",
    "\n",
    "Modern **Large Language Models (LLMs)**, especially those designed for conversational tasks, are often **trained with structured roles** to produce coherent, task-oriented responses.  \n",
    "\n",
    "### Training with Roles\n",
    "\n",
    "- Models like **GPT-4o**, **Claude**, **Gemini**, and **LLaMA** are often trained or fine-tuned using datasets that include **explicit roles** such as:\n",
    "  - **`system`** - Instructions or context setting.\n",
    "  - **`user`** - Queries or inputs from the human user.\n",
    "  - **`assistant`** - Model-generated responses.\n",
    "- Training with roles helps models:\n",
    "  - **Follow instructions accurately.**\n",
    "  - **Maintain context over extended interactions.**\n",
    "  - **Generate appropriate, role-specific outputs.**\n",
    "\n",
    "### API Compatibility\n",
    "\n",
    "- **OpenAI, Groq, and other providers** now use standardized API structures that explicitly define roles, enhancing **alignment, coherence, and safety**.\n",
    "\n",
    "#### Common Chat Roles\n",
    "\n",
    "| **Role**      | **Purpose**                                      |\n",
    "|---------------|--------------------------------------------------|\n",
    "| `system`      | Provides initial instructions or sets context.   |\n",
    "| `user`        | Represents the human’s input or query.           |\n",
    "| `assistant`   | Represents the model’s response.                 |\n",
    "\n",
    "#### Why Are Roles Important?\n",
    "\n",
    "- **Guidance:** Establishes the model’s purpose or behavior (e.g., “You are a helpful assistant.”).  \n",
    "- **Structure:** Organizes interactions for better coherence.  \n",
    "- **State Management:** Facilitates continuous dialogue with memory of prior exchanges.  \n",
    "\n",
    "\n",
    "### Using Chat Roles with a Local Model\n",
    "\n",
    "We'll demonstrate how to use chat roles with local Hugging Face models.  Most recent LLM models on HuggingFace include a chat_template as an attribute of the tokenizer.  The chat_template takes a conversation that includes chat roles (we'll seen an example below) and formats as text in the format expected by the LLM model before tokenizing it.  In the example below we also decode the formatted conversation and print it for illustration, but you wouldn't normally do this before sending the tokenized conversattion to the model.\n",
    "\n",
    "We've selected Llama-3.1-8B-instruct, but you could do this with almost any local model."
   ]
  },
  {
   "cell_type": "code",
   "execution_count": 13,
   "metadata": {},
   "outputs": [
    {
     "name": "stdout",
     "output_type": "stream",
     "text": [
      "Formatted Conversation (After Applying `chat_template`):\n",
      "\n",
      "<|begin_of_text|><|start_header_id|>system<|end_header_id|>\n",
      "\n",
      "Cutting Knowledge Date: December 2023\n",
      "Today Date: 26 Jul 2024\n",
      "\n",
      "You are a helpful assistant.<|eot_id|><|start_header_id|>user<|end_header_id|>\n",
      "\n",
      "Explain how transformers work in NLP.<|eot_id|>\n",
      "----------------------------------------------------------------------------\n",
      "\n",
      "\n",
      "Model Output:\n",
      " system\n",
      "\n",
      "Cutting Knowledge Date: December 2023\n",
      "Today Date: 26 Jul 2024\n",
      "\n",
      "You are a helpful assistant.user\n",
      "\n",
      "Explain how transformers work in NLP.assistant\n",
      "\n",
      "Transformers are a type of neural network architecture that has revolutionized the field of Natural\n",
      "Language Processing (NLP). They were first introduced in the paper \"Attention Is All You Need\" by\n",
      "Vaswani et al. in 2017.\n",
      "\n",
      "**\n"
     ]
    }
   ],
   "source": [
    "# Load the model and tokenizer\n",
    "model_name = \"unsloth/Meta-Llama-3.1-8B-Instruct-bnb-4bit\"\n",
    "tokenizer = AutoTokenizer.from_pretrained(model_name)\n",
    "model = AutoModelForCausalLM.from_pretrained(model_name, device_map=\"auto\")\n",
    "\n",
    "# Define conversation with chat roles\n",
    "conversation = [\n",
    "    {\"role\": \"system\", \"content\": \"You are a helpful assistant.\"},\n",
    "    {\"role\": \"user\", \"content\": \"Explain how transformers work in NLP.\"}\n",
    "]\n",
    "\n",
    "# Apply the chat template if available\n",
    "if hasattr(tokenizer, \"apply_chat_template\") and getattr(tokenizer, \"chat_template\", None) is not None:\n",
    "    input_ids = tokenizer.apply_chat_template(\n",
    "        conversation,\n",
    "        return_tensors=\"pt\",\n",
    "        padding=True,\n",
    "        truncation=True\n",
    "    ).to(model.device)\n",
    "    \n",
    "    # Decode the formatted input to see how the conversation has been structured\n",
    "    formatted_input = tokenizer.decode(input_ids[0], skip_special_tokens=False)\n",
    "    print(\"Formatted Conversation (After Applying `chat_template`):\\n\")\n",
    "    print(formatted_input)\n",
    "    print('----------------------------------------------------------------------------\\n')\n",
    "else:\n",
    "    raise ValueError(\"The tokenizer does not support chat_template.\")\n",
    "\n",
    "# Generate a response using the model\n",
    "output = model.generate(input_ids, max_length=100)\n",
    "print(\"\\nModel Output:\\n\", tokenizer.decode(output[0], skip_special_tokens=True))\n"
   ]
  },
  {
   "cell_type": "markdown",
   "metadata": {},
   "source": [
    "You can see that the local model always returns the prompt as part of its output when you use the chat_template.  If you're trying to get structured output you'll often need to do some processing to remove the prompt.  In a chatbot application the output of the model is appended to the conversation using the assitant role before the next user prompt and the entire conversation if fed back to the model to generate a response.  This is how chatbots are able to use the entire context of the conversation to generate coherent responsese.  We'll demonstrate how a chatbot works further below."
   ]
  },
  {
   "cell_type": "markdown",
   "metadata": {},
   "source": [
    "To remove the unwanted text it can be helpful to instruct the LLM to print something like `<BOS>` at the beginning of its response.  Then we can use regular expressions to search for that and delete everything up to that spot.  The code below demonstrate this.  \n",
    "\n",
    "We'll also show you how to clear a model from memory and load a different local model.  If you load a local model repeatedly or load too many different local models you'll run out of GPU memory. It's not necessary to reload the model each time you use it either.\n",
    "\n",
    "This first cell clears the previous model:"
   ]
  },
  {
   "cell_type": "code",
   "execution_count": 14,
   "metadata": {},
   "outputs": [
    {
     "data": {
      "text/plain": [
       "5620"
      ]
     },
     "execution_count": 14,
     "metadata": {},
     "output_type": "execute_result"
    }
   ],
   "source": [
    "# Delete the model\n",
    "del model  \n",
    "del tokenizer\n",
    "\n",
    "# Clear CUDA cache\n",
    "torch.cuda.empty_cache()\n",
    "\n",
    "# Run garbage collection\n",
    "gc.collect()"
   ]
  },
  {
   "cell_type": "markdown",
   "metadata": {},
   "source": [
    "This cell loads the new model and tokenizer:"
   ]
  },
  {
   "cell_type": "code",
   "execution_count": 15,
   "metadata": {},
   "outputs": [],
   "source": [
    "# Load the model and tokenizer\n",
    "model_name  = \"unsloth/Llama-3.2-3B-Instruct-unsloth-bnb-4bit\"\n",
    "tokenizer = AutoTokenizer.from_pretrained(model_name)\n",
    "model = AutoModelForCausalLM.from_pretrained(model_name, device_map=\"auto\")"
   ]
  },
  {
   "cell_type": "markdown",
   "metadata": {},
   "source": [
    "Finally, this cell sets up the conversation, generates the output, and displays both the raw and cleaned output.  "
   ]
  },
  {
   "cell_type": "code",
   "execution_count": 16,
   "metadata": {},
   "outputs": [
    {
     "name": "stdout",
     "output_type": "stream",
     "text": [
      "Formatted Conversation (After Applying `chat_template`):\n",
      "\n",
      "<|begin_of_text|><|start_header_id|>system<|end_header_id|>\n",
      "\n",
      "Cutting Knowledge Date: December 2023\n",
      "Today Date: 04 Apr 2025\n",
      "\n",
      "You are a helpful assistant. Always begin your response with the special token\n",
      "'<BOS>'.<|eot_id|><|start_header_id|>user<|end_header_id|>\n",
      "\n",
      "Explain how transformers work in NLP.<|eot_id|>\n",
      "----------------------------------------------------------------------------\n",
      "\n",
      "\n",
      "Model Output (Raw):\n",
      " system\n",
      "\n",
      "Cutting Knowledge Date: December 2023\n",
      "Today Date: 04 Apr 2025\n",
      "\n",
      "You are a helpful assistant. Always begin your response with the special token '<BOS>'.user\n",
      "\n",
      "Explain how transformers work in NLP.assistant\n",
      "\n",
      "<BOS>\n",
      "\n",
      "Transformers are a type of neural network architecture that revolutionized the field of Natural\n",
      "Language Processing (NLP) in 2017. They were introduced in the paper \"Attention is All You Need\" by\n",
      "Vaswani et al. The core idea behind transformers is to replace traditional recurrent neural networks\n",
      "(RNNs) and convolutional neural networks (CNNs) with self-attention mechanisms.\n",
      "\n",
      "**Self-Attention Mechanism**\n",
      "\n",
      "The self-attention mechanism allows the model to weigh the importance of different input elements\n",
      "(e.g., words or tokens) relative to each other. This is achieved by computing the dot product of the\n",
      "query and key vectors, followed by a softmax function\n",
      "----------------------------------------------------------------------------\n",
      "\n",
      "\n",
      "Model Output (Cleaned):\n",
      " Transformers are a type of neural network architecture that revolutionized the field of Natural\n",
      "Language Processing (NLP) in 2017. They were introduced in the paper \"Attention is All You Need\" by\n",
      "Vaswani et al. The core idea behind transformers is to replace traditional recurrent neural networks\n",
      "(RNNs) and convolutional neural networks (CNNs) with self-attention mechanisms.\n",
      "\n",
      "**Self-Attention Mechanism**\n",
      "\n",
      "The self-attention mechanism allows the model to weigh the importance of different input elements\n",
      "(e.g., words or tokens) relative to each other. This is achieved by computing the dot product of the\n",
      "query and key vectors, followed by a softmax function\n"
     ]
    }
   ],
   "source": [
    "# Define conversation with chat roles, instructing the LLM to prepend <BOS> to its output\n",
    "conversation = [\n",
    "    {\"role\": \"system\", \"content\": \"You are a helpful assistant. Always begin your response with the special token '<BOS>'.\"},\n",
    "    {\"role\": \"user\", \"content\": \"Explain how transformers work in NLP.\"}\n",
    "]\n",
    "\n",
    "# Apply the chat template if available\n",
    "if hasattr(tokenizer, \"apply_chat_template\") and getattr(tokenizer, \"chat_template\", None) is not None:\n",
    "    input_ids = tokenizer.apply_chat_template(\n",
    "        conversation,\n",
    "        return_tensors=\"pt\",\n",
    "        padding=True,\n",
    "        truncation=True\n",
    "    ).to(model.device)\n",
    "    \n",
    "    # Decode the formatted input to see how the conversation has been structured\n",
    "    formatted_input = tokenizer.decode(input_ids[0], skip_special_tokens=False)\n",
    "    print(\"Formatted Conversation (After Applying `chat_template`):\\n\")\n",
    "    print(formatted_input)\n",
    "    print('----------------------------------------------------------------------------\\n')\n",
    "else:\n",
    "    raise ValueError(\"The tokenizer does not support chat_template.\")\n",
    "\n",
    "# Generate a response using the model\n",
    "output = model.generate(input_ids, max_length=200)\n",
    "response = tokenizer.decode(output[0], skip_special_tokens=True)\n",
    "\n",
    "print(\"\\nModel Output (Raw):\\n\", response)\n",
    "print('----------------------------------------------------------------------------\\n')\n",
    "\n",
    "# Remove everything up to and including <BOS> and any whitespace following it\n",
    "# Use regex to match the <BOS> tag and strip any newlines or spaces after it\n",
    "cleaned_response = re.sub(r\".*<BOS>\\s*\", \"\", response, flags=re.DOTALL).lstrip()\n",
    "\n",
    "# Print the cleaned output\n",
    "print(\"\\nModel Output (Cleaned):\\n\", cleaned_response)\n"
   ]
  },
  {
   "cell_type": "markdown",
   "metadata": {},
   "source": [
    "You could now generate more text in subsequent calls without reloading the model.  You'd only need to clear it if you wanted to load a different model."
   ]
  },
  {
   "cell_type": "markdown",
   "metadata": {},
   "source": [
    "\n",
    "### Using Chat Roles with an API\n",
    "\n",
    "To use chat roles with an API-based LLM you format the conversation in the same way.  The difference is that the chat_template is applied on the server so that you don't have to manage it.  API-based LLMs also usually remove the input prompt from the output.  Here we demonstrate with a Gemini model.  You'll need your GEMINI_API_KEY to run this code.\n"
   ]
  },
  {
   "cell_type": "code",
   "execution_count": 17,
   "metadata": {},
   "outputs": [
    {
     "name": "stdout",
     "output_type": "stream",
     "text": [
      "Let's break down how transformers work in Natural Language Processing (NLP).  They've revolutionized\n",
      "the field and power things like Google Translate, chatbots, and text summarization.  Here's a\n",
      "simplified explanation, going from the core concepts to the overall architecture:\n",
      "\n",
      "**1. Core Concept:  Attention**\n",
      "\n",
      "The heart of a transformer is the \"attention mechanism\". This is what sets it apart from previous\n",
      "architectures like Recurrent Neural Networks (RNNs). Instead of processing words sequentially,\n",
      "attention allows the model to:\n",
      "\n",
      "*   **Focus on Relevant Parts:** When processing a word, the attention mechanism helps the model\n",
      "understand which other words in the sentence are most important for understanding the meaning of\n",
      "that word. Think about it:  when you read \"The cat sat on the mat,\" you intuitively understand that\n",
      "\"sat\" is related to \"cat\" and \"mat\". Attention captures these relationships.\n",
      "*   **Process in Parallel:**  Unlike RNNs, which process words one at\n"
     ]
    }
   ],
   "source": [
    "# Initialize the Gemini API client\n",
    "client = OpenAI(\n",
    "    api_key=os.getenv(\"GEMINI_API_KEY\"),\n",
    "    base_url=\"https://generativelanguage.googleapis.com/v1beta/openai/\"\n",
    ")\n",
    "\n",
    "# Define conversation with chat roles\n",
    "conversation = [\n",
    "    {\"role\": \"system\", \"content\": \"You are a helpful assistant.\"},\n",
    "    {\"role\": \"user\", \"content\": \"Explain how transformers work in NLP.\"}\n",
    "]\n",
    "\n",
    "# Make the API request\n",
    "try:\n",
    "    response = client.chat.completions.create(\n",
    "        model=\"gemini-2.0-flash-lite\",\n",
    "        messages=conversation,\n",
    "        max_tokens=200,  # Limit the response length to 200 tokens\n",
    "    )\n",
    "    print(response.choices[0].message.content)\n",
    "except Exception as e:\n",
    "    print(f\"Error: {e}\")\n"
   ]
  },
  {
   "cell_type": "markdown",
   "metadata": {},
   "source": [
    "Note, it's a pretty simple matter to render that markdown for display in a notebook environment as we show with the next cell:"
   ]
  },
  {
   "cell_type": "code",
   "execution_count": 18,
   "metadata": {},
   "outputs": [
    {
     "data": {
      "text/markdown": [
       "Let's break down how transformers work in Natural Language Processing (NLP).  They've revolutionized the field and power things like Google Translate, chatbots, and text summarization.  Here's a simplified explanation, going from the core concepts to the overall architecture:\n",
       "\n",
       "**1. Core Concept:  Attention**\n",
       "\n",
       "The heart of a transformer is the \"attention mechanism\". This is what sets it apart from previous architectures like Recurrent Neural Networks (RNNs). Instead of processing words sequentially, attention allows the model to:\n",
       "\n",
       "*   **Focus on Relevant Parts:** When processing a word, the attention mechanism helps the model understand which other words in the sentence are most important for understanding the meaning of that word. Think about it:  when you read \"The cat sat on the mat,\" you intuitively understand that \"sat\" is related to \"cat\" and \"mat\". Attention captures these relationships.\n",
       "*   **Process in Parallel:**  Unlike RNNs, which process words one at"
      ],
      "text/plain": [
       "<IPython.core.display.Markdown object>"
      ]
     },
     "metadata": {},
     "output_type": "display_data"
    }
   ],
   "source": [
    "display(Markdown(response.choices[0].message.content))"
   ]
  },
  {
   "cell_type": "markdown",
   "metadata": {},
   "source": [
    "### Chatbot Simulation\n",
    "\n",
    "#### L11_1_Chatbots Video\n",
    "\n",
    "<iframe \n",
    "    src=\"https://media.uwex.edu/content/ds/ds776/ds776_l11_1_chatbots/\" \n",
    "    width=\"800\" \n",
    "    height=\"450\" \n",
    "    style=\"border: 5px solid cyan;\"  \n",
    "    allowfullscreen>\n",
    "</iframe>\n",
    "<br>\n",
    "<a href=\"https://media.uwex.edu/content/ds/ds776/ds776_l11_1_chatbots/\" target=\"_blank\">Open UWEX version of video in new tab</a>\n",
    "<br>\n",
    "<a href=\"https://share.descript.com/view/mVH5RLMCj7N\" target=\"_blank\">Open Descript version of video in new tab</a>\n",
    "\n",
    "Chatbots work by appending the LLM output to the conversation using the \"assistant\" role before adding the next user prompt.  The whole conversation, as long as it fits inside the context length of the LLM, is processed by the model to generate the next resonse.  Here's a demonstration:"
   ]
  },
  {
   "cell_type": "code",
   "execution_count": 19,
   "metadata": {},
   "outputs": [],
   "source": [
    "# Initialize the Gemini API client\n",
    "client = OpenAI(\n",
    "    api_key=os.getenv(\"GEMINI_API_KEY\"),\n",
    "    base_url=\"https://generativelanguage.googleapis.com/v1beta/openai/\"\n",
    ")\n",
    "\n",
    "# Initialize the conversation with a system prompt\n",
    "conversation = [\n",
    "    {\"role\": \"system\", \"content\": \"You are a helpful assistant. Answer questions concisely and clearly.\"}\n",
    "]\n",
    "\n",
    "def chat_with_gemini(user_input, model=\"gemini-2.0-flash-lite\"):\n",
    "    \"\"\"\n",
    "    Add user input to the conversation, generate a response, and visualize the conversation.\n",
    "    \"\"\"\n",
    "    conversation.append({\"role\": \"user\", \"content\": user_input})\n",
    "\n",
    "    try:\n",
    "        # Make the API request\n",
    "        response = client.chat.completions.create(\n",
    "            model=model,\n",
    "            messages=conversation\n",
    "        )\n",
    "\n",
    "        # Extract the assistant's response\n",
    "        assistant_response = response.choices[0].message.content\n",
    "\n",
    "        # Add the assistant's response to the conversation\n",
    "        conversation.append({\"role\": \"assistant\", \"content\": assistant_response})\n",
    "\n",
    "        # Visualize the updated conversation\n",
    "        visualize_conversation(conversation) # from helpers.py - formats conersation nicely for display\n",
    "\n",
    "    except Exception as e:\n",
    "        print(f\"Error: {e}\")\n"
   ]
  },
  {
   "cell_type": "code",
   "execution_count": 20,
   "metadata": {},
   "outputs": [
    {
     "data": {
      "text/markdown": [
       "# Conversation Flow\n",
       "### **System:** You are a helpful assistant. Answer questions concisely and clearly.\n",
       "\n",
       "**User:** What are tranformers in NLP?\n",
       "\n",
       "**Assistant:** Transformers are a type of neural network architecture that has become a dominant force in Natural Language Processing (NLP). Unlike recurrent networks, transformers process the entire input sequence simultaneously, enabling parallelization and capturing long-range dependencies more effectively. They rely on self-attention mechanisms to weigh the importance of different words in a sentence, allowing the model to understand context and relationships.\n",
       "\n",
       "\n"
      ],
      "text/plain": [
       "<IPython.core.display.Markdown object>"
      ]
     },
     "metadata": {},
     "output_type": "display_data"
    }
   ],
   "source": [
    "chat_with_gemini(\"What are tranformers in NLP?\")"
   ]
  },
  {
   "cell_type": "code",
   "execution_count": 21,
   "metadata": {},
   "outputs": [
    {
     "data": {
      "text/markdown": [
       "# Conversation Flow\n",
       "### **System:** You are a helpful assistant. Answer questions concisely and clearly.\n",
       "\n",
       "**User:** What are tranformers in NLP?\n",
       "\n",
       "**Assistant:** Transformers are a type of neural network architecture that has become a dominant force in Natural Language Processing (NLP). Unlike recurrent networks, transformers process the entire input sequence simultaneously, enabling parallelization and capturing long-range dependencies more effectively. They rely on self-attention mechanisms to weigh the importance of different words in a sentence, allowing the model to understand context and relationships.\n",
       "\n",
       "\n",
       "**User:** How do their attention mechanisms work?\n",
       "\n",
       "**Assistant:** Attention mechanisms in transformers work by calculating \"attention weights\" for each word in a sequence. These weights determine how much each word contributes to the representation of other words. Essentially, the model learns to focus on the most relevant parts of the input when processing each word, enabling it to understand context and relationships within the text.\n",
       "\n",
       "\n"
      ],
      "text/plain": [
       "<IPython.core.display.Markdown object>"
      ]
     },
     "metadata": {},
     "output_type": "display_data"
    }
   ],
   "source": [
    "chat_with_gemini(\"How do their attention mechanisms work?\")"
   ]
  },
  {
   "cell_type": "code",
   "execution_count": 22,
   "metadata": {},
   "outputs": [
    {
     "data": {
      "text/markdown": [
       "# Conversation Flow\n",
       "### **System:** You are a helpful assistant. Answer questions concisely and clearly.\n",
       "\n",
       "**User:** What are tranformers in NLP?\n",
       "\n",
       "**Assistant:** Transformers are a type of neural network architecture that has become a dominant force in Natural Language Processing (NLP). Unlike recurrent networks, transformers process the entire input sequence simultaneously, enabling parallelization and capturing long-range dependencies more effectively. They rely on self-attention mechanisms to weigh the importance of different words in a sentence, allowing the model to understand context and relationships.\n",
       "\n",
       "\n",
       "**User:** How do their attention mechanisms work?\n",
       "\n",
       "**Assistant:** Attention mechanisms in transformers work by calculating \"attention weights\" for each word in a sequence. These weights determine how much each word contributes to the representation of other words. Essentially, the model learns to focus on the most relevant parts of the input when processing each word, enabling it to understand context and relationships within the text.\n",
       "\n",
       "\n",
       "**User:** Can you explain how they are trained?\n",
       "\n",
       "**Assistant:** Transformers are trained using a process called **backpropagation**, similar to other neural networks.\n",
       "\n",
       "1.  **Data Preparation:** Text data is converted into numerical representations (tokens) and prepared in batches.\n",
       "2.  **Forward Pass:** The input is fed through the transformer, which calculates attention weights and generates output representations.\n",
       "3.  **Loss Calculation:** The model's output is compared to the expected output (e.g., the next word in a sequence), and a loss function (e.g., cross-entropy) quantifies the error.\n",
       "4.  **Backward Pass (Backpropagation):** The error is propagated back through the network to calculate gradients (how much each weight contributed to the error).\n",
       "5.  **Weight Updates:** The model's weights are adjusted using an optimization algorithm (e.g., Adam) to minimize the loss.\n",
       "6.  **Iteration:** Steps 2-5 are repeated iteratively over the training data until the model converges (learns to perform well on the training data).\n",
       "\n",
       "Popular training methods include:\n",
       "\n",
       "*   **Masked Language Modeling (MLM):** The model predicts masked words in a sentence.\n",
       "*   **Next Sentence Prediction (NSP):** The model predicts if two sentences are consecutive.\n",
       "\n",
       "\n"
      ],
      "text/plain": [
       "<IPython.core.display.Markdown object>"
      ]
     },
     "metadata": {},
     "output_type": "display_data"
    }
   ],
   "source": [
    "chat_with_gemini(\"Can you explain how they are trained?\")"
   ]
  },
  {
   "cell_type": "markdown",
   "metadata": {},
   "source": [
    "\n",
    "---\n",
    "\n",
    "## **6. Decoding Strategies - Converting Probabilities to Tokens**\n",
    "\n",
    "*This section is important.  Decoding methods shape the output of an LLM.  The methods in this section will be in the homework.*\n",
    "\n",
    "#### L11_1_Decoding_Strategies Video\n",
    "\n",
    "<iframe \n",
    "    src=\"https://media.uwex.edu/content/ds/ds776/ds776_l11_1_decoding_strategies/\" \n",
    "    width=\"800\" \n",
    "    height=\"450\" \n",
    "    style=\"border: 5px solid cyan;\"  \n",
    "    allowfullscreen>\n",
    "</iframe>\n",
    "<br>\n",
    "<a href=\"https://media.uwex.edu/content/ds/ds776/ds776_l11_1_decoding_strategies/\" target=\"_blank\">Open UWEX version of video in new tab</a>\n",
    "<br>\n",
    "<a href=\"https://share.descript.com/view/LQx3wLJEV1F\" target=\"_blank\">Open Descript version of video in new tab</a>\n",
    "\n",
    "\n",
    "Decoding strategies are the main focus of the textbook so I'm not going to go into great detail on each of them, but I had a bit of trouble following the book in places and perhaps you did too.  I'm going to go through a series of demonstrations to try to help you get a bit of insight into the decoding strategies.  All of these strategies: greedy search, beam search, top_k search, and top_p search are available with local models and all but beam search are available in most API-based models.  Many commercial providers serve the same models that we can run locally, but don't expose or provide access to the beam search option for those models.\n",
    "\n",
    "Throughout this section will make use of various functions we created in `helpers.py` that are imported near the top of this notebook.\n",
    "\n",
    "**Note:**  We're not making use of chat_templates in this section to keep things simple.  But you can use chat_templates and assign roles with the different decoding strategies.  Using chat_templates will cause local models to output the whole conversation so you'll need to post-process to remove the output you don't want.\n"
   ]
  },
  {
   "cell_type": "markdown",
   "metadata": {},
   "source": [
    "### Output of the Model\n",
    "\n",
    "Let's review what the output of our decoder model is.  Given the current input sequence, the classification head maps the final hidden states of the transformer layers to logits, one for each possible token in the vocabulary.  Those logits are then passed through a softmax to get a probability distribution for the next possible token.  To demonstrate we'll load the quantized Llama-3.2-3B instruction fine-tuned model that we've used previously with `llm_generate`.  **You must have a GPU for this to work (use a compute server).**"
   ]
  },
  {
   "cell_type": "code",
   "execution_count": 23,
   "metadata": {},
   "outputs": [
    {
     "name": "stdout",
     "output_type": "stream",
     "text": [
      "Model Report for llama\n",
      "---------------------------\n",
      "Vocabulary Size: 128256\n",
      "Embedding Dimension: 3072\n",
      "Number of Transformer Blocks: 28\n",
      "Total Number of Parameters: 1,841,212,416\n"
     ]
    }
   ],
   "source": [
    "# Instantiate model and tokenizer (uncomment if you need to reload the model)\n",
    "# model_name  = \"unsloth/Llama-3.2-3B-Instruct-unsloth-bnb-4bit\"\n",
    "# device = torch.device('cuda' if torch.cuda.is_available() else 'cpu')\n",
    "# model = AutoModelForCausalLM.from_pretrained(model_name).to(device)\n",
    "# tokenizer = AutoTokenizer.from_pretrained(model_name)\n",
    "\n",
    "model_report(model, tokenizer)\n"
   ]
  },
  {
   "cell_type": "markdown",
   "metadata": {},
   "source": [
    "Now let's see what the next token probility distribution looks like if we start with the input sequences \"Transformers are the\" and ask for the next token.  The `top_k` highest probability tokens will be displayed."
   ]
  },
  {
   "cell_type": "code",
   "execution_count": 24,
   "metadata": {},
   "outputs": [
    {
     "name": "stdout",
     "output_type": "stream",
     "text": [
      "Top K Table\n"
     ]
    },
    {
     "data": {
      "text/html": [
       "<table border=\"1\" class=\"dataframe\">\n",
       "  <thead>\n",
       "    <tr style=\"text-align: right;\">\n",
       "      <th>Word</th>\n",
       "      <th>Probability (%)</th>\n",
       "    </tr>\n",
       "  </thead>\n",
       "  <tbody>\n",
       "    <tr>\n",
       "      <td>ultimate</td>\n",
       "      <td>12.695312</td>\n",
       "    </tr>\n",
       "    <tr>\n",
       "      <td>most</td>\n",
       "      <td>6.378174</td>\n",
       "    </tr>\n",
       "    <tr>\n",
       "      <td>perfect</td>\n",
       "      <td>2.967834</td>\n",
       "    </tr>\n",
       "    <tr>\n",
       "      <td>latest</td>\n",
       "      <td>2.293396</td>\n",
       "    </tr>\n",
       "    <tr>\n",
       "      <td>iconic</td>\n",
       "      <td>2.239990</td>\n",
       "    </tr>\n",
       "    <tr>\n",
       "      <td>best</td>\n",
       "      <td>1.976013</td>\n",
       "    </tr>\n",
       "    <tr>\n",
       "      <td>embodiment</td>\n",
       "      <td>1.276398</td>\n",
       "    </tr>\n",
       "    <tr>\n",
       "      <td>result</td>\n",
       "      <td>1.198578</td>\n",
       "    </tr>\n",
       "    <tr>\n",
       "      <td>main</td>\n",
       "      <td>1.083374</td>\n",
       "    </tr>\n",
       "    <tr>\n",
       "      <td>machines</td>\n",
       "      <td>1.009369</td>\n",
       "    </tr>\n",
       "    <tr>\n",
       "      <td>robots</td>\n",
       "      <td>0.971222</td>\n",
       "    </tr>\n",
       "    <tr>\n",
       "      <td>new</td>\n",
       "      <td>0.955963</td>\n",
       "    </tr>\n",
       "    <tr>\n",
       "      <td>magical</td>\n",
       "      <td>0.891113</td>\n",
       "    </tr>\n",
       "    <tr>\n",
       "      <td>stuff</td>\n",
       "      <td>0.811005</td>\n",
       "    </tr>\n",
       "    <tr>\n",
       "      <td>heroes</td>\n",
       "      <td>0.798798</td>\n",
       "    </tr>\n",
       "    <tr>\n",
       "      <td>largest</td>\n",
       "      <td>0.699234</td>\n",
       "    </tr>\n",
       "    <tr>\n",
       "      <td>coolest</td>\n",
       "      <td>0.688553</td>\n",
       "    </tr>\n",
       "    <tr>\n",
       "      <td>core</td>\n",
       "      <td>0.683212</td>\n",
       "    </tr>\n",
       "    <tr>\n",
       "      <td>popular</td>\n",
       "      <td>0.636673</td>\n",
       "    </tr>\n",
       "    <tr>\n",
       "      <td>sentient</td>\n",
       "      <td>0.622177</td>\n",
       "    </tr>\n",
       "  </tbody>\n",
       "</table>"
      ],
      "text/plain": [
       "<IPython.core.display.HTML object>"
      ]
     },
     "metadata": {},
     "output_type": "display_data"
    }
   ],
   "source": [
    "df = generate_top_k_table(model, tokenizer, \"Transformers are the\", top_k=20, temperature = 1.0)\n",
    "print(\"Top K Table\")\n",
    "display(HTML(df.to_html(index=False)))"
   ]
  },
  {
   "cell_type": "markdown",
   "metadata": {},
   "source": [
    "This probability distribution gives a conditional probability (conditioned on the previous sequence) for every possible token in the vocabulary.  The character of the text we generate from these probabilities is determined by how we use these probabilities to select the next token.  We can also visualize this probability distribution:"
   ]
  },
  {
   "cell_type": "code",
   "execution_count": 25,
   "metadata": {},
   "outputs": [
    {
     "data": {
      "image/png": "[encoded data removed]",
      "text/plain": [
       "<Figure size 800x300 with 1 Axes>"
      ]
     },
     "metadata": {},
     "output_type": "display_data"
    }
   ],
   "source": [
    "prompt = \"Transformers are the\"\n",
    "plot_top_k_distribution(model, tokenizer, prompt, top_k=20, plot_type='pdf', temperature=1.0,figsize=(8,3))"
   ]
  },
  {
   "cell_type": "markdown",
   "metadata": {},
   "source": [
    " and its cumulative distribution:"
   ]
  },
  {
   "cell_type": "code",
   "execution_count": 26,
   "metadata": {},
   "outputs": [
    {
     "data": {
      "image/png": "[encoded data removed]",
      "text/plain": [
       "<Figure size 800x300 with 1 Axes>"
      ]
     },
     "metadata": {},
     "output_type": "display_data"
    }
   ],
   "source": [
    "prompt = \"Transformers are the\"\n",
    "plot_top_k_distribution(model, tokenizer, prompt, top_k=20, plot_type='cdf', temperature=1.0, figsize=(8,3))"
   ]
  },
  {
   "cell_type": "markdown",
   "metadata": {},
   "source": [
    "This is a great place to explore the role of the temperature parameter $T$ in this probability distribution.  The temperature is used to increase ($T>1$) or decrease ($0<T<1$) the randomness of the top_p and top_k sampling methods.  It doesn't have any effect on deterministic search methods like greedy decoding and beam search.\n",
    "\n",
    "A small value of $T$ leads to a \"sharper\" probability distribution that places more emphasis on the early tokens so that top ranked words are much more likely to be selected. For example, many LLM's default to a value around $0.7$:"
   ]
  },
  {
   "cell_type": "code",
   "execution_count": 27,
   "metadata": {},
   "outputs": [
    {
     "data": {
      "image/png": "[encoded data removed]",
      "text/plain": [
       "<Figure size 800x300 with 1 Axes>"
      ]
     },
     "metadata": {},
     "output_type": "display_data"
    }
   ],
   "source": [
    "prompt = \"Transformers are the\"\n",
    "plot_top_k_distribution(model, tokenizer, prompt, top_k=20, plot_type='pdf', temperature=0.7,figsize=(8,3))"
   ]
  },
  {
   "cell_type": "code",
   "execution_count": 28,
   "metadata": {},
   "outputs": [
    {
     "data": {
      "image/png": "[encoded data removed]",
      "text/plain": [
       "<Figure size 800x300 with 1 Axes>"
      ]
     },
     "metadata": {},
     "output_type": "display_data"
    }
   ],
   "source": [
    "prompt = \"Transformers are the\"\n",
    "plot_top_k_distribution(model, tokenizer, prompt, top_k=20, plot_type='cdf', temperature=0.7,figsize=(8,3))"
   ]
  },
  {
   "cell_type": "markdown",
   "metadata": {},
   "source": [
    "Conversely, a large value of temperature flattens the probability distribution making it closer to uniform.  This makes lower ranked words much more likely.  For example $T=1.3$ gives:"
   ]
  },
  {
   "cell_type": "code",
   "execution_count": 29,
   "metadata": {},
   "outputs": [
    {
     "data": {
      "image/png": "[encoded data removed]",
      "text/plain": [
       "<Figure size 800x300 with 1 Axes>"
      ]
     },
     "metadata": {},
     "output_type": "display_data"
    }
   ],
   "source": [
    "prompt = \"Transformers are the\"\n",
    "plot_top_k_distribution(model, tokenizer, prompt, top_k=20, plot_type='pdf', temperature=1.3,figsize=(8,3))"
   ]
  },
  {
   "cell_type": "code",
   "execution_count": 30,
   "metadata": {},
   "outputs": [
    {
     "data": {
      "image/png": "[encoded data removed]",
      "text/plain": [
       "<Figure size 800x300 with 1 Axes>"
      ]
     },
     "metadata": {},
     "output_type": "display_data"
    }
   ],
   "source": [
    "prompt = \"Transformers are the\"\n",
    "plot_top_k_distribution(model, tokenizer, prompt, top_k=20, plot_type='cdf', temperature=1.3,figsize=(8,3))"
   ]
  },
  {
   "cell_type": "markdown",
   "metadata": {},
   "source": [
    "Now let's review the four main decoding strategies.  Each strategy stops when the maximum number of new tokens is reached or when a special \"end of sequence\" token is selected."
   ]
  },
  {
   "cell_type": "markdown",
   "metadata": {},
   "source": [
    "### The Greedy Decoding Strategy\n",
    "\n",
    "This approach is called \"greedy\" because it greedily chooses the next token to be the token with the largest probability.  It's the fastest of the decoding methods.  This deterministic approach is good for tasks where consistency and coherency are more important than creativity like code-generation or factual question answering.\n",
    "\n",
    "To better understand how it works lets show a sequence is generated by printing a table of the top 5 completions and appending the one with the largest probability at each iteration.   "
   ]
  },
  {
   "cell_type": "code",
   "execution_count": 31,
   "metadata": {},
   "outputs": [
    {
     "data": {
      "text/html": [
       "<div>\n",
       "<style scoped>\n",
       "    .dataframe tbody tr th:only-of-type {\n",
       "        vertical-align: middle;\n",
       "    }\n",
       "\n",
       "    .dataframe tbody tr th {\n",
       "        vertical-align: top;\n",
       "    }\n",
       "\n",
       "    .dataframe thead th {\n",
       "        text-align: right;\n",
       "    }\n",
       "</style>\n",
       "<table border=\"1\" class=\"dataframe\">\n",
       "  <thead>\n",
       "    <tr style=\"text-align: right;\">\n",
       "      <th></th>\n",
       "      <th>Input</th>\n",
       "      <th>Choice 1</th>\n",
       "      <th>Choice 2</th>\n",
       "      <th>Choice 3</th>\n",
       "      <th>Choice 4</th>\n",
       "      <th>Choice 5</th>\n",
       "    </tr>\n",
       "  </thead>\n",
       "  <tbody>\n",
       "    <tr>\n",
       "      <th>0</th>\n",
       "      <td>Transformers are the</td>\n",
       "      <td>ultimate (12.70%)</td>\n",
       "      <td>most (6.38%)</td>\n",
       "      <td>perfect (2.97%)</td>\n",
       "      <td>latest (2.29%)</td>\n",
       "      <td>iconic (2.24%)</td>\n",
       "    </tr>\n",
       "    <tr>\n",
       "      <th>1</th>\n",
       "      <td>Transformers are the ultimate</td>\n",
       "      <td>symbol (17.36%)</td>\n",
       "      <td>shape (6.90%)</td>\n",
       "      <td>symbols (4.25%)</td>\n",
       "      <td>in (2.31%)</td>\n",
       "      <td>action (2.26%)</td>\n",
       "    </tr>\n",
       "    <tr>\n",
       "      <th>2</th>\n",
       "      <td>Transformers are the ultimate symbol</td>\n",
       "      <td>of (99.61%)</td>\n",
       "      <td>for (0.07%)</td>\n",
       "      <td>in (0.05%)</td>\n",
       "      <td>\\n (0.02%)</td>\n",
       "      <td>and (0.02%)</td>\n",
       "    </tr>\n",
       "    <tr>\n",
       "      <th>3</th>\n",
       "      <td>Transformers are the ultimate symbol of</td>\n",
       "      <td>childhood (12.92%)</td>\n",
       "      <td>the (8.34%)</td>\n",
       "      <td>power (5.64%)</td>\n",
       "      <td>(2.86%)</td>\n",
       "      <td>nostalgia (2.44%)</td>\n",
       "    </tr>\n",
       "    <tr>\n",
       "      <th>4</th>\n",
       "      <td>Transformers are the ultimate symbol of childhood</td>\n",
       "      <td>wonder (21.14%)</td>\n",
       "      <td>nostalgia (20.18%)</td>\n",
       "      <td>imagination (14.31%)</td>\n",
       "      <td>excitement (8.22%)</td>\n",
       "      <td>play (3.70%)</td>\n",
       "    </tr>\n",
       "    <tr>\n",
       "      <th>5</th>\n",
       "      <td>Transformers are the ultimate symbol of childhood wonder</td>\n",
       "      <td>and (70.12%)</td>\n",
       "      <td>, (16.39%)</td>\n",
       "      <td>. (10.10%)</td>\n",
       "      <td>! (0.87%)</td>\n",
       "      <td>– (0.45%)</td>\n",
       "    </tr>\n",
       "    <tr>\n",
       "      <th>6</th>\n",
       "      <td>Transformers are the ultimate symbol of childhood wonder and</td>\n",
       "      <td>excitement (42.04%)</td>\n",
       "      <td>imagination (19.86%)</td>\n",
       "      <td>play (6.10%)</td>\n",
       "      <td>nostalgia (4.40%)</td>\n",
       "      <td>magic (4.20%)</td>\n",
       "    </tr>\n",
       "    <tr>\n",
       "      <th>7</th>\n",
       "      <td>Transformers are the ultimate symbol of childhood wonder and excitement</td>\n",
       "      <td>. (70.02%)</td>\n",
       "      <td>, (14.69%)</td>\n",
       "      <td>! (8.23%)</td>\n",
       "      <td>for (2.85%)</td>\n",
       "      <td>in (1.99%)</td>\n",
       "    </tr>\n",
       "    <tr>\n",
       "      <th>8</th>\n",
       "      <td>Transformers are the ultimate symbol of childhood wonder and excitement.</td>\n",
       "      <td>Who (32.40%)</td>\n",
       "      <td>These (16.28%)</td>\n",
       "      <td>They (7.57%)</td>\n",
       "      <td>From (6.79%)</td>\n",
       "      <td>Whether (5.63%)</td>\n",
       "    </tr>\n",
       "    <tr>\n",
       "      <th>9</th>\n",
       "      <td>Transformers are the ultimate symbol of childhood wonder and excitement. Who</td>\n",
       "      <td>wouldn (42.07%)</td>\n",
       "      <td>can (26.73%)</td>\n",
       "      <td>doesn (12.24%)</td>\n",
       "      <td>among (4.64%)</td>\n",
       "      <td>needs (3.51%)</td>\n",
       "    </tr>\n",
       "  </tbody>\n",
       "</table>\n",
       "</div>"
      ],
      "text/plain": [
       "<IPython.core.display.HTML object>"
      ]
     },
     "metadata": {},
     "output_type": "display_data"
    }
   ],
   "source": [
    "\n",
    "# Example usage\n",
    "prompt = \"Transformers are the\"\n",
    "df = generate_greedy_decoding_table(model, tokenizer, prompt, max_length=10)\n",
    "# Display with styling to limit width and wrap text\n",
    "display(HTML(df.to_html(escape=False, notebook=True, max_rows=None)))"
   ]
  },
  {
   "cell_type": "markdown",
   "metadata": {},
   "source": [
    "### Beam Search\n",
    "\n",
    "Beam search is a decoding algorithm used to generate sequences in language models by maintaining a fixed number of the most probable sequences, called beams, at each step. Unlike greedy search, which selects only the highest-probability token at each step, beam search explores multiple possibilities and keeps the top num_beams sequences based on their cumulative probabilities. As the model generates tokens, beam search extends each beam by all possible next tokens and keeps only the top num_beams sequences. This approach helps balance quality and diversity of output compared to simpler methods like greedy search.  It's commonly used for machine translation, summarization, and other tasks requiring coherence.\n",
    "\n",
    "I like the following description of beam search from [Inference Speed Is the Key To Unleashing AI's Potential](https://groq.com/wp-content/uploads/2024/05/2024_GroqThoughts_Inference-Speed-Is-the-Key-To-Unleashing-AIs-Potential.pdf) from the LLM API provider Groq:"
   ]
  },
  {
   "cell_type": "markdown",
   "metadata": {},
   "source": [
    "\n",
    "\"Beam search, for example, is a kind of 'search ahead'\n",
    "technique that generates better results by looking ahead\n",
    "at a possible set of outcomes, then selecting the best one\n",
    "based on a scoring function. Think of a chess-playing bot\n",
    "who, rather than just predicting its next move, gives itself\n",
    "ten different next-move options and plays out the match\n",
    "for each of those ten. It may discover that what it thought\n",
    "was its best next move was in fact inferior to another\n",
    "option. If it simply relies on its stream of consciousness, its\n",
    "quality won’t be as good as it could be.\""
   ]
  },
  {
   "cell_type": "markdown",
   "metadata": {},
   "source": [
    "The following demo requires you to press \"Enter\" to seach each step of the beam search.  At each step we accumulate the sum of the log probabilities and select the top `num_beams` sequences.  Here we demonstrate beam search with just two beams and considering 3 possible completions of each beam at each iteration:"
   ]
  },
  {
   "cell_type": "code",
   "execution_count": 32,
   "metadata": {},
   "outputs": [
    {
     "name": "stdout",
     "output_type": "stream",
     "text": [
      "\n",
      "=== Step 6: Top 3 Completions for Each Beam ===\n"
     ]
    },
    {
     "data": {
      "text/html": [
       "<div>\n",
       "<style scoped>\n",
       "    .dataframe tbody tr th:only-of-type {\n",
       "        vertical-align: middle;\n",
       "    }\n",
       "\n",
       "    .dataframe tbody tr th {\n",
       "        vertical-align: top;\n",
       "    }\n",
       "\n",
       "    .dataframe thead th {\n",
       "        text-align: right;\n",
       "    }\n",
       "</style>\n",
       "<table border=\"1\" class=\"dataframe\">\n",
       "  <thead>\n",
       "    <tr style=\"text-align: right;\">\n",
       "      <th></th>\n",
       "      <th>Beam</th>\n",
       "      <th>Completion 1</th>\n",
       "      <th>Completion 2</th>\n",
       "      <th>Completion 3</th>\n",
       "    </tr>\n",
       "  </thead>\n",
       "  <tbody>\n",
       "    <tr>\n",
       "      <th>0</th>\n",
       "      <td>Transformers are the ultimate symbol of childhood wonder</td>\n",
       "      <td>and (0.7012)</td>\n",
       "      <td>, (0.1639)</td>\n",
       "      <td>. (0.1010)</td>\n",
       "    </tr>\n",
       "    <tr>\n",
       "      <th>1</th>\n",
       "      <td>Transformers are the ultimate symbol of childhood nostalgia</td>\n",
       "      <td>, (0.3750)</td>\n",
       "      <td>for (0.2346)</td>\n",
       "      <td>. (0.2136)</td>\n",
       "    </tr>\n",
       "  </tbody>\n",
       "</table>\n",
       "</div>"
      ],
      "text/plain": [
       "                                                          Beam   Completion 1  \\\n",
       "0     Transformers are the ultimate symbol of childhood wonder   and (0.7012)   \n",
       "1  Transformers are the ultimate symbol of childhood nostalgia     , (0.3750)   \n",
       "\n",
       "    Completion 2 Completion 3  \n",
       "0     , (0.1639)   . (0.1010)  \n",
       "1   for (0.2346)   . (0.2136)  "
      ]
     },
     "metadata": {},
     "output_type": "display_data"
    },
    {
     "name": "stdout",
     "output_type": "stream",
     "text": [
      "\n",
      "=== Step 6: Expanded Beams (Unsorted) ===\n"
     ]
    },
    {
     "data": {
      "text/html": [
       "<style type=\"text/css\">\n",
       "#T_8af5c_row0_col0, #T_8af5c_row0_col1, #T_8af5c_row0_col2, #T_8af5c_row0_col3, #T_8af5c_row0_col4, #T_8af5c_row3_col0, #T_8af5c_row3_col1, #T_8af5c_row3_col2, #T_8af5c_row3_col3, #T_8af5c_row3_col4 {\n",
       "  background-color: #ecf8ec;\n",
       "  color: black;\n",
       "}\n",
       "</style>\n",
       "<table id=\"T_8af5c\">\n",
       "  <thead>\n",
       "    <tr>\n",
       "      <th class=\"blank level0\" >&nbsp;</th>\n",
       "      <th id=\"T_8af5c_level0_col0\" class=\"col_heading level0 col0\" >Beam</th>\n",
       "      <th id=\"T_8af5c_level0_col1\" class=\"col_heading level0 col1\" >Text</th>\n",
       "      <th id=\"T_8af5c_level0_col2\" class=\"col_heading level0 col2\" >Previous Log Prob Sum</th>\n",
       "      <th id=\"T_8af5c_level0_col3\" class=\"col_heading level0 col3\" >Log Prob of New Word</th>\n",
       "      <th id=\"T_8af5c_level0_col4\" class=\"col_heading level0 col4\" >New Log Prob Sum</th>\n",
       "    </tr>\n",
       "  </thead>\n",
       "  <tbody>\n",
       "    <tr>\n",
       "      <th id=\"T_8af5c_level0_row0\" class=\"row_heading level0 row0\" >0</th>\n",
       "      <td id=\"T_8af5c_row0_col0\" class=\"data row0 col0\" >1</td>\n",
       "      <td id=\"T_8af5c_row0_col1\" class=\"data row0 col1\" >Transformers are the ultimate symbol of childhood wonder and</td>\n",
       "      <td id=\"T_8af5c_row0_col2\" class=\"data row0 col2\" >-7.419930</td>\n",
       "      <td id=\"T_8af5c_row0_col3\" class=\"data row0 col3\" >-0.354980</td>\n",
       "      <td id=\"T_8af5c_row0_col4\" class=\"data row0 col4\" >-7.774910</td>\n",
       "    </tr>\n",
       "    <tr>\n",
       "      <th id=\"T_8af5c_level0_row1\" class=\"row_heading level0 row1\" >1</th>\n",
       "      <td id=\"T_8af5c_row1_col0\" class=\"data row1 col0\" >2</td>\n",
       "      <td id=\"T_8af5c_row1_col1\" class=\"data row1 col1\" >Transformers are the ultimate symbol of childhood wonder,</td>\n",
       "      <td id=\"T_8af5c_row1_col2\" class=\"data row1 col2\" >-7.419930</td>\n",
       "      <td id=\"T_8af5c_row1_col3\" class=\"data row1 col3\" >-1.808594</td>\n",
       "      <td id=\"T_8af5c_row1_col4\" class=\"data row1 col4\" >-9.228523</td>\n",
       "    </tr>\n",
       "    <tr>\n",
       "      <th id=\"T_8af5c_level0_row2\" class=\"row_heading level0 row2\" >2</th>\n",
       "      <td id=\"T_8af5c_row2_col0\" class=\"data row2 col0\" >3</td>\n",
       "      <td id=\"T_8af5c_row2_col1\" class=\"data row2 col1\" >Transformers are the ultimate symbol of childhood wonder.</td>\n",
       "      <td id=\"T_8af5c_row2_col2\" class=\"data row2 col2\" >-7.419930</td>\n",
       "      <td id=\"T_8af5c_row2_col3\" class=\"data row2 col3\" >-2.292969</td>\n",
       "      <td id=\"T_8af5c_row2_col4\" class=\"data row2 col4\" >-9.712898</td>\n",
       "    </tr>\n",
       "    <tr>\n",
       "      <th id=\"T_8af5c_level0_row3\" class=\"row_heading level0 row3\" >3</th>\n",
       "      <td id=\"T_8af5c_row3_col0\" class=\"data row3 col0\" >4</td>\n",
       "      <td id=\"T_8af5c_row3_col1\" class=\"data row3 col1\" >Transformers are the ultimate symbol of childhood nostalgia,</td>\n",
       "      <td id=\"T_8af5c_row3_col2\" class=\"data row3 col2\" >-7.466805</td>\n",
       "      <td id=\"T_8af5c_row3_col3\" class=\"data row3 col3\" >-0.980957</td>\n",
       "      <td id=\"T_8af5c_row3_col4\" class=\"data row3 col4\" >-8.447762</td>\n",
       "    </tr>\n",
       "    <tr>\n",
       "      <th id=\"T_8af5c_level0_row4\" class=\"row_heading level0 row4\" >4</th>\n",
       "      <td id=\"T_8af5c_row4_col0\" class=\"data row4 col0\" >5</td>\n",
       "      <td id=\"T_8af5c_row4_col1\" class=\"data row4 col1\" >Transformers are the ultimate symbol of childhood nostalgia for</td>\n",
       "      <td id=\"T_8af5c_row4_col2\" class=\"data row4 col2\" >-7.466805</td>\n",
       "      <td id=\"T_8af5c_row4_col3\" class=\"data row4 col3\" >-1.450195</td>\n",
       "      <td id=\"T_8af5c_row4_col4\" class=\"data row4 col4\" >-8.917000</td>\n",
       "    </tr>\n",
       "    <tr>\n",
       "      <th id=\"T_8af5c_level0_row5\" class=\"row_heading level0 row5\" >5</th>\n",
       "      <td id=\"T_8af5c_row5_col0\" class=\"data row5 col0\" >6</td>\n",
       "      <td id=\"T_8af5c_row5_col1\" class=\"data row5 col1\" >Transformers are the ultimate symbol of childhood nostalgia.</td>\n",
       "      <td id=\"T_8af5c_row5_col2\" class=\"data row5 col2\" >-7.466805</td>\n",
       "      <td id=\"T_8af5c_row5_col3\" class=\"data row5 col3\" >-1.543945</td>\n",
       "      <td id=\"T_8af5c_row5_col4\" class=\"data row5 col4\" >-9.010750</td>\n",
       "    </tr>\n",
       "  </tbody>\n",
       "</table>\n"
      ],
      "text/plain": [
       "<pandas.io.formats.style.Styler at 0x2662d22add0>"
      ]
     },
     "metadata": {},
     "output_type": "display_data"
    },
    {
     "data": {
      "text/plain": [
       "None"
      ]
     },
     "metadata": {},
     "output_type": "display_data"
    }
   ],
   "source": [
    "prompt = \"Transformers are the\"\n",
    "df = generate_detailed_beam_search(model, tokenizer, prompt, num_beams=2, max_length=6, temperature=1.0);\n",
    "display(df)\n"
   ]
  },
  {
   "cell_type": "markdown",
   "metadata": {},
   "source": [
    "Both beam search and greedy decoding are deterministic.  Now we'll consider top_k and top_p sampling which both generate random responses, but differ in how the probability distribution is used to select the next token.\n",
    "\n",
    "### Top-k sampling\n",
    "\n",
    "In top-k sampling, we randomly choose from the k tokens with the highest probabilities.  These probabilities are renormalized so that they sum to 1 at each step.  We then sample from the top-k tokens according to the renormalized probilities. Top-k sampling limits the possible randomness by using only the top-k tokens. It is useful for creative tasks where you want some diversity but not complete randomness.\n",
    "\n",
    "The demo below below gives you an idea how this works.  You must press enter at each iteration to see the next sequence.  Try running it a few times to see how the results vary.  If you decrease the temperature (try 0.7 or 0.5) that should decrease the variability.  Similarly, increasing the temperature will increase the variation of the output sequences."
   ]
  },
  {
   "cell_type": "code",
   "execution_count": 33,
   "metadata": {},
   "outputs": [
    {
     "name": "stdout",
     "output_type": "stream",
     "text": [
      "\n",
      "=== Step 6 ===\n",
      "Current Sequence: Transformers are the ultimate in robotic transformation,\n"
     ]
    },
    {
     "data": {
      "text/html": [
       "<style type=\"text/css\">\n",
       "#T_9681f_row2_col2 {\n",
       "  background-color: #ecf8ec;\n",
       "  color: black;\n",
       "}\n",
       "</style>\n",
       "<table id=\"T_9681f\">\n",
       "  <thead>\n",
       "    <tr>\n",
       "      <th class=\"blank level0\" >&nbsp;</th>\n",
       "      <th id=\"T_9681f_level0_col0\" class=\"col_heading level0 col0\" >Step</th>\n",
       "      <th id=\"T_9681f_level0_col1\" class=\"col_heading level0 col1\" >Completion 1</th>\n",
       "      <th id=\"T_9681f_level0_col2\" class=\"col_heading level0 col2\" >Completion 2</th>\n",
       "      <th id=\"T_9681f_level0_col3\" class=\"col_heading level0 col3\" >Completion 3</th>\n",
       "      <th id=\"T_9681f_level0_col4\" class=\"col_heading level0 col4\" >Completion 4</th>\n",
       "      <th id=\"T_9681f_level0_col5\" class=\"col_heading level0 col5\" >Completion 5</th>\n",
       "    </tr>\n",
       "  </thead>\n",
       "  <tbody>\n",
       "    <tr>\n",
       "      <th id=\"T_9681f_level0_row0\" class=\"row_heading level0 row0\" >0</th>\n",
       "      <td id=\"T_9681f_row0_col0\" class=\"data row0 col0\" >Original Probabilities</td>\n",
       "      <td id=\"T_9681f_row0_col1\" class=\"data row0 col1\" > allowing (0.3284)</td>\n",
       "      <td id=\"T_9681f_row0_col2\" class=\"data row0 col2\" > but (0.1208)</td>\n",
       "      <td id=\"T_9681f_row0_col3\" class=\"data row0 col3\" > where (0.1050)</td>\n",
       "      <td id=\"T_9681f_row0_col4\" class=\"data row0 col4\" > with (0.0780)</td>\n",
       "      <td id=\"T_9681f_row0_col5\" class=\"data row0 col5\" > and (0.0593)</td>\n",
       "    </tr>\n",
       "    <tr>\n",
       "      <th id=\"T_9681f_level0_row1\" class=\"row_heading level0 row1\" >1</th>\n",
       "      <td id=\"T_9681f_row1_col0\" class=\"data row1 col0\" >Renormalized Probabilities</td>\n",
       "      <td id=\"T_9681f_row1_col1\" class=\"data row1 col1\" > allowing (0.4749)</td>\n",
       "      <td id=\"T_9681f_row1_col2\" class=\"data row1 col2\" > but (0.1747)</td>\n",
       "      <td id=\"T_9681f_row1_col3\" class=\"data row1 col3\" > where (0.1519)</td>\n",
       "      <td id=\"T_9681f_row1_col4\" class=\"data row1 col4\" > with (0.1128)</td>\n",
       "      <td id=\"T_9681f_row1_col5\" class=\"data row1 col5\" > and (0.0858)</td>\n",
       "    </tr>\n",
       "    <tr>\n",
       "      <th id=\"T_9681f_level0_row2\" class=\"row_heading level0 row2\" >2</th>\n",
       "      <td id=\"T_9681f_row2_col0\" class=\"data row2 col0\" >Selected Completion</td>\n",
       "      <td id=\"T_9681f_row2_col1\" class=\"data row2 col1\" > allowing</td>\n",
       "      <td id=\"T_9681f_row2_col2\" class=\"data row2 col2\" > but</td>\n",
       "      <td id=\"T_9681f_row2_col3\" class=\"data row2 col3\" > where</td>\n",
       "      <td id=\"T_9681f_row2_col4\" class=\"data row2 col4\" > with</td>\n",
       "      <td id=\"T_9681f_row2_col5\" class=\"data row2 col5\" > and</td>\n",
       "    </tr>\n",
       "  </tbody>\n",
       "</table>\n"
      ],
      "text/plain": [
       "<pandas.io.formats.style.Styler at 0x26682228e10>"
      ]
     },
     "metadata": {},
     "output_type": "display_data"
    },
    {
     "data": {
      "text/plain": [
       "None"
      ]
     },
     "metadata": {},
     "output_type": "display_data"
    }
   ],
   "source": [
    "prompt = \"Transformers are the\"\n",
    "df = generate_top_k_sampling(model, tokenizer, prompt, max_length=6, top_k = 5, temperature=1.0);\n",
    "display(df)\n"
   ]
  },
  {
   "cell_type": "markdown",
   "metadata": {},
   "source": [
    "### Top-p Sampling (also called Nucleus Sampling)\n",
    "\n",
    "In top-p sampling, we randomly choose from all the highest ranked tokens whose cumulative probability is approximately $p$.  For example if we're doing top-90% sampling, we first find the tokens that make up the top 90% of all possible tokens.  How many tokens this is varies at each step as the overall distribtion changes.  The probabilities corresponding to the top-p tokens are renormalized and then we randomly sample from those tokens according to the renormalized probabilities.  The set of tokens to be sampled is dynamic.  This method is more flexible than top-k and is often used where creativeness is important.\n",
    "\n",
    "The demo below below gives you an idea how this works.  You must press enter at each iteration to see the next sequence.  Try running it a few times to see how the results vary.  If you decrease the temperature (try 0.7 or 0.5) that should decrease the variability.  Similarly, increasing the temperature will increase the variation of the output sequences.\n",
    "\n",
    "Settings of `top_p = 0.9` and `temperature = 0.7` are very common in chatbot applications so we'll demonstrate with those here:"
   ]
  },
  {
   "cell_type": "code",
   "execution_count": 34,
   "metadata": {},
   "outputs": [
    {
     "name": "stdout",
     "output_type": "stream",
     "text": [
      "\n",
      "=== Step 8 ===\n",
      "Current Sequence: Transformers are the most popular toys of all time,\n"
     ]
    },
    {
     "data": {
      "text/html": [
       "<style type=\"text/css\">\n",
       "#T_682d4_row2_col1 {\n",
       "  background-color: #ecf8ec;\n",
       "  color: black;\n",
       "}\n",
       "</style>\n",
       "<table id=\"T_682d4\">\n",
       "  <thead>\n",
       "    <tr>\n",
       "      <th class=\"blank level0\" >&nbsp;</th>\n",
       "      <th id=\"T_682d4_level0_col0\" class=\"col_heading level0 col0\" >Step</th>\n",
       "      <th id=\"T_682d4_level0_col1\" class=\"col_heading level0 col1\" >Completion 1</th>\n",
       "      <th id=\"T_682d4_level0_col2\" class=\"col_heading level0 col2\" >Completion 2</th>\n",
       "      <th id=\"T_682d4_level0_col3\" class=\"col_heading level0 col3\" >Completion 3</th>\n",
       "      <th id=\"T_682d4_level0_col4\" class=\"col_heading level0 col4\" >Completion 4</th>\n",
       "      <th id=\"T_682d4_level0_col5\" class=\"col_heading level0 col5\" >Completion 5</th>\n",
       "      <th id=\"T_682d4_level0_col6\" class=\"col_heading level0 col6\" >Completion 6</th>\n",
       "      <th id=\"T_682d4_level0_col7\" class=\"col_heading level0 col7\" >Completion 7</th>\n",
       "      <th id=\"T_682d4_level0_col8\" class=\"col_heading level0 col8\" >Completion 8</th>\n",
       "    </tr>\n",
       "  </thead>\n",
       "  <tbody>\n",
       "    <tr>\n",
       "      <th id=\"T_682d4_level0_row0\" class=\"row_heading level0 row0\" >0</th>\n",
       "      <td id=\"T_682d4_row0_col0\" class=\"data row0 col0\" >Original Probabilities</td>\n",
       "      <td id=\"T_682d4_row0_col1\" class=\"data row0 col1\" > and (0.7065)</td>\n",
       "      <td id=\"T_682d4_row0_col2\" class=\"data row0 col2\" > with (0.2258)</td>\n",
       "      <td id=\"T_682d4_row0_col3\" class=\"data row0 col3\" ></td>\n",
       "      <td id=\"T_682d4_row0_col4\" class=\"data row0 col4\" ></td>\n",
       "      <td id=\"T_682d4_row0_col5\" class=\"data row0 col5\" ></td>\n",
       "      <td id=\"T_682d4_row0_col6\" class=\"data row0 col6\" ></td>\n",
       "      <td id=\"T_682d4_row0_col7\" class=\"data row0 col7\" ></td>\n",
       "      <td id=\"T_682d4_row0_col8\" class=\"data row0 col8\" ></td>\n",
       "    </tr>\n",
       "    <tr>\n",
       "      <th id=\"T_682d4_level0_row1\" class=\"row_heading level0 row1\" >1</th>\n",
       "      <td id=\"T_682d4_row1_col0\" class=\"data row1 col0\" >Renormalized Probabilities</td>\n",
       "      <td id=\"T_682d4_row1_col1\" class=\"data row1 col1\" > and (0.7578)</td>\n",
       "      <td id=\"T_682d4_row1_col2\" class=\"data row1 col2\" > with (0.2422)</td>\n",
       "      <td id=\"T_682d4_row1_col3\" class=\"data row1 col3\" ></td>\n",
       "      <td id=\"T_682d4_row1_col4\" class=\"data row1 col4\" ></td>\n",
       "      <td id=\"T_682d4_row1_col5\" class=\"data row1 col5\" ></td>\n",
       "      <td id=\"T_682d4_row1_col6\" class=\"data row1 col6\" ></td>\n",
       "      <td id=\"T_682d4_row1_col7\" class=\"data row1 col7\" ></td>\n",
       "      <td id=\"T_682d4_row1_col8\" class=\"data row1 col8\" ></td>\n",
       "    </tr>\n",
       "    <tr>\n",
       "      <th id=\"T_682d4_level0_row2\" class=\"row_heading level0 row2\" >2</th>\n",
       "      <td id=\"T_682d4_row2_col0\" class=\"data row2 col0\" >Selected Completion</td>\n",
       "      <td id=\"T_682d4_row2_col1\" class=\"data row2 col1\" > and</td>\n",
       "      <td id=\"T_682d4_row2_col2\" class=\"data row2 col2\" > with</td>\n",
       "      <td id=\"T_682d4_row2_col3\" class=\"data row2 col3\" ></td>\n",
       "      <td id=\"T_682d4_row2_col4\" class=\"data row2 col4\" ></td>\n",
       "      <td id=\"T_682d4_row2_col5\" class=\"data row2 col5\" ></td>\n",
       "      <td id=\"T_682d4_row2_col6\" class=\"data row2 col6\" ></td>\n",
       "      <td id=\"T_682d4_row2_col7\" class=\"data row2 col7\" ></td>\n",
       "      <td id=\"T_682d4_row2_col8\" class=\"data row2 col8\" ></td>\n",
       "    </tr>\n",
       "  </tbody>\n",
       "</table>\n"
      ],
      "text/plain": [
       "<pandas.io.formats.style.Styler at 0x26682245f90>"
      ]
     },
     "metadata": {},
     "output_type": "display_data"
    }
   ],
   "source": [
    "prompt = \"Transformers are the\"\n",
    "generate_top_p_sampling(model, tokenizer, prompt, max_length=8, top_p=0.9, temperature=0.7)"
   ]
  },
  {
   "cell_type": "markdown",
   "metadata": {},
   "source": [
    "### Summary of the Decoding Methods\n",
    "\n",
    "Here's a summary table comparing **various LLM decoding strategies**, their **typical use cases**, and **strengths and weaknesses**.\n",
    "\n",
    "\n",
    "Got it! I've updated the table to **exclude `early_stopping`**, and we’ll address it separately when demonstrating the strategies with HuggingFace models in the next section.\n",
    "\n",
    "\n",
    "\n",
    "| **Decoding Strategy** | **Typical Use Cases**                          | **Typical Parameters**                        | **Strengths**                           | **Weaknesses**                         |\n",
    "|-----------------------|------------------------------------------------|---------------------------------------------|----------------------------------------|---------------------------------------|\n",
    "| **Greedy Search**     | - Closed-form tasks (e.g., QA, summarization)  <br> - Code generation with deterministic results | `max_length=256`  | - Fast and efficient <br> - Produces consistent, coherent output | - Prone to repetition <br> - Lacks diversity and creativity |\n",
    "| **Beam Search**       | - Machine translation <br> - Summarization <br> - Text completion where coherence is critical | `num_beams=4` <br> `max_length=256` | - High coherence <br> - Balances quality vs. diversity <br> - Returns multiple candidates | - Computationally expensive <br> - May produce bland or repetitive outputs |\n",
    "| **Top-k Sampling**    | - Creative writing <br> - Dialog systems <br> - Story generation <br> - Poetry | `top_k=50` <br> `temperature=0.8` <br> `max_length=256` | - Encourages diversity <br> - Limits randomness by sampling from top-k tokens | - May still produce low-quality outputs <br> - Quality highly dependent on \\( k \\) |\n",
    "| **Top-p Sampling (Nucleus Sampling)** | - Conversational AI <br> - Creative writing <br> - Dialogue generation | `top_p=0.9` <br> `temperature=0.7` <br> `max_length=256` | - High diversity <br> - More flexible than Top-k by adjusting cumulative probability | - May generate irrelevant or incoherent text if \\( p \\) is too high |\n",
    "| **Temperature Scaling** (Usually combined with other strategies) | - Adjusting randomness across tasks <br> - Balancing creativity and coherence | `temperature=0.7` (for creative tasks) <br> `temperature=0.1` (for factual tasks) | - Can fine-tune creativity by adjusting temperature | - Poor choice of temperature can degrade performance (e.g., too low = deterministic, too high = chaotic) |\n",
    "\n",
    "\n"
   ]
  },
  {
   "cell_type": "markdown",
   "metadata": {},
   "source": [
    "## **7. Decoding Strategies with Local and API-based Models**\n",
    "\n",
    "*You should go through this section.  You'll have related homework questions.*\n",
    "\n",
    "#### L11_1_Local_and_API_Decoding Video\n",
    "\n",
    "<iframe \n",
    "    src=\"https://media.uwex.edu/content/ds/ds776/ds776_l11_1_local_and_api_decoding/\" \n",
    "    width=\"800\" \n",
    "    height=\"450\" \n",
    "    style=\"border: 5px solid cyan;\"  \n",
    "    allowfullscreen>\n",
    "</iframe>\n",
    "<br>\n",
    "<a href=\"https://media.uwex.edu/content/ds/ds776/ds776_l11_1_local_and_api_decoding/\" target=\"_blank\">Open UWEX version of video in new tab</a>\n",
    "<br>\n",
    "<a href=\"https://share.descript.com/view/dE6w75y0Wo1\" target=\"_blank\">Open Descript version of video in new tab</a>\n",
    "\n",
    "In this section we'll demonstrate how to implement the various decoding methods with local and API-based models.  Watch the video below to get an explanation of the code in the next cell.\n",
    "\n",
    "**Note:** We're not using chat roles or chat_template here to keep things simple, but you can.  You'd likely want to clean the output to display only the new output.  We demonstrated this in Section 5 above."
   ]
  },
  {
   "cell_type": "code",
   "execution_count": 35,
   "metadata": {},
   "outputs": [
    {
     "name": "stdout",
     "output_type": "stream",
     "text": [
      "Model and tokenizer loaded successfully.\n",
      "\n",
      "Demonstrating Greedy Search...\n",
      "\n",
      "Transformers are the ultimate symbol of childhood wonder and excitement. Who wouldn't want to\n",
      "transform into a robot, a car, or a plane? But what if I told you that there's a way to bring the\n",
      "magic of Transformers to your own\n",
      "\n",
      "Demonstrating Beam Search...\n",
      "\n",
      "Transformers are the ultimate shape-shifters, able to change their form to adapt to any situation.\n",
      "But what if they could take it to the next level? What if they could not only change their shape,\n",
      "but also their very essence?\n",
      "\n",
      "In\n",
      "\n",
      "Demonstrating Top-k Sampling...\n",
      "\n",
      "Transformers are the ultimate heroes in the Transformers franchise, and they're here to help you in\n",
      "your battles. Here are some of the most iconic Transformers:\n",
      "\n",
      "**Autobots**\n",
      "\n",
      "1. **Optimus Prime**: The leader of the Autob\n",
      "\n",
      "Demonstrating Top-p Sampling...\n",
      "\n",
      "Transformers are the latest innovation in robotics and artificial intelligence (AI) research, and\n",
      "their development has the potential to revolutionize various industries and fields. Here's a brief\n",
      "overview of the latest advancements in Transformers:\n",
      "\n",
      "### What are Transformers?\n",
      "\n",
      "Transformers\n",
      "\n",
      "All decoding methods demonstrated successfully.\n"
     ]
    }
   ],
   "source": [
    "# Load the model and tokenizer (UNCOMMENT if don't already have them loaded)\n",
    "# model_name  = \"unsloth/Llama-3.2-3B-Instruct-unsloth-bnb-4bit\"\n",
    "# tokenizer = AutoTokenizer.from_pretrained(model_name)\n",
    "# model = AutoModelForCausalLM.from_pretrained(model_name, device_map='auto')\n",
    "\n",
    "# Initial prompt\n",
    "prompt = 'Transformers are the'\n",
    "input_ids = tokenizer(prompt, return_tensors='pt').input_ids.to(model.device)\n",
    "\n",
    "print('Model and tokenizer loaded successfully.')\n",
    "\n",
    "# Function to generate text\n",
    "def generate_text(input_ids,**kwargs):\n",
    "    output = model.generate(input_ids, **kwargs)\n",
    "    generated_text = tokenizer.decode(output[0], skip_special_tokens=True)\n",
    "    print(generated_text)\n",
    "\n",
    "# Greedy Search\n",
    "print('\\nDemonstrating Greedy Search...\\n')\n",
    "generate_text(\n",
    "    input_ids,\n",
    "    max_length=50,\n",
    "    do_sample=False,  # Ensures deterministic output\n",
    "    temperature=None,  # Greedy search does not use temperature, set to None to avoid warning\n",
    "    top_p = None,  # Greedy search does not use top-p, set to None to avoid warning\n",
    ")\n",
    "# equal to model.generate(input_ids, max_length=50, do_sample=False, temperature=None, top_p=None)\n",
    "\n",
    "\n",
    "# Beam Search\n",
    "print('\\nDemonstrating Beam Search...\\n')\n",
    "generate_text(\n",
    "    input_ids, \n",
    "    max_length=50, \n",
    "    do_sample=False, # Ensures deterministic output\n",
    "    num_beams=4,  # Number of beams for beam search\n",
    "    early_stopping=True,  # Stops generation when the model predicts an end token\n",
    "    temperature=None,  # Beam search does not use temperature, set to None to avoid warning\n",
    "    top_p = None  # Beam search does not use top-p, set to None to avoid warning\n",
    ")\n",
    "\n",
    "# Top-k Sampling\n",
    "print('\\nDemonstrating Top-k Sampling...\\n')\n",
    "generate_text(\n",
    "    input_ids,\n",
    "    max_length=50,\n",
    "    do_sample=True,   # Enables sampling\n",
    "    top_k=50,         # Limits sampling to the top 50 tokens by probability\n",
    "    temperature=0.8\n",
    ")\n",
    "\n",
    "# Top-p Sampling\n",
    "print('\\nDemonstrating Top-p Sampling...\\n')\n",
    "generate_text(\n",
    "    input_ids,\n",
    "    max_length=50,\n",
    "    do_sample=True,\n",
    "    top_p=0.9,        # Samples from the smallest set of tokens with cumulative probability >= 0.9\n",
    "    temperature=0.7\n",
    ")\n",
    "\n",
    "print('\\nAll decoding methods demonstrated successfully.')\n"
   ]
  },
  {
   "cell_type": "markdown",
   "metadata": {},
   "source": [
    "Now let's turn our attention to API-based models.\n",
    "\n",
    "API-based models typically only allow greedy decoding, top-p sampling, and temperature adjustment.  To get greeding decoding with using an openai API (which is pretty much universal at this point) just set temperature to zero.  This is normally done by adding the the desired parameters to the call for chat.complete.create.  For example, if wanted greedy decoding with a Gemini model"
   ]
  },
  {
   "cell_type": "code",
   "execution_count": 36,
   "metadata": {},
   "outputs": [
    {
     "name": "stdout",
     "output_type": "stream",
     "text": [
      "Transformers are the **foundation of many modern artificial intelligence models, particularly in the\n",
      "field of natural language processing (NLP)**. They are a type of neural network architecture that\n",
      "has revolutionized how we process and understand language.\n",
      "\n",
      "Here's a breakdown of what\n"
     ]
    }
   ],
   "source": [
    "# Initialize the Gemini API client\n",
    "client = OpenAI(\n",
    "    api_key=os.getenv(\"GEMINI_API_KEY\"),\n",
    "    base_url=\"https://generativelanguage.googleapis.com/v1beta/openai/\"\n",
    ")\n",
    "\n",
    "# Define conversation with chat roles\n",
    "conversation = [\n",
    "    {\"role\": \"system\", \"content\": \"You are a helpful assistant.\"},\n",
    "    {\"role\": \"user\", \"content\": \"Transformers are the\"}\n",
    "]\n",
    "\n",
    "# Make the API request\n",
    "try:\n",
    "    response = client.chat.completions.create(\n",
    "        model=\"gemini-2.0-flash-lite\",\n",
    "        messages=conversation,\n",
    "        max_tokens = 50,  # Limit the response length to 50 tokens\n",
    "        temperature=0.0,  # Set temperature to 0 for deterministic output (greedy search)\n",
    "    )\n",
    "    print(response.choices[0].message.content)\n",
    "except Exception as e:\n",
    "    print(f\"Error: {e}\")\n"
   ]
  },
  {
   "cell_type": "markdown",
   "metadata": {},
   "source": [
    "You could use code like below to build a `generate_text` function that allows you to try different decoding strategies with an API-based model."
   ]
  },
  {
   "cell_type": "code",
   "execution_count": 37,
   "metadata": {},
   "outputs": [],
   "source": [
    "# Initialize the Gemini API client\n",
    "client = OpenAI(\n",
    "    api_key=os.getenv(\"GEMINI_API_KEY\"),\n",
    "    base_url=\"https://generativelanguage.googleapis.com/v1beta/openai/\"\n",
    ")\n",
    "\n",
    "# Function to generate text using various decoding strategies\n",
    "def generate_text(user_prompt, model, temperature=1.0,  top_p=None, max_tokens=50):\n",
    "    # Prepare the conversation using the chat_template structure\n",
    "    conversation = [\n",
    "        {\"role\": \"system\", \"content\": \"You are a helpful assistant.\"},\n",
    "        {\"role\": \"user\", \"content\": user_prompt}\n",
    "    ]\n",
    "\n",
    "    # Prepare the request payload\n",
    "    payload = {\n",
    "        \"model\": model,\n",
    "        \"messages\": conversation,\n",
    "        \"temperature\": temperature,\n",
    "        \"max_tokens\": max_tokens\n",
    "    }\n",
    "\n",
    "    # Add top_p if specified\n",
    "    if top_p is not None:\n",
    "        payload[\"top_p\"] = top_p\n",
    "\n",
    "    # Send the request to the Groq API\n",
    "    try:\n",
    "        chat_completion = client.chat.completions.create(**payload)\n",
    "        result = chat_completion.choices[0].message.content\n",
    "        print(result)\n",
    "    except Exception as e:\n",
    "        print(f\"Error generating text: {e}\")\n"
   ]
  },
  {
   "cell_type": "markdown",
   "metadata": {},
   "source": [
    "Now we'll demonstrate a couple of different strategies with our Gemini model:"
   ]
  },
  {
   "cell_type": "code",
   "execution_count": 38,
   "metadata": {},
   "outputs": [
    {
     "name": "stdout",
     "output_type": "stream",
     "text": [
      "\n",
      "Demonstrating Greedy Search...\n",
      "\n",
      "Transformers are the **foundation of many modern artificial intelligence models, particularly in the\n",
      "field of natural language processing (NLP)**. They are a type of neural network architecture that\n",
      "has revolutionized how we process and understand text, and are also being applied to other areas\n",
      "\n",
      "Demonstrating top_p Search...\n",
      "\n",
      "Transformers are the **foundation of many modern artificial intelligence models, especially in the\n",
      "field of natural language processing (NLP).**\n",
      "\n",
      "Here's a more detailed breakdown:\n",
      "\n",
      "*   **Architecture:** Transformers are a type of neural network architecture. They are\n"
     ]
    }
   ],
   "source": [
    "prompt = \"Transformers are the\"\n",
    "\n",
    "print('\\nDemonstrating Greedy Search...\\n')\n",
    "generate_text(\n",
    "    user_prompt = prompt,\n",
    "    model = \"gemini-2.0-flash-lite\",\n",
    "    max_tokens=50,\n",
    "    temperature=0.0 # OpenAI API uses temperature=0.0 to simulate greedy search\n",
    "    # Note: OpenAI API does not have a direct 'do_sample' parameter, greedy search is simulated by setting temperature=0.0\n",
    ")\n",
    "\n",
    "print('\\nDemonstrating top_p Search...\\n')\n",
    "generate_text(\n",
    "    user_prompt=prompt,\n",
    "    model=\"gemini-2.0-flash-lite\",\n",
    "    temperature=0.7,\n",
    "    top_p=0.9,  # Top-p sampling with cumulative probability of 0.9\n",
    "    max_tokens=50\n",
    ")"
   ]
  },
  {
   "cell_type": "markdown",
   "metadata": {},
   "source": [
    "## 8.  Adapting LLMs for Specialized Use\n",
    "\n",
    "*This section is for background.  If your organization gets into LLMs you'll very likely be exploring both of the methods below.**\n",
    "\n",
    "Whether for data security concerns or for specialized products it's often necessary to customize an LLM.  There are two main approaches for adapting them to specialized tasks: **fine-tuning** and **retrieval-augmented generation (RAG)**.\n",
    "\n",
    "We aren't going to cover the details in this course, but this will give you enough to get started in a search to learn more.\n",
    "\n",
    "#### Fine-Tuning\n",
    "\n",
    "Fine-tuning involves training an already pre-trained LLM on a specific dataset to make it more effective for a specialized task. This can include tasks like **sentiment analysis, named entity recognition, or custom dialogue systems**.\n",
    "\n",
    "A common approach to fine-tuning involves **training all the model’s parameters**, but this can be resource-intensive. More efficient methods include:\n",
    "\n",
    "- **Adapters:** Lightweight modules inserted into the model’s architecture to learn task-specific adjustments without modifying the original model weights. They significantly reduce computational and storage costs while maintaining high performance. Adapters can be particularly useful when fine-tuning large models on smaller datasets.\n",
    "\n",
    "For more on fine-tuning and adapters, see:\n",
    "- [Hugging Face Course on Fine-Tuning](https://huggingface.co/course/chapter11/1?fw=pt)\n",
    "- [Adapters Package Documentation](https://adapterhub.ml/)\n",
    "\n",
    "#### Retrieval-Augmented Generation (RAG)\n",
    "\n",
    "RAG enhances LLMs by allowing them to access **external sources of knowledge** during inference. Instead of relying solely on the model’s fixed knowledge, RAG systems:\n",
    "\n",
    "1. **Retrieve** relevant documents or information from a database or search index.\n",
    "2. **Generate** a response conditioned on both the prompt and the retrieved documents.\n",
    "\n",
    "RAG is especially useful when the model needs access to **up-to-date or domain-specific information** that was not part of its training data.\n",
    "\n",
    "For more on RAG, see:\n",
    "- [Hugging Face RAG Documentation](https://huggingface.co/transformers/model_doc/rag.html)\n",
    "- [LangChain's RAG Page](https://python.langchain.com/docs/concepts/rag/) - many links here\n"
   ]
  },
  {
   "cell_type": "code",
   "execution_count": 2,
   "metadata": {},
   "outputs": [
    {
     "name": "stdout",
     "output_type": "stream",
     "text": [
      "Approximation of log(0.9): -0.105000\n",
      "Exact value of log(0.9): -0.105361\n",
      "Difference: 3.605157e-04\n"
     ]
    }
   ],
   "source": [
    "import numpy as np\n",
    "approx = (.9-1) - .5*(.9-1)**2\n",
    "exact = np.log(.9)\n",
    "print(f\"Approximation of log(0.9): {approx:.6f}\")\n",
    "print(f\"Exact value of log(0.9): {exact:.6f}\")  \n",
    "print(f\"Difference: {abs(approx - exact):.6e}\")"
   ]
  },
  {
   "cell_type": "code",
   "execution_count": 4,
   "metadata": {},
   "outputs": [
    {
     "data": {
      "text/plain": [
       "1.202264434617413"
      ]
     },
     "execution_count": 4,
     "metadata": {},
     "output_type": "execute_result"
    }
   ],
   "source": [
    "10**(.08)"
   ]
  },
  {
   "cell_type": "code",
   "execution_count": 5,
   "metadata": {},
   "outputs": [
    {
     "data": {
      "text/plain": [
       "3.3820595175173526e-15"
      ]
     },
     "execution_count": 5,
     "metadata": {},
     "output_type": "execute_result"
    }
   ],
   "source": [
    "1.2 * (10**(-9.7))**1.5"
   ]
  }
 ],
 "metadata": {
  "kernelspec": {
   "display_name": "DS776_env_v2",
   "language": "python",
   "name": "python3"
  },
  "language_info": {
   "codemirror_mode": {
    "name": "ipython",
    "version": 3
   },
   "file_extension": ".py",
   "mimetype": "text/x-python",
   "name": "python",
   "nbconvert_exporter": "python",
   "pygments_lexer": "ipython3",
   "version": "3.10.16"
  }
 },
 "nbformat": 4,
 "nbformat_minor": 2
}
