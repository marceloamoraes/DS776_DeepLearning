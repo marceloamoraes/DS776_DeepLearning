{
 "cells": [
  {
   "cell_type": "markdown",
   "metadata": {},
   "source": [
    "## Lesson 11: Text Generation and Decoding Strategies\n",
    "\n",
    "### Topics\n",
    "* Overview of transformer-based text generation\n",
    "* Decoding strategies: Greedy search, beam search, top-k sampling, and nucleus sampling\n",
    "* Applications of text generation in NLP\n",
    "\n",
    "### Outcomes\n",
    "\n",
    "1. **Explain Text Generation Basics**: Describe how transformer models like GPT-2 generate text, and identify common applications of text generation, such as chatbots, content creation, and automated summarization.\n",
    "   \n",
    "2. **Use Decoding Strategies**: Implement and compare different decoding methods (e.g., greedy search, beam search, top-k sampling, nucleus sampling) to observe how each affects text generation quality.\n",
    "\n",
    "3. **Evaluate Generated Text**: Assess the quality of generated text, discussing trade-offs in coherence, creativity, and relevance with different decoding strategies.\n",
    "\n",
    "4. **Identify Real-World Applications**: Explain practical uses of text generation in industries like customer service, media, and content creation, understanding the strengths and limitations of transformer-based text generation.\n",
    "\n",
    "### Readings and Videos\n",
    "* Read *Chapter 5: Text Generation* and pages 148-156 about metrics in *Natural Language Processing with Transformers*\n",
    "* **Course Notebooks with Videos**: Open each notebook in the Lesson_11 directory and watch the embedded videos in the recommended order.\n",
    "\n",
    "### Assessments\n",
    "1. Complete the reading quiz in Canvas (10 points).\n",
    "2. Complete the exercises in your homework notebook in CoCalc (40 points).\n",
    "\n",
    "### Homework Ideas\n",
    "\n",
    "1. **Experiment with Different Decoding Methods**: In a notebook, students can use a model like GPT-2 to generate text using various decoding strategies (e.g., beam search, top-k sampling, nucleus sampling). They should document the output quality for each method, comparing coherence, relevance, and creativity.\n",
    "\n",
    "2. **Build a Simple Response Generator**: Guide students to create a basic chatbot or response generator using a pre-trained text generation model. They can experiment with prompt variations and decoding strategies to create engaging and contextually relevant responses for specific user inputs.\n",
    "\n",
    "3. **Analyze Decoding Trade-offs**: Have students experiment with decoding hyperparameters (e.g., beam width, top-k values) on a small dataset. They can analyze and document how adjustments affect the generated text's diversity, accuracy, and readability, providing insights into the practical trade-offs of each decoding strategy."
   ]
  },
  {
   "cell_type": "markdown",
   "metadata": {},
   "source": []
  }
 ],
 "metadata": {
  "language_info": {
   "name": "python"
  }
 },
 "nbformat": 4,
 "nbformat_minor": 2
}
