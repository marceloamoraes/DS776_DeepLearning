{
 "cells": [
  {
   "cell_type": "code",
   "execution_count": 0,
   "id": "16cd81",
   "metadata": {
    "collapsed": false
   },
   "outputs": [
   ],
   "source": [
   ]
  },
  {
   "cell_type": "markdown",
   "id": "292d63",
   "metadata": {
    "collapsed": false
   },
   "source": [
    "## Course Tools Notebook\n",
    "\n",
    "This notebook consolidates some tools you can use for freeing up disk space and installing or updating the class `introdl` package."
   ]
  },
  {
   "cell_type": "markdown",
   "id": "e81e74",
   "metadata": {
    "collapsed": false
   },
   "source": [
    "### Update or Install Course Package\n",
    "\n",
    "Just run the following cell.  It doesn't hurt to run it even if the package is up to date.  Note, you may need to restart the kernel in this or any other notebook (if it's already running) to load the newest version of the package."
   ]
  },
  {
   "cell_type": "code",
   "execution_count": 0,
   "id": "36cae2",
   "metadata": {
    "collapsed": false
   },
   "outputs": [
   ],
   "source": [
    "!pip install introdl"
   ]
  },
  {
   "cell_type": "markdown",
   "id": "57c480",
   "metadata": {
    "collapsed": false
   },
   "source": [
    "### Freeing Up Diskspace\n",
    "\n",
    "There are three places that have files you don't really need to save for longer than the duration of the current assignment you're completing.  These are:\n",
    "\n",
    "* **home_workspace** - this directory contains model checkpoints, datasets, and pretrained model weights for things you ran on the homeserver (mostly from the earliest assignments).  This folder is synced between the home server and the computer servers.  There's not much need to save these things after the assignment has already been submitted and graded.  Removing the data here does not affect your Homework or Lessons folders.\n",
    "* **cs_workspace** - this directory exists separately on each of your compute servers and is where we try to save model checkpoints, datasets, and pretrained model weights.  It does not synchronize with the home server.  Again, there's no need to keep this stuff after an assignment has been submitted and graded. \n",
    "* **Hugging Face Cache** - this directory exists separately in both home and compute servers and is located at '~/.cache/huggingface/hub'.  It's where Hugging Face caches every model you download.  This seems to be biggest consumer of disk space as we play with NLP models.  **NOTE:** If you update the course package then the cache will be in '~/home_workspace/downloads' for a home server and '~/cs_workspace/downloads' on a compute server.  You can then clean it with the instructions below for those directories.\n",
    "\n",
    "**NOTE:**  Removing files from these directories does not affect your Homework or Lessons folders.  You can always rerun those notebooks to reproduce the results in the future so you don't really need to save all the old checkpoint files.\n",
    "\n",
    "**NOTE 2:**  If you're running on your own machine, you've likely set up things differently, but I'll trust that you can sort it out :)\n"
   ]
  },
  {
   "cell_type": "markdown",
   "id": "498ae4",
   "metadata": {
    "collapsed": false
   },
   "source": [
    "#### Clear home_workspace\n",
    "\n",
    "Changes made to this directory will be synced between your home server and each of your compute servers.\n",
    "\n",
    "If you'd prefer to be more selective about what you remove, use the Explorer in CoCalc to remove files.  The only files use should consider keeping are checkpoint files save in home_workspace/models.  Everything else is easily downloaded when needed.\n",
    "\n",
    "Run the cell below to remove all the checkpoint files, datasets, pre-trained model weights, and also restore the original directory structure in home_workspace.  You can run this code from either the home server or a compute server. "
   ]
  },
  {
   "cell_type": "code",
   "execution_count": 2,
   "id": "c52a93",
   "metadata": {
    "collapsed": false
   },
   "outputs": [
    {
     "name": "stdout",
     "output_type": "stream",
     "text": [
      "Cleared all contents inside: /home/user/home_workspace\n",
      "Created: /home/user/home_workspace/data\n",
      "Created: /home/user/home_workspace/downloads\n",
      "Created: /home/user/home_workspace/models\n"
     ]
    }
   ],
   "source": [
    "import os\n",
    "from pathlib import Path\n",
    "\n",
    "# Resolve the full path to ~/home_workspace\n",
    "workspace_path = Path(\"~/home_workspace\").expanduser().resolve()\n",
    "\n",
    "# Ensure the directory exists before proceeding\n",
    "if workspace_path.exists() and workspace_path.is_dir():\n",
    "    # Remove all contents inside ~/home_workspace using os commands\n",
    "    for item in workspace_path.iterdir():\n",
    "        item_path = str(item)  # Convert Path to string for os commands\n",
    "        if item.is_file():\n",
    "            os.remove(item_path)  # Remove file\n",
    "        elif item.is_dir():\n",
    "            os.system(f\"rm -rf {item_path}\")  # Remove directory and its contents\n",
    "\n",
    "    print(f\"Cleared all contents inside: {workspace_path}\")\n",
    "\n",
    "    # Create new subdirectories using os\n",
    "    for subdir in [\"data\", \"downloads\", \"models\"]:\n",
    "        new_dir = workspace_path / subdir\n",
    "        os.makedirs(new_dir, exist_ok=True)\n",
    "        print(f\"Created: {new_dir}\")\n",
    "\n",
    "else:\n",
    "    print(f\"Directory does not exist: {workspace_path}\")\n"
   ]
  },
  {
   "cell_type": "markdown",
   "id": "881b4a",
   "metadata": {
    "collapsed": false
   },
   "source": [
    "#### Clear cs_workspace (must be on compute server)\n",
    "\n",
    "This works the same as clearing home_workspace, but you must run this code on each compute server because this folder is not synced between servers.  Again you can be more selective by using Explorer running on the compute server.  The only files use should consider keeping are checkpoint files save in home_workspace/models.  Everything else is easily downloaded when needed.\n",
    "\n",
    "Run the cell below to remove all the checkpoint files, datasets, pre-trained model weights, and also restore the original directory structure in cs_workspace.  You can run this code from either the home server or a compute server. "
   ]
  },
  {
   "cell_type": "code",
   "execution_count": 3,
   "id": "135c2e",
   "metadata": {
    "collapsed": false
   },
   "outputs": [
    {
     "name": "stdout",
     "output_type": "stream",
     "text": [
      "Cleared all contents inside: /home/user/cs_workspace\n",
      "Created: /home/user/cs_workspace/data\n",
      "Created: /home/user/cs_workspace/downloads\n",
      "Created: /home/user/cs_workspace/models\n"
     ]
    }
   ],
   "source": [
    "import os\n",
    "from pathlib import Path\n",
    "\n",
    "# Resolve the full path to ~/home_workspace\n",
    "workspace_path = Path(\"~/cs_workspace\").expanduser().resolve()\n",
    "\n",
    "# Ensure the directory exists before proceeding\n",
    "if workspace_path.exists() and workspace_path.is_dir():\n",
    "    # Remove all contents inside ~/home_workspace using os commands\n",
    "    for item in workspace_path.iterdir():\n",
    "        item_path = str(item)  # Convert Path to string for os commands\n",
    "        if item.is_file():\n",
    "            os.remove(item_path)  # Remove file\n",
    "        elif item.is_dir():\n",
    "            os.system(f\"rm -rf {item_path}\")  # Remove directory and its contents\n",
    "\n",
    "    print(f\"Cleared all contents inside: {workspace_path}\")\n",
    "\n",
    "    # Create new subdirectories using os\n",
    "    for subdir in [\"data\", \"downloads\", \"models\"]:\n",
    "        new_dir = workspace_path / subdir\n",
    "        os.makedirs(new_dir, exist_ok=True)\n",
    "        print(f\"Created: {new_dir}\")\n",
    "\n",
    "else:\n",
    "    print(f\"Directory does not exist: {workspace_path}\")\n"
   ]
  },
  {
   "cell_type": "markdown",
   "id": "aa9809",
   "metadata": {
    "collapsed": false
   },
   "source": [
    "#### Clear the Hugging Face Cache\n",
    "\n",
    "Run the cell below.  Be careful about making changes to the path because you don't want to accidentally delete the wrong files. (It's permanent.)  Even if you update the course package so the cache is in one of your workspace directories, this will remove any older cached models."
   ]
  },
  {
   "cell_type": "code",
   "execution_count": 1,
   "id": "d5daf1",
   "metadata": {
    "collapsed": false
   },
   "outputs": [
    {
     "name": "stdout",
     "output_type": "stream",
     "text": [
      "Removed: /home/user/.cache/huggingface/hub\n"
     ]
    }
   ],
   "source": [
    "import os\n",
    "from pathlib import Path\n",
    "\n",
    "# Resolve the full path\n",
    "folder_path = Path(\"~/.cache/huggingface/hub\").expanduser().resolve()\n",
    "\n",
    "# Ensure the folder exists before attempting deletion\n",
    "if folder_path.exists():\n",
    "    os.system(f\"rm -rf {folder_path}\")\n",
    "    print(f\"Removed: {folder_path}\")\n",
    "else:\n",
    "    print(f\"Folder does not exist: {folder_path}\")\n"
   ]
  },
  {
   "cell_type": "markdown",
   "id": "abb89c",
   "metadata": {
    "collapsed": false
   },
   "source": [
    "#### Remove Datasets and Models from Other Folders\n",
    "\n",
    "Use the Explorer on either a home or compute server and look for datasets or model files.  You can delete these.  Running your notebook again will download the necessary files.  For example, many of you created copies of the Flowers102 dataset in your Homework_05 folder (use DATA_PATH as the root directory for all torchvision datasets).  You can delete those copies."
   ]
  },
  {
   "cell_type": "markdown",
   "id": "98dfca",
   "metadata": {
    "collapsed": false
   },
   "source": [
    "### Reset Your Compute Server\n",
    "\n",
    "* Click the servers button on the left side of CoCalc.\n",
    "* Click the Compute Servers tab\n",
    "* Click settings on the computer server you wish to reset.\n",
    "* Click Deprovision at the bottom of the popup window and agree to terms.\n",
    "* Restart the server.  Wait several minutes.\n",
    "* Make sure this notebook is running on the compute server (use the button at the top labeled Server).\n",
    "* Run the cell at the top of the notebook to reinstall the course package."
   ]
  },
  {
   "cell_type": "code",
   "execution_count": 0,
   "id": "1e7d78",
   "metadata": {
    "collapsed": false
   },
   "outputs": [
   ],
   "source": [
   ]
  }
 ],
 "metadata": {
  "kernelspec": {
   "argv": [
    "/usr/bin/python3",
    "-m",
    "ipykernel",
    "--HistoryManager.enabled=False",
    "--matplotlib=inline",
    "-c",
    "%config InlineBackend.figure_formats = set(['retina'])\nimport matplotlib; matplotlib.rcParams['figure.figsize'] = (12, 7)",
    "-f",
    "{connection_file}"
   ],
   "display_name": "Python 3 (system-wide)",
   "env": {
   },
   "language": "python",
   "metadata": {
    "cocalc": {
     "description": "Python 3 programming language",
     "priority": 100,
     "url": "https://www.python.org/"
    }
   },
   "name": "python3",
   "resource_dir": "/ext/jupyter/kernels/python3"
  },
  "language_info": {
   "codemirror_mode": {
    "name": "ipython",
    "version": 3
   },
   "file_extension": ".py",
   "mimetype": "text/x-python",
   "name": "python",
   "nbconvert_exporter": "python",
   "pygments_lexer": "ipython3",
   "version": "3.10.12"
  }
 },
 "nbformat": 4,
 "nbformat_minor": 4
}