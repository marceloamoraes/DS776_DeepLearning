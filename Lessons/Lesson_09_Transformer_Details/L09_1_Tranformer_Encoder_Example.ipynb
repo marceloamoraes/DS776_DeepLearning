{
 "cells": [
  {
   "cell_type": "markdown",
   "metadata": {},
   "source": [
    "# Transformer Encoder Learns Math\n",
    "\n",
    "In this notebook we'll teach a simple tranformer encoder to predict the signs of sums specified as sequences of strings.\n",
    "\n",
    "For example \"plus four minus seven minus three\" which represents the \"+4+7-3\" would be labeled as positive and \"minus five plus seven minus eight\" would be labeled as non-positive.  We don't label it as \"negative\" because we're going to count zero as non-positive to give us a binary classification problem.\n",
    "\n",
    "We'll generate thousands of samples for training.  What's remarkable is that a transformer encoder model with single-head attention and two transformer layers can learn to classify these sums with nearly 100% accuracy without having any knowledge of the underlying math.  \n",
    "\n",
    "Moreover the simplicity of this example allows us to build the model from scratch and to be able to inspect the attention weights to see how transformer is \"thinking.\"  "
   ]
  },
  {
   "cell_type": "markdown",
   "metadata": {},
   "source": [
    "## Imports"
   ]
  },
  {
   "cell_type": "code",
   "execution_count": 1,
   "metadata": {},
   "outputs": [
    {
     "name": "stderr",
     "output_type": "stream",
     "text": [
      "c:\\Users\\bagge\\miniforge-pypy3\\envs\\DS776env\\Lib\\site-packages\\introdl\\idlmam\\idlmam.py:16: TqdmExperimentalWarning: Using `tqdm.autonotebook.tqdm` in notebook mode. Use `tqdm.tqdm` instead to force console mode (e.g. in jupyter console)\n",
      "  from tqdm.autonotebook import tqdm\n"
     ]
    },
    {
     "name": "stdout",
     "output_type": "stream",
     "text": [
      "MODELS_PATH=C:\\Users\\bagge\\My Drive\\Python_Projects\\DS776_Develop_Project\\models\n",
      "DATA_PATH=C:\\Users\\bagge\\My Drive\\Python_Projects\\DS776_Develop_Project\\data\n",
      "TORCH_HOME=C:\\Users\\bagge\\My Drive\\Python_Projects\\DS776_Develop_Project\\downloads\n",
      "HF_HOME=C:\\Users\\bagge\\My Drive\\Python_Projects\\DS776_Develop_Project\\downloads\n",
      "HF_HUB_CACHE=C:\\Users\\bagge\\My Drive\\Python_Projects\\DS776_Develop_Project\\downloads\n"
     ]
    },
    {
     "name": "stderr",
     "output_type": "stream",
     "text": [
      "Note: Environment variable`HF_TOKEN` is set and is the current active token independently from the token you've just configured.\n"
     ]
    },
    {
     "name": "stdout",
     "output_type": "stream",
     "text": [
      "Successfully logged in to Hugging Face Hub.\n"
     ]
    }
   ],
   "source": [
    "# imports and configuration\n",
    "\n",
    "import numpy as np\n",
    "import seaborn as sns\n",
    "import matplotlib.pyplot as plt\n",
    "import pandas as pd\n",
    "import math\n",
    "from IPython.display import display\n",
    "\n",
    "from sklearn.metrics import accuracy_score\n",
    "from sklearn.metrics import confusion_matrix, ConfusionMatrixDisplay\n",
    "\n",
    "import torch\n",
    "import torch.nn as nn\n",
    "import torch.nn.functional as F\n",
    "import torch.optim as optim\n",
    "from torch.utils.data import DataLoader, Dataset\n",
    "\n",
    "from viz_functions import visualize_positional_encodings, display_attention\n",
    "from viz_functions import plot_attention_weights, plot_attention_weights_widget\n",
    "\n",
    "from introdl.utils import get_device, load_results, load_model, config_paths_keys\n",
    "from introdl.idlmam import train_network\n",
    "from introdl.visul import plot_training_metrics\n",
    "\n",
    "paths = config_paths_keys()\n",
    "MODELS_PATH = paths['MODELS_PATH']\n",
    "DATA_PATH = paths['DATA_PATH']\n",
    "\n",
    "sns.set_theme(style='whitegrid')\n",
    "plt.rcParams['figure.figsize'] = [8, 6]  # Set the default figure size (width, height) in inches"
   ]
  },
  {
   "cell_type": "markdown",
   "metadata": {},
   "source": [
    "## Data Generation and DataLoaders\n",
    "\n",
    "We're going to generate sequences like 'plus seven plus three minus five plus one minus two plus six' and labels that represent whether the mathematical sum of the sequence is positive.  We'll assign a label of \"1\" for a sum > 0, and a label of \"0\" for a sum <= 0.  Each sequence can contain from 1 to 20 numbers.\n",
    "\n",
    "#### L09_1_The_Dataset Video\n",
    "\n",
    "<iframe \n",
    "    src=\"https://media.uwex.edu/content/ds/ds776/ds776_l09_1_the_dataset/\" \n",
    "    width=\"800\" \n",
    "    height=\"450\" \n",
    "    style=\"border: 5px solid cyan;\"  \n",
    "    allowfullscreen>\n",
    "</iframe>\n",
    "<br>\n",
    "<a href=\"https://media.uwex.edu/content/ds/ds776/ds776_l09_1_the_dataset/\" target=\"_blank\">Open UWEX version of video in new tab</a>\n",
    "<br>\n",
    "<a href=\"https://share.descript.com/view/nslMrf6MIOT\" target=\"_blank\">Open Descript version of video in new tab</a>\n"
   ]
  },
  {
   "cell_type": "code",
   "execution_count": 2,
   "metadata": {},
   "outputs": [],
   "source": [
    "class ArithmeticSequenceDataset(Dataset):\n",
    "    \"\"\"\n",
    "    A PyTorch Dataset class for generating and handling arithmetic sequences.\n",
    "    Attributes:\n",
    "        num_samples (int): The number of samples in the dataset.\n",
    "        max_length (int): The maximum number of digits in each sequence.\n",
    "        num_map (dict): A dictionary mapping number words to their integer values.\n",
    "        total_positive (int): The total number of sequences with a positive sum.\n",
    "        correct_dominant_sign (int): The number of sequences where the dominant sign matches the label.\n",
    "        data (list): A list of generated arithmetic sequences.\n",
    "        labels (list): A list of labels corresponding to the sequences.\n",
    "    Methods:\n",
    "        __init__(num_samples, max_length=20, seed=None):\n",
    "            Initializes the dataset with the given number of samples and maximum sequence length.\n",
    "        generate_dataset(num_samples, max_length):\n",
    "            Generates a dataset of arithmetic sequences and their corresponding labels.\n",
    "        __len__():\n",
    "            Returns the number of samples in the dataset.\n",
    "        __getitem__(idx):\n",
    "            Returns the sequence and label at the specified index.\n",
    "    \"\"\"\n",
    "\n",
    "    def __init__(self, num_samples, max_length=20, seed=None):\n",
    "        np.random.seed(seed)\n",
    "        self.num_samples = num_samples\n",
    "        self.max_length = max_length\n",
    "        self.num_map = {\n",
    "            \"zero\": 0, \"one\": 1, \"two\": 2, \"three\": 3, \"four\": 4,\n",
    "            \"five\": 5, \"six\": 6, \"seven\": 7, \"eight\": 8, \"nine\": 9\n",
    "        }\n",
    "        self.total_positive = 0\n",
    "        self.correct_dominant_sign = 0\n",
    "        self.data, self.labels = self.generate_dataset(num_samples, max_length)\n",
    "\n",
    "    def generate_dataset(self, num_samples, max_length):\n",
    "        operators = [\"plus\", \"minus\"]\n",
    "        digits = list(self.num_map.keys())  # Including \"zero\"\n",
    "        sequences = []\n",
    "        labels = []\n",
    "        unique_sequences = set()\n",
    "\n",
    "        while len(sequences) < num_samples:\n",
    "            # Generate a random sequence\n",
    "            length = np.random.randint(1, max_length + 1)\n",
    "            numbers = np.random.choice(digits, length, replace=True)\n",
    "            ops = np.random.choice(operators, length, replace=True)\n",
    "            sequence = \" \".join([f\"{op} {num}\" for op, num in zip(ops, numbers)])\n",
    "            \n",
    "            # Ensure uniqueness\n",
    "            if sequence in unique_sequences:\n",
    "                continue  # Skip and regenerate if not unique\n",
    "\n",
    "            unique_sequences.add(sequence)\n",
    "\n",
    "            # Calculate the sum\n",
    "            sum_numbers = np.sum([\n",
    "                self.num_map[num] if op == \"plus\" else -self.num_map[num] \n",
    "                for op, num in zip(ops, numbers)\n",
    "            ])\n",
    "            label = int(sum_numbers > 0)  # Return integers 0 or 1\n",
    "            self.total_positive += label\n",
    "\n",
    "            # Track dominant sign correctness\n",
    "            plus_count = sum(ops==\"plus\")\n",
    "            minus_count = sum(ops==\"minus\")\n",
    "            dominant_sign = 1 if plus_count > minus_count else 0\n",
    "            if dominant_sign == label:\n",
    "                self.correct_dominant_sign += 1\n",
    "\n",
    "            # Store the sequence and label\n",
    "            sequences.append(sequence)\n",
    "            labels.append(label)\n",
    "        \n",
    "        return sequences, labels\n",
    "\n",
    "    def __len__(self):\n",
    "        return self.num_samples\n",
    "\n",
    "    def __getitem__(self, idx):\n",
    "        return self.data[idx], self.labels[idx]\n"
   ]
  },
  {
   "cell_type": "code",
   "execution_count": 3,
   "metadata": {},
   "outputs": [],
   "source": [
    "num_samples = 20000\n",
    "dataset = ArithmeticSequenceDataset(num_samples, 10, seed=42)\n",
    "torch.manual_seed(42)\n",
    "train_size = int(0.8 * num_samples)\n",
    "test_size = num_samples - train_size\n",
    "train_dataset, valid_dataset = torch.utils.data.random_split(dataset, [train_size, test_size])"
   ]
  },
  {
   "cell_type": "markdown",
   "metadata": {},
   "source": [
    "Let's see a few examples:"
   ]
  },
  {
   "cell_type": "code",
   "execution_count": 4,
   "metadata": {},
   "outputs": [
    {
     "name": "stdout",
     "output_type": "stream",
     "text": [
      "('plus seven plus three minus five plus one minus two plus six', 1)\n",
      "('plus four plus eight minus zero plus four plus six minus four', 1)\n",
      "('minus six plus seven minus four', 0)\n"
     ]
    }
   ],
   "source": [
    "for i in range(3):\n",
    "    print(valid_dataset[i])"
   ]
  },
  {
   "cell_type": "markdown",
   "metadata": {},
   "source": [
    "## Tokenization\n",
    "\n",
    "#### L09_1_Tokenization Video\n",
    "\n",
    "<iframe \n",
    "    src=\"https://media.uwex.edu/content/ds/ds776/ds776_l09_1_tokenization/\" \n",
    "    width=\"800\" \n",
    "    height=\"450\" \n",
    "    style=\"border: 5px solid cyan;\"  \n",
    "    allowfullscreen>\n",
    "</iframe>\n",
    "<br>\n",
    "<a href=\"https://media.uwex.edu/content/ds/ds776/ds776_l09_1_tokenization/\" target=\"_blank\">Open UWEX version of video in new tab</a>\n",
    "<br>\n",
    "<a href=\"https://share.descript.com/view/9Ks93yP0F6W\" target=\"_blank\">Open Descript version of video in new tab</a>\n",
    "\n",
    "To use these sequences to train a transformer model we need to add some special tokens: \"&lt;CLS&gt;\" and \"&lt;PAD&gt;\".  The \"&lt;CLS&gt;\", or classifier, token will be prepended to each sequence.  The transformed output corresponding to the \"&lt;CLS&gt;\" token is what is passed to the final classification layer of our model.  The \"&lt;PAD&gt;\" token is used to add padding to the sequences in each batch to make all sequences the same length as the longest sequence in the batch.  This is needed so that the model can process sequences in parallel.  We instruct the model to ignore the \"&lt;PAD&gt;\" tokens in its computations."
   ]
  },
  {
   "cell_type": "code",
   "execution_count": 5,
   "metadata": {},
   "outputs": [],
   "source": [
    "# <PAD> token must be 0 in our vocabulary \n",
    "vocab = {\n",
    "    \"<PAD>\": 0, \"<CLS>\": 1, \"plus\": 2, \"minus\": 3,\n",
    "    \"zero\": 4, \"one\": 5, \"two\": 6, \"three\": 7, \"four\": 8,\n",
    "    \"five\": 9, \"six\": 10, \"seven\": 11, \"eight\": 12, \"nine\": 13\n",
    "}\n",
    "\n",
    "# custom collate function\n",
    "def pad_batch(batch):\n",
    "    \"\"\"\n",
    "    Pads a batch of sequences to the same length and converts them to tensor format.\n",
    "    Args:\n",
    "        batch (list of tuples): A list of tuples where each tuple contains a sequence (str) and a label (int).\n",
    "    Returns:\n",
    "        tuple: A tuple containing:\n",
    "            - torch.Tensor: A tensor of padded sequences with shape (batch_size, max_length + 1).\n",
    "            - torch.Tensor: A tensor of labels with shape (batch_size,).\n",
    "    Note:\n",
    "        - Each sequence is tokenized by splitting on whitespace.\n",
    "        - A special token '<CLS>' is added at the beginning of each sequence.\n",
    "        - Sequences are padded with the '<PAD>' token to match the length of the longest sequence in the batch.\n",
    "        - The `vocab` dictionary is used to convert tokens to their corresponding indices.\n",
    "    \"\"\"\n",
    "\n",
    "    sequences, labels = zip(*batch)\n",
    "    max_length = max(len(seq.split()) for seq in sequences)\n",
    "    padded_sequences = []\n",
    "    for seq in sequences:\n",
    "        tokens = ['<CLS>'] + seq.split()\n",
    "        padded = [vocab[token] for token in tokens] + [vocab[\"<PAD>\"]] * (max_length + 1 - len(tokens))\n",
    "        padded_sequences.append(padded)\n",
    "    return torch.tensor(padded_sequences), torch.tensor(labels)\n",
    "\n",
    "train_loader = DataLoader(train_dataset, batch_size=100, shuffle=True, collate_fn=pad_batch)\n",
    "valid_loader = DataLoader(valid_dataset, batch_size=100, shuffle=False, collate_fn=pad_batch)"
   ]
  },
  {
   "cell_type": "markdown",
   "metadata": {},
   "source": [
    "Let's use `pad_batch` to tokenize and pad the first three sequences from the validation set.  Here are those sequences again:"
   ]
  },
  {
   "cell_type": "code",
   "execution_count": 6,
   "metadata": {},
   "outputs": [
    {
     "name": "stdout",
     "output_type": "stream",
     "text": [
      "('plus seven plus three minus five plus one minus two plus six', 1)\n",
      "('plus four plus eight minus zero plus four plus six minus four', 1)\n",
      "('minus six plus seven minus four', 0)\n"
     ]
    }
   ],
   "source": [
    "for i in range(3):\n",
    "    print(valid_dataset[i])"
   ]
  },
  {
   "cell_type": "markdown",
   "metadata": {},
   "source": [
    "Now here they are after tokenization and padding:"
   ]
  },
  {
   "cell_type": "code",
   "execution_count": 7,
   "metadata": {},
   "outputs": [
    {
     "data": {
      "text/plain": [
       "(tensor([[ 1,  2, 11,  2,  7,  3,  9,  2,  5,  3,  6,  2, 10],\n",
       "         [ 1,  2,  8,  2, 12,  3,  4,  2,  8,  2, 10,  3,  8],\n",
       "         [ 1,  3, 10,  2, 11,  3,  8,  0,  0,  0,  0,  0,  0]]),\n",
       " tensor([1, 1, 0]))"
      ]
     },
     "execution_count": 7,
     "metadata": {},
     "output_type": "execute_result"
    }
   ],
   "source": [
    "small_batch = [valid_dataset[i] for i in range(3)]\n",
    "padded_batch = pad_batch(small_batch)\n",
    "padded_batch\n"
   ]
  },
  {
   "cell_type": "markdown",
   "metadata": {},
   "source": [
    "Notice that each tokenized sequence begins with 1 which is the numerical value of the \"&lt;CLS&gt;\" token.   The next token is a 2 or 3 for \"plus\" and \"minus\", repsectively.  The numbers 4-13 represent the digits 0 through 9.   Note that the last sequence is shorter so gets padded with 0 tokens which will be ignored by our models."
   ]
  },
  {
   "cell_type": "markdown",
   "metadata": {},
   "source": [
    "## Embeddings"
   ]
  },
  {
   "cell_type": "markdown",
   "metadata": {},
   "source": [
    "#### L09_1_Embeddings Video\n",
    "\n",
    "<iframe \n",
    "    src=\"https://media.uwex.edu/content/ds/ds776/ds776_l09_1_embeddings/\" \n",
    "    width=\"800\" \n",
    "    height=\"450\" \n",
    "    style=\"border: 5px solid cyan;\"  \n",
    "    allowfullscreen>\n",
    "</iframe>\n",
    "<br>\n",
    "<a href=\"https://media.uwex.edu/content/ds/ds776/ds776_l09_1_embeddings/\" target=\"_blank\">Open UWEX version of video in new tab</a>\n",
    "<br>\n",
    "<a href=\"https://share.descript.com/view/2kQfyzbVYL9\" target=\"_blank\">Open Descript version of video in new tab</a>\n",
    "\n",
    "In any transformer architecture the numerical tokens are converted into vectors called embeddings at the beginning of the model.  The values in these vectors are learned through the model training.  We have to choose how long each embedding vector will be.  That length is called the embedding_dimnension.  Learnable embeddings are easy to create in Pytorch.\n",
    "\n",
    "Here we create an embedding layer that maps sequences from a vocabulary of size 14 to vectors of length 16.  "
   ]
  },
  {
   "cell_type": "code",
   "execution_count": 8,
   "metadata": {},
   "outputs": [
    {
     "data": {
      "text/plain": [
       "torch.Size([3, 13, 16])"
      ]
     },
     "execution_count": 8,
     "metadata": {},
     "output_type": "execute_result"
    }
   ],
   "source": [
    "embed_dim = 16\n",
    "vocab_size = len(vocab) # 14\n",
    "embedding_layer = nn.Embedding(vocab_size, embed_dim)\n",
    "embeddings = embedding_layer(padded_batch[0])\n",
    "embeddings.shape"
   ]
  },
  {
   "cell_type": "markdown",
   "metadata": {},
   "source": [
    "We can inspect the embedding of the first sequence in our small batch.  This is the representation of '&lt;CLS&gt; plus seven plus three minus five plus one minus two plus six' before it goes through the transformer layers."
   ]
  },
  {
   "cell_type": "code",
   "execution_count": 9,
   "metadata": {},
   "outputs": [
    {
     "data": {
      "text/plain": [
       "tensor([[ 0.8369, -0.8633, -1.5713,  0.5664,  0.0865,  0.8255,  0.3623, -1.1215,\n",
       "          0.3635, -0.1056,  0.9589,  0.8936,  0.8743, -1.7092, -0.2742, -0.8631],\n",
       "        [-0.9093, -0.7726,  0.3469, -0.3571, -0.6095,  0.3605, -0.8189,  1.0898,\n",
       "         -1.2832,  1.5626, -0.9732,  1.0730, -2.0888, -1.7766,  0.2693,  0.8466],\n",
       "        [ 0.4739,  0.2438, -0.9863,  0.2487, -1.1114,  1.3589,  1.9481,  0.8827,\n",
       "          0.3252,  1.9964, -0.9571, -0.4201, -0.1126, -0.4846,  2.7983,  0.0166],\n",
       "        [-0.9093, -0.7726,  0.3469, -0.3571, -0.6095,  0.3605, -0.8189,  1.0898,\n",
       "         -1.2832,  1.5626, -0.9732,  1.0730, -2.0888, -1.7766,  0.2693,  0.8466],\n",
       "        [-0.8076,  1.1369, -0.1228, -0.5656,  0.5939, -0.5811,  0.1357,  0.2790,\n",
       "          0.2493,  0.7065,  0.3244, -0.9336,  0.4035,  1.8694, -0.6093, -0.2967],\n",
       "        [-0.1857, -0.8620,  0.3571,  2.0496,  0.7243, -0.8240,  0.4119,  0.8887,\n",
       "          0.3870,  0.6372, -1.6996,  1.3361,  1.6373,  0.9134,  1.0054,  0.9127],\n",
       "        [ 0.5818,  1.1513,  0.6410,  0.6010,  0.7706, -1.3450, -0.1495, -0.6274,\n",
       "         -0.3136, -1.0788,  0.2326,  1.5595,  0.2076, -0.4481,  0.1686,  0.0214],\n",
       "        [-0.9093, -0.7726,  0.3469, -0.3571, -0.6095,  0.3605, -0.8189,  1.0898,\n",
       "         -1.2832,  1.5626, -0.9732,  1.0730, -2.0888, -1.7766,  0.2693,  0.8466],\n",
       "        [-2.2206, -0.1591,  0.5079, -0.2598,  1.5108, -1.1681,  0.8791,  0.1115,\n",
       "         -0.4151, -0.1280,  0.6001, -0.0916, -2.0696,  0.5834,  1.2676,  2.0658],\n",
       "        [-0.1857, -0.8620,  0.3571,  2.0496,  0.7243, -0.8240,  0.4119,  0.8887,\n",
       "          0.3870,  0.6372, -1.6996,  1.3361,  1.6373,  0.9134,  1.0054,  0.9127],\n",
       "        [ 1.0408, -1.2409,  0.1008,  0.6087,  1.0949, -0.6739,  1.1621,  1.1202,\n",
       "          0.6014,  1.4179,  1.2474, -0.3297,  0.6028,  0.6084,  0.3874,  1.4482],\n",
       "        [-0.9093, -0.7726,  0.3469, -0.3571, -0.6095,  0.3605, -0.8189,  1.0898,\n",
       "         -1.2832,  1.5626, -0.9732,  1.0730, -2.0888, -1.7766,  0.2693,  0.8466],\n",
       "        [-0.7372,  0.3701, -1.0297,  0.0140, -0.2083, -1.1175,  0.0689, -0.2811,\n",
       "          1.2681,  1.3787, -0.1720, -1.3166,  0.3852,  1.7484,  0.3513, -0.6817]],\n",
       "       grad_fn=<SliceBackward0>)"
      ]
     },
     "execution_count": 9,
     "metadata": {},
     "output_type": "execute_result"
    }
   ],
   "source": [
    "embeddings[0,:,:]"
   ]
  },
  {
   "cell_type": "markdown",
   "metadata": {},
   "source": [
    "It doesn't look like much.  There are 13 vectors of length 16.  The way embeddings work is that the embedding vector for any particular token, e.g. \"&lt;CLS&gt;\", always maps to the same embedding vector.  The embedding vectors themselves are randomly initialized when the model is instantiated.  During training the embedding vectors are updated until they best represent the information needed for the task at hand."
   ]
  },
  {
   "cell_type": "markdown",
   "metadata": {},
   "source": [
    "## Positional Encoding\n",
    "\n",
    "#### L09_1_Positional_Encodings Video\n",
    "\n",
    "<iframe \n",
    "    src=\"https://media.uwex.edu/content/ds/ds776/ds776_l09_1_positional_encodings/\" \n",
    "    width=\"800\" \n",
    "    height=\"450\" \n",
    "    style=\"border: 5px solid cyan;\"  \n",
    "    allowfullscreen>\n",
    "</iframe>\n",
    "<br>\n",
    "<a href=\"https://media.uwex.edu/content/ds/ds776/ds776_l09_1_positional_encodings/\" target=\"_blank\">Open UWEX version of video in new tab</a>\n",
    "<br>\n",
    "<a href=\"https://share.descript.com/view/nMLBBgM7M5U\" target=\"_blank\">Open Descript version of video in new tab</a>\n",
    "\n",
    "\n",
    "A transformer by itself processes each token a sequence in exactly the same way.  The transformer isn't aware of the position of each token in the sequence.  This is why positional encoding is used in most transformers.  After each token is converted to an embedding vector, a vector unique to the each position is added to the embedding vector.  The only requirement is that the position vector for each position is unique.  We'll use sinusoidal positional encoding as was done in the original transformer paper [\"Attention is All You Need\"](https://arxiv.org/abs/1706.03762), but alternatives include relative positional encoding and learned (trainable) positional encodings.\n",
    "\n",
    "If you want to learn more about positional encoding there are many videos on YouTube.  For example, the video [\"How positional encoding works in transformers\"](https://www.youtube.com/watch?v=T3OT8kqoqjc&ab_channel=BrainDrain) is less than 6 minutes and gives an idea of what is going on though it won't be enough to understand the gritty details.  Don't dive deeply into the details unless you plan on doing research with transformers.\n",
    "\n",
    "The code in the next cell defines a class called PositionalEncoding that builds an object for creating positional encoding vectors with a desired embedding dimension for sequences up to a maximum length.  The details of this code aren't important for now."
   ]
  },
  {
   "cell_type": "code",
   "execution_count": 10,
   "metadata": {},
   "outputs": [],
   "source": [
    "class PositionalEncoding(nn.Module):\n",
    "    \"\"\"\n",
    "    Adds positional encoding to input embeddings to incorporate positional information.\n",
    "    \"\"\"\n",
    "\n",
    "    def __init__(self, d_model, max_len=500):\n",
    "        \"\"\"\n",
    "        Initializes the PositionalEncoding module.\n",
    "\n",
    "        Args:\n",
    "            d_model (int): Dimensionality of the embedding space.\n",
    "            max_len (int): Maximum length of sequences.\n",
    "        \"\"\"\n",
    "        super(PositionalEncoding, self).__init__()\n",
    "        pe = torch.zeros(max_len, d_model)\n",
    "        position = torch.arange(0, max_len, dtype=torch.float).unsqueeze(1)\n",
    "        div_term = torch.exp(torch.arange(0, d_model, 2).float() * -(math.log(10000.0) / d_model))\n",
    "        pe[:, 0::2] = torch.sin(position * div_term)\n",
    "        pe[:, 1::2] = torch.cos(position * div_term)\n",
    "        pe = pe.unsqueeze(0)\n",
    "        self.register_buffer('pe', pe)\n",
    "\n",
    "    def forward(self, x):\n",
    "        \"\"\"\n",
    "        Forward pass for adding positional encoding.\n",
    "\n",
    "        Args:\n",
    "            x (torch.Tensor): Input tensor of shape (batch_size, seq_length, embed_dim).\n",
    "\n",
    "        Returns:\n",
    "            torch.Tensor: Input tensor with positional encoding added.\n",
    "        \"\"\"\n",
    "        return x + self.pe[:, :x.size(1)]"
   ]
  },
  {
   "cell_type": "markdown",
   "metadata": {},
   "source": [
    "Now, as an example, we'll create positional encoding vectors of length 16 for sequences of length up to 40.  Each vector is displayed as a row in the graph below.  The main thing to understand is that each vector is unique so that the transformer can learn positional information during training."
   ]
  },
  {
   "cell_type": "code",
   "execution_count": 11,
   "metadata": {},
   "outputs": [
    {
     "data": {
      "image/png": "[encoded data removed]",
      "text/plain": [
       "<Figure size 600x400 with 2 Axes>"
      ]
     },
     "metadata": {},
     "output_type": "display_data"
    }
   ],
   "source": [
    "# Create a PositionalEncoding instance and visualize\n",
    "embed_dim = 16\n",
    "max_len = 40\n",
    "pos_encoder = PositionalEncoding(embed_dim, max_len=max_len)\n",
    "visualize_positional_encodings(pos_encoder, max_len=max_len, d_model=embed_dim, figsize=(6, 4))\n"
   ]
  },
  {
   "cell_type": "markdown",
   "metadata": {},
   "source": [
    "Now we're ready to see the basics of a transformer encoder model. \n",
    "\n",
    "## Transformer Encoder - Building Blocks\n",
    "\n",
    "We'll discuss the pictures below in a short video.  \n",
    "\n",
    "#### L09_1_Transformer_Layers Video\n",
    "\n",
    "<iframe \n",
    "    src=\"https://media.uwex.edu/content/ds/ds776/ds776_l09_1_transformer_layers/\" \n",
    "    width=\"800\" \n",
    "    height=\"450\" \n",
    "    style=\"border: 5px solid cyan;\"  \n",
    "    allowfullscreen>\n",
    "</iframe>\n",
    "<br>\n",
    "<a href=\"https://media.uwex.edu/content/ds/ds776/ds776_l09_1_transformer_layers/\" target=\"_blank\">Open UWEX version of video in new tab</a>\n",
    "<br>\n",
    "<a href=\"https://share.descript.com/view/gyTRUJ8E9t0\" target=\"_blank\">Open Descript version of video in new tab</a>\n",
    "\n",
    "\n",
    "<img src=\"./pictures/TransformerLayer.png\" alt=\"Transformer Layer\" width=1000>\n",
    "\n",
    "\n",
    "The next picture comes from the book [Understanding Deep Learning](https://udlbook.github.io/udlbook/) which is a great book if you want to really understand the mathematical details of transformer models.  The pdf version of the book is free to download.\n",
    "\n",
    "<img src=\"./pictures/TransformerEncoder.png\" alt=\"Transformer Encoder\" width=1000>"
   ]
  },
  {
   "cell_type": "markdown",
   "metadata": {},
   "source": [
    "## The Self-Attention Layer\n",
    "\n",
    "#### L09_1_Self_Attention Video\n",
    "\n",
    "<iframe \n",
    "    src=\"https://media.uwex.edu/content/ds/ds776/ds776_l09_1_self_attention/\" \n",
    "    width=\"800\" \n",
    "    height=\"450\" \n",
    "    style=\"border: 5px solid cyan;\"  \n",
    "    allowfullscreen>\n",
    "</iframe>\n",
    "<br>\n",
    "<a href=\"https://media.uwex.edu/content/ds/ds776/ds776_l09_1_self_attention/\" target=\"_blank\">Open UWEX version of video in new tab</a>\n",
    "<br>\n",
    "<a href=\"https://share.descript.com/view/3MI1BJeD88j\" target=\"_blank\">Open Descript version of video in new tab</a>\n",
    "\n",
    "\n",
    "Self-attention is what gives transformers the ability to understand context.  A self-attention layer learns from examples what other tokens each token in a sequence should \"attend\" to or \"pay attention\" to in order to establish their meaning.  For example we'll see below that for the sequence 'plus seven plus three minus five plus one minus two plus six' the embedding of each number has to pay attention to the embedding of the 'plus' or 'minus' just before it to establish the meaning of that number in the sequence.\n",
    "\n",
    "If you've read about the attention mechanism in the book or elsewhere you've probably seen the terms query, key, and value in that context.  I find it helpful to understand where those terms come from to navigate those readings:\n",
    "\n",
    "### Queries, Keys, Values, and all that ...\n",
    "\n",
    "These names are inspired by the way data retrieval systems work, such as in databases:\n",
    "\n",
    "- **Queries**: These are like search queries in a database. In the context of attention mechanisms, a query is what you are currently looking at or processing, and you want to find out how much relevance or importance other data points have in relation to this query. For tranformers: *Queries represent the current element (e.g., word or token) in the sequence for which the attention mechanism is trying to compute an output.*\n",
    "\n",
    "- **Keys**: In databases, keys are used to index and retrieve data quickly. In transformers, keys are used to match against the queries. The ability of a key to respond to a query determines how much attention (or computational focus) is given to the corresponding data point (value). For transformers *Keys correspond to all elements in the sequence, against which the query is compared.*\n",
    "\n",
    "- **Values**: These are the actual data stored in the database that you retrieve using the keys. In transformers, values are the pieces of information that are weighted according to the attention determined by the query-key matching and then aggregated to form the output.  For transfomers: *Values are encoded versions of the elements in the sequence.*\n",
    "\n",
    "Now that you're armed with that knowledge let's look the self-attention mechanism in a bit more detail. Here's a short video discussing the self-attention mechanism as depicted below:\n",
    "\n",
    "<img src=\"./pictures/SelfAttention.png\" alt=\"Self-Attention Layer\" width=900>\n",
    "\n",
    "Sometimes, this kind of self-attention is called bidirectional because each output word embedding attends to other embeddings before and after it in the input sequence.  This kind of attention is used in transformer encoder architectures which includes those used for text classification, named entitiy recognition, and vision transformers like you saw briefly in the lesson on tranfer learning.  Transformer encoders are also the first half of \"sequence to sequence\" tranformers that are used in translation and summarization tasks.  In a sequence to sequence transformer the encoder is paired with a decoder transformer.  We'll talk briefly about decoders at the end of this lesson.\n",
    "\n",
    "If you find yourself wanting more details about the self attention calculations I think the video at this site does a great job - https://newsletter.theaiedge.io/p/understanding-the-self-attention.\n"
   ]
  },
  {
   "cell_type": "markdown",
   "metadata": {},
   "source": [
    "## Putting it altogether - A Single Head Tranformer Encoder from Scratch\n",
    "\n",
    "PyTorch has ready made classes for transformers, but we'll implement our own here so see the pieces and how they fit together.  We'll use only single-head attention to keep things simple.  Using our own implementation also makes it simpler to extract the attention weights for inspection after training.\n",
    "\n",
    "Watch the video below to get more details about the code.\n",
    "\n",
    "#### L09_1_Transformer_Encoder Video\n",
    "\n",
    "<iframe \n",
    "    src=\"https://media.uwex.edu/content/ds/ds776/ds776_l09_1_transformer_encoder/\" \n",
    "    width=\"800\" \n",
    "    height=\"450\" \n",
    "    style=\"border: 5px solid cyan;\"  \n",
    "    allowfullscreen>\n",
    "</iframe>\n",
    "<br>\n",
    "<a href=\"https://media.uwex.edu/content/ds/ds776/ds776_l09_1_transformer_encoder/\" target=\"_blank\">Open UWEX version of video in new tab</a>\n",
    "<br>\n",
    "<a href=\"https://share.descript.com/view/Q1Kn21m5RYW\" target=\"_blank\">Open Descript version of video in new tab</a>\n"
   ]
  },
  {
   "cell_type": "code",
   "execution_count": 12,
   "metadata": {},
   "outputs": [],
   "source": [
    "class PositionalEncoding(nn.Module):\n",
    "    \"\"\"\n",
    "    Adds positional encoding to input embeddings to incorporate positional information.\n",
    "    \"\"\"\n",
    "\n",
    "    def __init__(self, d_model, max_len=500):\n",
    "        \"\"\"\n",
    "        Initializes the PositionalEncoding module.\n",
    "\n",
    "        Args:\n",
    "            d_model (int): Dimensionality of the embedding space.\n",
    "            max_len (int): Maximum length of sequences.\n",
    "        \"\"\"\n",
    "        super(PositionalEncoding, self).__init__()\n",
    "        pe = torch.zeros(max_len, d_model)\n",
    "        position = torch.arange(0, max_len, dtype=torch.float).unsqueeze(1)\n",
    "        div_term = torch.exp(torch.arange(0, d_model, 2).float() * -(math.log(10000.0) / d_model))\n",
    "        pe[:, 0::2] = torch.sin(position * div_term)\n",
    "        pe[:, 1::2] = torch.cos(position * div_term)\n",
    "        pe = pe.unsqueeze(0)\n",
    "        self.register_buffer('pe', pe)\n",
    "\n",
    "    def forward(self, x):\n",
    "        \"\"\"\n",
    "        Forward pass for adding positional encoding.\n",
    "\n",
    "        Args:\n",
    "            x (torch.Tensor): Input tensor of shape (batch_size, seq_length, embed_dim).\n",
    "\n",
    "        Returns:\n",
    "            torch.Tensor: Input tensor with positional encoding added.\n",
    "        \"\"\"\n",
    "        return x + self.pe[:, :x.size(1)]\n",
    "\n",
    "class SingleHeadAttention(nn.Module):\n",
    "    \"\"\"\n",
    "    Implements single-head attention for transformer models.\n",
    "    \"\"\"\n",
    "\n",
    "    def __init__(self, embed_dim):\n",
    "        \"\"\"\n",
    "        Initializes the SingleHeadAttention module.\n",
    "\n",
    "        Args:\n",
    "            embed_dim (int): Dimensionality of the embedding space.\n",
    "        \"\"\"\n",
    "        super(SingleHeadAttention, self).__init__()\n",
    "        self.query = nn.Linear(embed_dim, embed_dim)\n",
    "        self.key = nn.Linear(embed_dim, embed_dim)\n",
    "        self.value = nn.Linear(embed_dim, embed_dim)\n",
    "        self.scale = math.sqrt(embed_dim)\n",
    "        self.attention_weights = None\n",
    "\n",
    "    def forward(self, x, mask=None):\n",
    "        \"\"\"\n",
    "        Forward pass for single-head attention.\n",
    "\n",
    "        Args:\n",
    "            x (torch.Tensor): Input tensor of shape (batch_size, seq_length, embed_dim).\n",
    "            mask (torch.Tensor): Mask tensor of shape (batch_size, seq_length, seq_length).\n",
    "\n",
    "        Returns:\n",
    "            torch.Tensor: Output tensor after applying attention.\n",
    "        \"\"\"\n",
    "        Q = self.query(x)  # Shape: (batch_size, seq_length, embed_dim)\n",
    "        K = self.key(x)\n",
    "        V = self.value(x)\n",
    "\n",
    "        attention_scores = torch.matmul(Q, K.transpose(-2, -1)) / self.scale  # Shape: (batch_size, seq_length, seq_length)\n",
    "        if mask is not None:\n",
    "            attention_scores = attention_scores.masked_fill(mask == 0, float('-inf'))\n",
    "\n",
    "        self.attention_weights = F.softmax(attention_scores, dim=-1)  # Shape: (batch_size, seq_length, seq_length)\n",
    "        return torch.matmul(self.attention_weights, V)  # Shape: (batch_size, seq_length, embed_dim)\n",
    "\n",
    "class TransformerLayer(nn.Module):\n",
    "    \"\"\"\n",
    "    A single transformer layer comprising attention, residual connections,\n",
    "    layer normalization, and a feedforward network.\n",
    "    \"\"\"\n",
    "\n",
    "    def __init__(self, embed_dim, hidden_dim):\n",
    "        \"\"\"\n",
    "        Initializes the TransformerLayer.\n",
    "\n",
    "        Args:\n",
    "            embed_dim (int): Dimensionality of the embedding space.\n",
    "            hidden_dim (int): Dimensionality of the hidden layer in the feedforward network.\n",
    "        \"\"\"\n",
    "        super(TransformerLayer, self).__init__()\n",
    "        self.attention = SingleHeadAttention(embed_dim)\n",
    "        self.norm1 = nn.LayerNorm(embed_dim)\n",
    "        self.mlp = nn.Sequential(\n",
    "            nn.Linear(embed_dim, hidden_dim),\n",
    "            nn.ReLU(),\n",
    "            nn.Linear(hidden_dim, embed_dim)\n",
    "        )\n",
    "        self.norm2 = nn.LayerNorm(embed_dim)\n",
    "\n",
    "    def forward(self, x, mask=None):\n",
    "        \"\"\"\n",
    "        Forward pass for the transformer layer.\n",
    "\n",
    "        Args:\n",
    "            x (torch.Tensor): Input tensor of shape (batch_size, seq_length, embed_dim).\n",
    "            mask (torch.Tensor): Mask tensor of shape (batch_size, seq_length, seq_length).\n",
    "\n",
    "        Returns:\n",
    "            torch.Tensor: Output tensor after applying attention and feedforward network.\n",
    "        \"\"\"\n",
    "        attn_output = self.attention(x, mask)  # Shape: (batch_size, seq_length, embed_dim)\n",
    "        x = self.norm1(x + attn_output)\n",
    "        x2 = self.mlp(x)  # Shape: (batch_size, seq_length, embed_dim)\n",
    "        return self.norm2(x + x2)\n",
    "\n",
    "    def get_attention_weights(self):\n",
    "        \"\"\"\n",
    "        Retrieves attention weights.\n",
    "\n",
    "        Returns:\n",
    "            torch.Tensor: Attention weights from the SingleHeadAttention module.\n",
    "        \"\"\"\n",
    "        return self.attention.attention_weights\n",
    "\n",
    "class SingleHeadTransformerEncoder(nn.Module):\n",
    "    \"\"\"\n",
    "    Transformer encoder with single-head attention.\n",
    "    \"\"\"\n",
    "\n",
    "    def __init__(self, vocab_size, embed_dim, hidden_dim, num_classes, num_layers):\n",
    "        \"\"\"\n",
    "        Initializes the SingleHeadTransformerEncoder.\n",
    "\n",
    "        Args:\n",
    "            vocab_size (int): Vocabulary size.\n",
    "            embed_dim (int): Dimensionality of the embedding space.\n",
    "            hidden_dim (int): Dimensionality of the hidden layer in the feedforward network.\n",
    "            num_classes (int): Number of output classes.\n",
    "            num_layers (int): Number of transformer layers.\n",
    "        \"\"\"\n",
    "        super().__init__()\n",
    "        self.embedding = nn.Embedding(vocab_size, embed_dim, padding_idx=0)\n",
    "        self.pos_encoder = PositionalEncoding(embed_dim)\n",
    "        self.transformer_layers = nn.ModuleList([\n",
    "            TransformerLayer(embed_dim, hidden_dim) for _ in range(num_layers)\n",
    "        ])\n",
    "        self.classifier = nn.Linear(embed_dim, num_classes)\n",
    "\n",
    "    def forward(self, x):\n",
    "        \"\"\"\n",
    "        Forward pass for the transformer encoder.\n",
    "\n",
    "        Args:\n",
    "            x (torch.Tensor): Input tensor of token indices.\n",
    "\n",
    "        Returns:\n",
    "            torch.Tensor: Output logits for classification.\n",
    "        \"\"\"\n",
    "        mask = (x != 0).unsqueeze(1).expand(-1, x.size(1), -1)  # Shape: (batch_size, seq_length, seq_length)\n",
    "        x = self.embedding(x)  # Shape: (batch_size, seq_length, embed_dim)\n",
    "        x = self.pos_encoder(x)\n",
    "        for layer in self.transformer_layers:\n",
    "            x = layer(x, mask)\n",
    "        cls_token = x[:, 0, :]  # Shape: (batch_size, embed_dim)\n",
    "        logits = self.classifier(cls_token)  # Shape: (batch_size, num_classes)\n",
    "        return logits\n",
    "\n",
    "    def get_attention_weights(self):\n",
    "        \"\"\"\n",
    "        Retrieves attention weights from all transformer layers.\n",
    "\n",
    "        Returns:\n",
    "            list: List of attention weight tensors, one for each layer.\n",
    "        \"\"\"\n",
    "        return [layer.get_attention_weights() for layer in self.transformer_layers]\n"
   ]
  },
  {
   "cell_type": "markdown",
   "metadata": {},
   "source": [
    "## Train a Model with a Single Transformer Layer\n",
    "\n",
    "Here we'll train our Transformer Encoder with a single transformer layer. Afterward we'll evaluate its performance and visualize the attention weights to see if we can understand what it has learned.\n",
    "\n",
    "#### L09_1_Single_Layer_Encoder Video\n",
    "\n",
    "<iframe \n",
    "    src=\"https://media.uwex.edu/content/ds/ds776/ds776_l09_1_single_layer_encoder/\" \n",
    "    width=\"800\" \n",
    "    height=\"450\" \n",
    "    style=\"border: 5px solid cyan;\"  \n",
    "    allowfullscreen>\n",
    "</iframe>\n",
    "<br>\n",
    "<a href=\"https://media.uwex.edu/content/ds/ds776/ds776_l09_1_single_layer_encoder/\" target=\"_blank\">Open UWEX version of video in new tab</a>\n",
    "<br>\n",
    "<a href=\"https://share.descript.com/view/fPEsDTJMbPQ\" target=\"_blank\">Open Descript version of video in new tab</a>"
   ]
  },
  {
   "cell_type": "code",
   "execution_count": 13,
   "metadata": {},
   "outputs": [
    {
     "name": "stdout",
     "output_type": "stream",
     "text": [
      "cuda\n"
     ]
    }
   ],
   "source": [
    "model = SingleHeadTransformerEncoder(vocab_size=14, embed_dim=16, hidden_dim=64, num_classes=2, num_layers=1)\n",
    "loss_func = nn.CrossEntropyLoss()\n",
    "optimizer = optim.AdamW(model.parameters(),lr=0.003)  # AdamW optimizer, default lr=0.001\n",
    "\n",
    "device = get_device()\n",
    "print(device)\n",
    "model=model.to(device)\n",
    "\n",
    "ckpt_file = MODELS_PATH / 'L09_math_transformer_one_layer.pt'\n",
    "epochs = 20\n",
    "\n",
    "score_funcs = {'ACC':accuracy_score}"
   ]
  },
  {
   "cell_type": "code",
   "execution_count": 14,
   "metadata": {},
   "outputs": [
    {
     "data": {
      "application/vnd.jupyter.widget-view+json": {
       "model_id": "eb2c37a1a1674b7f93840953faa4c713",
       "version_major": 2,
       "version_minor": 0
      },
      "text/plain": [
       "Epoch:   0%|          | 0/20 [00:00<?, ?it/s]"
      ]
     },
     "metadata": {},
     "output_type": "display_data"
    },
    {
     "name": "stdout",
     "output_type": "stream",
     "text": [
      "Early stopping at epoch 12\n"
     ]
    }
   ],
   "source": [
    "results = train_network(model,\n",
    "                        loss_func,\n",
    "                        train_loader,\n",
    "                        device=device,\n",
    "                        val_loader=valid_loader,\n",
    "                        epochs = epochs,\n",
    "                        optimizer = optimizer,\n",
    "                        score_funcs = score_funcs,\n",
    "                        checkpoint_file=ckpt_file,\n",
    "                        early_stop_metric='ACC',\n",
    "                        early_stop_crit='max',\n",
    "                        patience=5)"
   ]
  },
  {
   "cell_type": "code",
   "execution_count": 15,
   "metadata": {},
   "outputs": [
    {
     "data": {
      "image/png": "[encoded data removed]",
      "text/plain": [
       "<Figure size 1000x400 with 2 Axes>"
      ]
     },
     "metadata": {},
     "output_type": "display_data"
    }
   ],
   "source": [
    "results = load_results(MODELS_PATH / 'L09_math_transformer_one_layer.pt')\n",
    "plot_training_metrics(results, [['train loss', 'val loss'], ['train ACC', 'val ACC']])"
   ]
  },
  {
   "cell_type": "markdown",
   "metadata": {},
   "source": [
    "After the first epoch, the model achieves about 82% classification accuracy and never doesn't improve further.  Not coincidentally that is the percentage of sequences in the dataset where we can predict the class as positive if there are more \"plus\" signs than \"minus\" signs.  During the construction of the dataset we counted those sequences and stored them as an attribute."
   ]
  },
  {
   "cell_type": "code",
   "execution_count": 16,
   "metadata": {},
   "outputs": [
    {
     "name": "stdout",
     "output_type": "stream",
     "text": [
      "Percentage of sequences correctly predicted by dominant sign: 82.33\n"
     ]
    }
   ],
   "source": [
    "print(\"Percentage of sequences correctly predicted by dominant sign:\", \n",
    "      100*dataset.correct_dominant_sign/len(dataset) )"
   ]
  },
  {
   "cell_type": "code",
   "execution_count": 17,
   "metadata": {},
   "outputs": [],
   "source": [
    "# reload the model\n",
    "model = SingleHeadTransformerEncoder(vocab_size=14, embed_dim=16, hidden_dim=64, num_classes=2, num_layers=1)\n",
    "model = load_model(model, MODELS_PATH / 'L09_math_transformer_one_layer.pt', device=get_device())"
   ]
  },
  {
   "cell_type": "code",
   "execution_count": 18,
   "metadata": {},
   "outputs": [
    {
     "data": {
      "application/vnd.jupyter.widget-view+json": {
       "model_id": "65912ab8d49d41aa83956b9e61d1b3e1",
       "version_major": 2,
       "version_minor": 0
      },
      "text/plain": [
       "VBox(children=(Dropdown(description='Layer:', options=(0,), value=0), HBox(children=(IntSlider(value=2, contin…"
      ]
     },
     "metadata": {},
     "output_type": "display_data"
    },
    {
     "data": {
      "application/vnd.jupyter.widget-view+json": {
       "model_id": "048121c3e6e146109d4b24738b934c3a",
       "version_major": 2,
       "version_minor": 0
      },
      "text/plain": [
       "Output()"
      ]
     },
     "metadata": {},
     "output_type": "display_data"
    }
   ],
   "source": [
    "plot_attention_weights_widget(model, valid_loader, vocab)"
   ]
  },
  {
   "cell_type": "code",
   "execution_count": 19,
   "metadata": {},
   "outputs": [
    {
     "data": {
      "text/html": [
       "\n",
       "    <script>\n",
       "        if (typeof require === \"undefined\") {\n",
       "            window.require = {config: function(){}};\n",
       "        }\n",
       "        console.log(\"Injected dummy require to avoid require.config error in CoCalc.\");\n",
       "    </script>\n",
       "    "
      ],
      "text/plain": [
       "<IPython.core.display.HTML object>"
      ]
     },
     "metadata": {},
     "output_type": "display_data"
    },
    {
     "data": {
      "text/html": [
       "\n",
       "        <div id=\"bertviz-e6c58b75dd194c428084d1aaa2b9dc25\" style=\"font-family:'Helvetica Neue', Helvetica, Arial, sans-serif;\">\n",
       "            <span style=\"user-select:none\">\n",
       "                Layer: <select id=\"layer\"></select>\n",
       "            </span>\n",
       "            <div id='vis'></div>\n",
       "        </div>\n",
       "    "
      ],
      "text/plain": [
       "<IPython.core.display.HTML object>"
      ]
     },
     "metadata": {},
     "output_type": "display_data"
    },
    {
     "data": {
      "application/javascript": "/**\n * @fileoverview Transformer Visualization D3 javascript code.\n *\n *\n *  Based on: https://github.com/tensorflow/tensor2tensor/blob/master/tensor2tensor/visualization/attention.js\n *\n * Change log:\n *\n * 12/19/18  Jesse Vig   Assorted cleanup. Changed orientation of attention matrices.\n * 12/29/20  Jesse Vig   Significant refactor.\n * 12/31/20  Jesse Vig   Support multiple visualizations in single notebook.\n * 02/06/21  Jesse Vig   Move require config from separate jupyter notebook step\n * 05/03/21  Jesse Vig   Adjust height of visualization dynamically\n * 07/25/21  Jesse Vig   Support layer filtering\n * 03/23/22  Daniel SC   Update requirement URLs for d3 and jQuery (source of bug not allowing end result to be displayed on browsers)\n **/\n\nrequire.config({\n  paths: {\n      d3: 'https://cdnjs.cloudflare.com/ajax/libs/d3/5.7.0/d3.min',\n    jquery: 'https://cdnjs.cloudflare.com/ajax/libs/jquery/2.0.0/jquery.min',\n  }\n});\n\nrequirejs(['jquery', 'd3'], function ($, d3) {\n\n    const params = {\"attention\": [{\"name\": null, \"attn\": [[[[0.09006563574075699, 0.08849070221185684, 0.0451420433819294, 0.08900891244411469, 0.07637195289134979, 0.11510639637708664, 0.023151809349656105, 0.08958343416452408, 0.08635040372610092, 0.11377429217100143, 0.07028064876794815, 0.0952465608716011, 0.017427261918783188], [0.08275526016950607, 0.09413798898458481, 0.06227882206439972, 0.08473823964595795, 0.05727119743824005, 0.0839528813958168, 0.10828013718128204, 0.0931415930390358, 0.08084630221128464, 0.07984817028045654, 0.04059423506259918, 0.0790838822722435, 0.053071264177560806], [0.0722169578075409, 0.05307011678814888, 0.08045179396867752, 0.046026065945625305, 0.06917819380760193, 0.08580735325813293, 0.10928267240524292, 0.07233566045761108, 0.09218253940343857, 0.07941752672195435, 0.06868162006139755, 0.05528191104531288, 0.1160675585269928], [0.07457631081342697, 0.08638572692871094, 0.06957937777042389, 0.07766947150230408, 0.05577849596738815, 0.07095925509929657, 0.14321444928646088, 0.08514199405908585, 0.07786298543214798, 0.06462901830673218, 0.04077054560184479, 0.0706939548254013, 0.08273842185735703], [0.06431541591882706, 0.06044672057032585, 0.09368327260017395, 0.052122171968221664, 0.07279405742883682, 0.08500507473945618, 0.0919099971652031, 0.07908940315246582, 0.08668431639671326, 0.08488138765096664, 0.06806564331054688, 0.061947599053382874, 0.0990549623966217], [0.09701204299926758, 0.07764030247926712, 0.06226567178964615, 0.06850184500217438, 0.09533306211233139, 0.07913705706596375, 0.03937079384922981, 0.08337851613759995, 0.10308034718036652, 0.08586793392896652, 0.08342937380075455, 0.0756278932094574, 0.04935523495078087], [0.06393485516309738, 0.07834980636835098, 0.07849255949258804, 0.06999451667070389, 0.05174970626831055, 0.08528023213148117, 0.09003496915102005, 0.08896854519844055, 0.08002834767103195, 0.07564648985862732, 0.042822353541851044, 0.08145688474178314, 0.11324073374271393], [0.07357470691204071, 0.08419617265462875, 0.07373673468828201, 0.07675229758024216, 0.05674753710627556, 0.07474754005670547, 0.14069858193397522, 0.08529271930456161, 0.0681043341755867, 0.06855481117963791, 0.041072696447372437, 0.07542826980352402, 0.08109357953071594], [0.05191021412611008, 0.0908607468008995, 0.09361244738101959, 0.09475932270288467, 0.07481858134269714, 0.07790830731391907, 0.0734376460313797, 0.07919858396053314, 0.050887394696474075, 0.07112956047058105, 0.07254917919635773, 0.09375642240047455, 0.07517167925834656], [0.08536449819803238, 0.0680135190486908, 0.08203938603401184, 0.061980899423360825, 0.09936674684286118, 0.07117709517478943, 0.044926177710294724, 0.07418420165777206, 0.09218452870845795, 0.0766349583864212, 0.1027786135673523, 0.06735053658485413, 0.07399890571832657], [0.0741456151008606, 0.08381980657577515, 0.06915529817342758, 0.08112753182649612, 0.061893031001091, 0.07946620136499405, 0.08031795918941498, 0.08785539865493774, 0.07421119511127472, 0.07055302709341049, 0.07555385679006577, 0.08931022882461548, 0.07259093225002289], [0.06878341734409332, 0.07803195714950562, 0.07277125120162964, 0.07358457893133163, 0.05836598202586174, 0.0602203831076622, 0.16123755276203156, 0.07377792149782181, 0.06902909278869629, 0.059827759861946106, 0.04904567450284958, 0.06716814637184143, 0.10815633088350296], [0.06283695995807648, 0.07463092356920242, 0.08346725255250931, 0.07370618730783463, 0.04222363978624344, 0.08138664066791534, 0.09950751066207886, 0.08060774207115173, 0.051611125469207764, 0.06682343780994415, 0.05272657796740532, 0.09578120708465576, 0.13469082117080688]]]], \"left_text\": [\"<CLS>\", \"plus\", \"seven\", \"plus\", \"three\", \"minus\", \"five\", \"plus\", \"one\", \"minus\", \"two\", \"plus\", \"six\"], \"right_text\": [\"<CLS>\", \"plus\", \"seven\", \"plus\", \"three\", \"minus\", \"five\", \"plus\", \"one\", \"minus\", \"two\", \"plus\", \"six\"]}], \"default_filter\": \"0\", \"root_div_id\": \"bertviz-e6c58b75dd194c428084d1aaa2b9dc25\", \"layer\": null, \"heads\": null, \"include_layers\": [0]}; // HACK: {\"attention\": [{\"name\": null, \"attn\": [[[[0.09006563574075699, 0.08849070221185684, 0.0451420433819294, 0.08900891244411469, 0.07637195289134979, 0.11510639637708664, 0.023151809349656105, 0.08958343416452408, 0.08635040372610092, 0.11377429217100143, 0.07028064876794815, 0.0952465608716011, 0.017427261918783188], [0.08275526016950607, 0.09413798898458481, 0.06227882206439972, 0.08473823964595795, 0.05727119743824005, 0.0839528813958168, 0.10828013718128204, 0.0931415930390358, 0.08084630221128464, 0.07984817028045654, 0.04059423506259918, 0.0790838822722435, 0.053071264177560806], [0.0722169578075409, 0.05307011678814888, 0.08045179396867752, 0.046026065945625305, 0.06917819380760193, 0.08580735325813293, 0.10928267240524292, 0.07233566045761108, 0.09218253940343857, 0.07941752672195435, 0.06868162006139755, 0.05528191104531288, 0.1160675585269928], [0.07457631081342697, 0.08638572692871094, 0.06957937777042389, 0.07766947150230408, 0.05577849596738815, 0.07095925509929657, 0.14321444928646088, 0.08514199405908585, 0.07786298543214798, 0.06462901830673218, 0.04077054560184479, 0.0706939548254013, 0.08273842185735703], [0.06431541591882706, 0.06044672057032585, 0.09368327260017395, 0.052122171968221664, 0.07279405742883682, 0.08500507473945618, 0.0919099971652031, 0.07908940315246582, 0.08668431639671326, 0.08488138765096664, 0.06806564331054688, 0.061947599053382874, 0.0990549623966217], [0.09701204299926758, 0.07764030247926712, 0.06226567178964615, 0.06850184500217438, 0.09533306211233139, 0.07913705706596375, 0.03937079384922981, 0.08337851613759995, 0.10308034718036652, 0.08586793392896652, 0.08342937380075455, 0.0756278932094574, 0.04935523495078087], [0.06393485516309738, 0.07834980636835098, 0.07849255949258804, 0.06999451667070389, 0.05174970626831055, 0.08528023213148117, 0.09003496915102005, 0.08896854519844055, 0.08002834767103195, 0.07564648985862732, 0.042822353541851044, 0.08145688474178314, 0.11324073374271393], [0.07357470691204071, 0.08419617265462875, 0.07373673468828201, 0.07675229758024216, 0.05674753710627556, 0.07474754005670547, 0.14069858193397522, 0.08529271930456161, 0.0681043341755867, 0.06855481117963791, 0.041072696447372437, 0.07542826980352402, 0.08109357953071594], [0.05191021412611008, 0.0908607468008995, 0.09361244738101959, 0.09475932270288467, 0.07481858134269714, 0.07790830731391907, 0.0734376460313797, 0.07919858396053314, 0.050887394696474075, 0.07112956047058105, 0.07254917919635773, 0.09375642240047455, 0.07517167925834656], [0.08536449819803238, 0.0680135190486908, 0.08203938603401184, 0.061980899423360825, 0.09936674684286118, 0.07117709517478943, 0.044926177710294724, 0.07418420165777206, 0.09218452870845795, 0.0766349583864212, 0.1027786135673523, 0.06735053658485413, 0.07399890571832657], [0.0741456151008606, 0.08381980657577515, 0.06915529817342758, 0.08112753182649612, 0.061893031001091, 0.07946620136499405, 0.08031795918941498, 0.08785539865493774, 0.07421119511127472, 0.07055302709341049, 0.07555385679006577, 0.08931022882461548, 0.07259093225002289], [0.06878341734409332, 0.07803195714950562, 0.07277125120162964, 0.07358457893133163, 0.05836598202586174, 0.0602203831076622, 0.16123755276203156, 0.07377792149782181, 0.06902909278869629, 0.059827759861946106, 0.04904567450284958, 0.06716814637184143, 0.10815633088350296], [0.06283695995807648, 0.07463092356920242, 0.08346725255250931, 0.07370618730783463, 0.04222363978624344, 0.08138664066791534, 0.09950751066207886, 0.08060774207115173, 0.051611125469207764, 0.06682343780994415, 0.05272657796740532, 0.09578120708465576, 0.13469082117080688]]]], \"left_text\": [\"<CLS>\", \"plus\", \"seven\", \"plus\", \"three\", \"minus\", \"five\", \"plus\", \"one\", \"minus\", \"two\", \"plus\", \"six\"], \"right_text\": [\"<CLS>\", \"plus\", \"seven\", \"plus\", \"three\", \"minus\", \"five\", \"plus\", \"one\", \"minus\", \"two\", \"plus\", \"six\"]}], \"default_filter\": \"0\", \"root_div_id\": \"bertviz-e6c58b75dd194c428084d1aaa2b9dc25\", \"layer\": null, \"heads\": null, \"include_layers\": [0]} is a template marker that is replaced by actual params.\n    const TEXT_SIZE = 15;\n    const BOXWIDTH = 110;\n    const BOXHEIGHT = 22.5;\n    const MATRIX_WIDTH = 115;\n    const CHECKBOX_SIZE = 20;\n    const TEXT_TOP = 30;\n\n    console.log(\"d3 version\", d3.version)\n    let headColors;\n    try {\n        headColors = d3.scaleOrdinal(d3.schemeCategory10);\n    } catch (err) {\n        console.log('Older d3 version')\n        headColors = d3.scale.category10();\n    }\n    let config = {};\n    initialize();\n    renderVis();\n\n    function initialize() {\n        config.attention = params['attention'];\n        config.filter = params['default_filter'];\n        config.rootDivId = params['root_div_id'];\n        config.nLayers = config.attention[config.filter]['attn'].length;\n        config.nHeads = config.attention[config.filter]['attn'][0].length;\n        config.layers = params['include_layers']\n\n        if (params['heads']) {\n            config.headVis = new Array(config.nHeads).fill(false);\n            params['heads'].forEach(x => config.headVis[x] = true);\n        } else {\n            config.headVis = new Array(config.nHeads).fill(true);\n        }\n        config.initialTextLength = config.attention[config.filter].right_text.length;\n        config.layer_seq = (params['layer'] == null ? 0 : config.layers.findIndex(layer => params['layer'] === layer));\n        config.layer = config.layers[config.layer_seq]\n\n        let layerEl = $(`#${config.rootDivId} #layer`);\n        for (const layer of config.layers) {\n            layerEl.append($(\"<option />\").val(layer).text(layer));\n        }\n        layerEl.val(config.layer).change();\n        layerEl.on('change', function (e) {\n            config.layer = +e.currentTarget.value;\n            config.layer_seq = config.layers.findIndex(layer => config.layer === layer);\n            renderVis();\n        });\n\n        $(`#${config.rootDivId} #filter`).on('change', function (e) {\n            config.filter = e.currentTarget.value;\n            renderVis();\n        });\n    }\n\n    function renderVis() {\n\n        // Load parameters\n        const attnData = config.attention[config.filter];\n        const leftText = attnData.left_text;\n        const rightText = attnData.right_text;\n\n        // Select attention for given layer\n        const layerAttention = attnData.attn[config.layer_seq];\n\n        // Clear vis\n        $(`#${config.rootDivId} #vis`).empty();\n\n        // Determine size of visualization\n        const height = Math.max(leftText.length, rightText.length) * BOXHEIGHT + TEXT_TOP;\n        const svg = d3.select(`#${config.rootDivId} #vis`)\n            .append('svg')\n            .attr(\"width\", \"100%\")\n            .attr(\"height\", height + \"px\")\n            .style(\"background-color\", \"white\");\n\n        // Display tokens on left and right side of visualization\n        renderText(svg, leftText, true, layerAttention, 0);\n        renderText(svg, rightText, false, layerAttention, MATRIX_WIDTH + BOXWIDTH);\n\n        // Render attention arcs\n        renderAttention(svg, layerAttention);\n\n        // Draw squares at top of visualization, one for each head\n        drawCheckboxes(0, svg, layerAttention);\n    }\n\n    function renderText(svg, text, isLeft, attention, leftPos) {\n\n        const textContainer = svg.append(\"svg:g\")\n            .attr(\"id\", isLeft ? \"left\" : \"right\");\n\n        // Add attention highlights superimposed over words\n        textContainer.append(\"g\")\n            .classed(\"attentionBoxes\", true)\n            .selectAll(\"g\")\n            .data(attention)\n            .enter()\n            .append(\"g\")\n            .attr(\"head-index\", (d, i) => i)\n            .selectAll(\"rect\")\n            .data(d => isLeft ? d : transpose(d)) // if right text, transpose attention to get right-to-left weights\n            .enter()\n            .append(\"rect\")\n            .attr(\"x\", function () {\n                var headIndex = +this.parentNode.getAttribute(\"head-index\");\n                return leftPos + boxOffsets(headIndex);\n            })\n            .attr(\"y\", (+1) * BOXHEIGHT)\n            .attr(\"width\", BOXWIDTH / activeHeads())\n            .attr(\"height\", BOXHEIGHT)\n            .attr(\"fill\", function () {\n                return headColors(+this.parentNode.getAttribute(\"head-index\"))\n            })\n            .style(\"opacity\", 0.0);\n\n        const tokenContainer = textContainer.append(\"g\").selectAll(\"g\")\n            .data(text)\n            .enter()\n            .append(\"g\");\n\n        // Add gray background that appears when hovering over text\n        tokenContainer.append(\"rect\")\n            .classed(\"background\", true)\n            .style(\"opacity\", 0.0)\n            .attr(\"fill\", \"lightgray\")\n            .attr(\"x\", leftPos)\n            .attr(\"y\", (d, i) => TEXT_TOP + i * BOXHEIGHT)\n            .attr(\"width\", BOXWIDTH)\n            .attr(\"height\", BOXHEIGHT);\n\n        // Add token text\n        const textEl = tokenContainer.append(\"text\")\n            .text(d => d)\n            .attr(\"font-size\", TEXT_SIZE + \"px\")\n            .style(\"cursor\", \"default\")\n            .style(\"-webkit-user-select\", \"none\")\n            .attr(\"x\", leftPos)\n            .attr(\"y\", (d, i) => TEXT_TOP + i * BOXHEIGHT);\n\n        if (isLeft) {\n            textEl.style(\"text-anchor\", \"end\")\n                .attr(\"dx\", BOXWIDTH - 0.5 * TEXT_SIZE)\n                .attr(\"dy\", TEXT_SIZE);\n        } else {\n            textEl.style(\"text-anchor\", \"start\")\n                .attr(\"dx\", +0.5 * TEXT_SIZE)\n                .attr(\"dy\", TEXT_SIZE);\n        }\n\n        tokenContainer.on(\"mouseover\", function (d, index) {\n\n            // Show gray background for moused-over token\n            textContainer.selectAll(\".background\")\n                .style(\"opacity\", (d, i) => i === index ? 1.0 : 0.0)\n\n            // Reset visibility attribute for any previously highlighted attention arcs\n            svg.select(\"#attention\")\n                .selectAll(\"line[visibility='visible']\")\n                .attr(\"visibility\", null)\n\n            // Hide group containing attention arcs\n            svg.select(\"#attention\").attr(\"visibility\", \"hidden\");\n\n            // Set to visible appropriate attention arcs to be highlighted\n            if (isLeft) {\n                svg.select(\"#attention\").selectAll(\"line[left-token-index='\" + index + \"']\").attr(\"visibility\", \"visible\");\n            } else {\n                svg.select(\"#attention\").selectAll(\"line[right-token-index='\" + index + \"']\").attr(\"visibility\", \"visible\");\n            }\n\n            // Update color boxes superimposed over tokens\n            const id = isLeft ? \"right\" : \"left\";\n            const leftPos = isLeft ? MATRIX_WIDTH + BOXWIDTH : 0;\n            svg.select(\"#\" + id)\n                .selectAll(\".attentionBoxes\")\n                .selectAll(\"g\")\n                .attr(\"head-index\", (d, i) => i)\n                .selectAll(\"rect\")\n                .attr(\"x\", function () {\n                    const headIndex = +this.parentNode.getAttribute(\"head-index\");\n                    return leftPos + boxOffsets(headIndex);\n                })\n                .attr(\"y\", (d, i) => TEXT_TOP + i * BOXHEIGHT)\n                .attr(\"width\", BOXWIDTH / activeHeads())\n                .attr(\"height\", BOXHEIGHT)\n                .style(\"opacity\", function (d) {\n                    const headIndex = +this.parentNode.getAttribute(\"head-index\");\n                    if (config.headVis[headIndex])\n                        if (d) {\n                            return d[index];\n                        } else {\n                            return 0.0;\n                        }\n                    else\n                        return 0.0;\n                });\n        });\n\n        textContainer.on(\"mouseleave\", function () {\n\n            // Unhighlight selected token\n            d3.select(this).selectAll(\".background\")\n                .style(\"opacity\", 0.0);\n\n            // Reset visibility attributes for previously selected lines\n            svg.select(\"#attention\")\n                .selectAll(\"line[visibility='visible']\")\n                .attr(\"visibility\", null) ;\n            svg.select(\"#attention\").attr(\"visibility\", \"visible\");\n\n            // Reset highlights superimposed over tokens\n            svg.selectAll(\".attentionBoxes\")\n                .selectAll(\"g\")\n                .selectAll(\"rect\")\n                .style(\"opacity\", 0.0);\n        });\n    }\n\n    function renderAttention(svg, attention) {\n\n        // Remove previous dom elements\n        svg.select(\"#attention\").remove();\n\n        // Add new elements\n        svg.append(\"g\")\n            .attr(\"id\", \"attention\") // Container for all attention arcs\n            .selectAll(\".headAttention\")\n            .data(attention)\n            .enter()\n            .append(\"g\")\n            .classed(\"headAttention\", true) // Group attention arcs by head\n            .attr(\"head-index\", (d, i) => i)\n            .selectAll(\".tokenAttention\")\n            .data(d => d)\n            .enter()\n            .append(\"g\")\n            .classed(\"tokenAttention\", true) // Group attention arcs by left token\n            .attr(\"left-token-index\", (d, i) => i)\n            .selectAll(\"line\")\n            .data(d => d)\n            .enter()\n            .append(\"line\")\n            .attr(\"x1\", BOXWIDTH)\n            .attr(\"y1\", function () {\n                const leftTokenIndex = +this.parentNode.getAttribute(\"left-token-index\")\n                return TEXT_TOP + leftTokenIndex * BOXHEIGHT + (BOXHEIGHT / 2)\n            })\n            .attr(\"x2\", BOXWIDTH + MATRIX_WIDTH)\n            .attr(\"y2\", (d, rightTokenIndex) => TEXT_TOP + rightTokenIndex * BOXHEIGHT + (BOXHEIGHT / 2))\n            .attr(\"stroke-width\", 2)\n            .attr(\"stroke\", function () {\n                const headIndex = +this.parentNode.parentNode.getAttribute(\"head-index\");\n                return headColors(headIndex)\n            })\n            .attr(\"left-token-index\", function () {\n                return +this.parentNode.getAttribute(\"left-token-index\")\n            })\n            .attr(\"right-token-index\", (d, i) => i)\n        ;\n        updateAttention(svg)\n    }\n\n    function updateAttention(svg) {\n        svg.select(\"#attention\")\n            .selectAll(\"line\")\n            .attr(\"stroke-opacity\", function (d) {\n                const headIndex = +this.parentNode.parentNode.getAttribute(\"head-index\");\n                // If head is selected\n                if (config.headVis[headIndex]) {\n                    // Set opacity to attention weight divided by number of active heads\n                    return d / activeHeads()\n                } else {\n                    return 0.0;\n                }\n            })\n    }\n\n    function boxOffsets(i) {\n        const numHeadsAbove = config.headVis.reduce(\n            function (acc, val, cur) {\n                return val && cur < i ? acc + 1 : acc;\n            }, 0);\n        return numHeadsAbove * (BOXWIDTH / activeHeads());\n    }\n\n    function activeHeads() {\n        return config.headVis.reduce(function (acc, val) {\n            return val ? acc + 1 : acc;\n        }, 0);\n    }\n\n    function drawCheckboxes(top, svg) {\n        const checkboxContainer = svg.append(\"g\");\n        const checkbox = checkboxContainer.selectAll(\"rect\")\n            .data(config.headVis)\n            .enter()\n            .append(\"rect\")\n            .attr(\"fill\", (d, i) => headColors(i))\n            .attr(\"x\", (d, i) => i * CHECKBOX_SIZE)\n            .attr(\"y\", top)\n            .attr(\"width\", CHECKBOX_SIZE)\n            .attr(\"height\", CHECKBOX_SIZE);\n\n        function updateCheckboxes() {\n            checkboxContainer.selectAll(\"rect\")\n                .data(config.headVis)\n                .attr(\"fill\", (d, i) => d ? headColors(i): lighten(headColors(i)));\n        }\n\n        updateCheckboxes();\n\n        checkbox.on(\"click\", function (d, i) {\n            if (config.headVis[i] && activeHeads() === 1) return;\n            config.headVis[i] = !config.headVis[i];\n            updateCheckboxes();\n            updateAttention(svg);\n        });\n\n        checkbox.on(\"dblclick\", function (d, i) {\n            // If we double click on the only active head then reset\n            if (config.headVis[i] && activeHeads() === 1) {\n                config.headVis = new Array(config.nHeads).fill(true);\n            } else {\n                config.headVis = new Array(config.nHeads).fill(false);\n                config.headVis[i] = true;\n            }\n            updateCheckboxes();\n            updateAttention(svg);\n        });\n    }\n\n    function lighten(color) {\n        const c = d3.hsl(color);\n        const increment = (1 - c.l) * 0.6;\n        c.l += increment;\n        c.s -= increment;\n        return c;\n    }\n\n    function transpose(mat) {\n        return mat[0].map(function (col, i) {\n            return mat.map(function (row) {\n                return row[i];\n            });\n        });\n    }\n\n});",
      "text/plain": [
       "<IPython.core.display.Javascript object>"
      ]
     },
     "metadata": {},
     "output_type": "display_data"
    }
   ],
   "source": [
    "display_attention(0, model, valid_loader, vocab)"
   ]
  },
  {
   "cell_type": "markdown",
   "metadata": {},
   "source": [
    "## Train a Model with Two Transformer Layers\n",
    "\n",
    "By adding a second transformer layer, the model can achieve up to 100% accuracy on the test data!  The first attention layer seems to aggregate the values of the digits and the signs while the second attention layer seems to add the signed values to get the \"<CLS>\" token.\n",
    "\n",
    "#### L09_1_Two_Layer_Encoder Video\n",
    "\n",
    "<iframe \n",
    "    src=\"https://media.uwex.edu/content/ds/ds776/ds776_l09_1_two_layer_encoder/\" \n",
    "    width=\"800\" \n",
    "    height=\"450\" \n",
    "    style=\"border: 5px solid cyan;\"  \n",
    "    allowfullscreen>\n",
    "</iframe>\n",
    "<br>\n",
    "<a href=\"https://media.uwex.edu/content/ds/ds776/ds776_l09_1_two_layer_encoder/\" target=\"_blank\">Open UWEX version of video in new tab</a>\n",
    "<br>\n",
    "<a href=\"https://share.descript.com/view/TWS9kVw2Bjg\" target=\"_blank\">Open Descript version of video in new tab</a>\n"
   ]
  },
  {
   "cell_type": "code",
   "execution_count": 20,
   "metadata": {},
   "outputs": [
    {
     "name": "stdout",
     "output_type": "stream",
     "text": [
      "cuda\n"
     ]
    }
   ],
   "source": [
    "model = SingleHeadTransformerEncoder(vocab_size=14, \n",
    "                                     embed_dim=16, \n",
    "                                     hidden_dim=64, \n",
    "                                     num_classes=2, \n",
    "                                     num_layers=2)\n",
    "loss_func = nn.CrossEntropyLoss()\n",
    "optimizer = optim.AdamW(model.parameters(),lr=0.003)  # AdamW optimizer, default lr=0.001\n",
    "\n",
    "device = get_device()\n",
    "print(device)\n",
    "model=model.to(device)\n",
    "\n",
    "ckpt_file = MODELS_PATH / 'L09_math_transformer_two_layers.pt'\n",
    "epochs = 150\n",
    "\n",
    "score_funcs = {'ACC':accuracy_score}"
   ]
  },
  {
   "cell_type": "code",
   "execution_count": 21,
   "metadata": {},
   "outputs": [
    {
     "data": {
      "application/vnd.jupyter.widget-view+json": {
       "model_id": "45c69b4c30514b75b8abf2b5fa2b830a",
       "version_major": 2,
       "version_minor": 0
      },
      "text/plain": [
       "Epoch:   0%|          | 0/150 [00:00<?, ?it/s]"
      ]
     },
     "metadata": {},
     "output_type": "display_data"
    },
    {
     "name": "stdout",
     "output_type": "stream",
     "text": [
      "Early stopping at epoch 113\n"
     ]
    }
   ],
   "source": [
    "results = train_network(model,\n",
    "                        loss_func,\n",
    "                        train_loader,\n",
    "                        device=device,\n",
    "                        val_loader=valid_loader,\n",
    "                        epochs = epochs,\n",
    "                        optimizer = optimizer,\n",
    "                        score_funcs = score_funcs,\n",
    "                        checkpoint_file=ckpt_file,\n",
    "                        early_stop_metric='ACC',\n",
    "                        early_stop_crit='max',\n",
    "                        patience=20)"
   ]
  },
  {
   "cell_type": "code",
   "execution_count": 22,
   "metadata": {},
   "outputs": [
    {
     "data": {
      "image/png": "[encoded data removed]",
      "text/plain": [
       "<Figure size 1000x400 with 2 Axes>"
      ]
     },
     "metadata": {},
     "output_type": "display_data"
    }
   ],
   "source": [
    "results = load_results(MODELS_PATH / 'L09_math_transformer_two_layers.pt')\n",
    "plot_training_metrics(results, [['train loss', 'val loss'], ['train ACC', 'val ACC']])"
   ]
  },
  {
   "cell_type": "code",
   "execution_count": 23,
   "metadata": {},
   "outputs": [
    {
     "data": {
      "text/html": [
       "<div>\n",
       "<style scoped>\n",
       "    .dataframe tbody tr th:only-of-type {\n",
       "        vertical-align: middle;\n",
       "    }\n",
       "\n",
       "    .dataframe tbody tr th {\n",
       "        vertical-align: top;\n",
       "    }\n",
       "\n",
       "    .dataframe thead th {\n",
       "        text-align: right;\n",
       "    }\n",
       "</style>\n",
       "<table border=\"1\" class=\"dataframe\">\n",
       "  <thead>\n",
       "    <tr style=\"text-align: right;\">\n",
       "      <th></th>\n",
       "      <th>epoch</th>\n",
       "      <th>total time</th>\n",
       "      <th>train loss</th>\n",
       "      <th>val loss</th>\n",
       "      <th>train ACC</th>\n",
       "      <th>val ACC</th>\n",
       "    </tr>\n",
       "  </thead>\n",
       "  <tbody>\n",
       "    <tr>\n",
       "      <th>89</th>\n",
       "      <td>89</td>\n",
       "      <td>64.408044</td>\n",
       "      <td>0.017032</td>\n",
       "      <td>0.006624</td>\n",
       "      <td>0.994062</td>\n",
       "      <td>0.99875</td>\n",
       "    </tr>\n",
       "    <tr>\n",
       "      <th>90</th>\n",
       "      <td>90</td>\n",
       "      <td>65.248568</td>\n",
       "      <td>0.020481</td>\n",
       "      <td>0.015828</td>\n",
       "      <td>0.993375</td>\n",
       "      <td>0.99350</td>\n",
       "    </tr>\n",
       "    <tr>\n",
       "      <th>91</th>\n",
       "      <td>91</td>\n",
       "      <td>65.987700</td>\n",
       "      <td>0.011383</td>\n",
       "      <td>0.011087</td>\n",
       "      <td>0.995938</td>\n",
       "      <td>0.99650</td>\n",
       "    </tr>\n",
       "    <tr>\n",
       "      <th>92</th>\n",
       "      <td>92</td>\n",
       "      <td>66.602846</td>\n",
       "      <td>0.014336</td>\n",
       "      <td>0.012838</td>\n",
       "      <td>0.994000</td>\n",
       "      <td>0.99450</td>\n",
       "    </tr>\n",
       "    <tr>\n",
       "      <th>93</th>\n",
       "      <td>93</td>\n",
       "      <td>67.213819</td>\n",
       "      <td>0.006343</td>\n",
       "      <td>0.000778</td>\n",
       "      <td>0.998000</td>\n",
       "      <td>1.00000</td>\n",
       "    </tr>\n",
       "  </tbody>\n",
       "</table>\n",
       "</div>"
      ],
      "text/plain": [
       "    epoch  total time  train loss  val loss  train ACC  val ACC\n",
       "89     89   64.408044    0.017032  0.006624   0.994062  0.99875\n",
       "90     90   65.248568    0.020481  0.015828   0.993375  0.99350\n",
       "91     91   65.987700    0.011383  0.011087   0.995938  0.99650\n",
       "92     92   66.602846    0.014336  0.012838   0.994000  0.99450\n",
       "93     93   67.213819    0.006343  0.000778   0.998000  1.00000"
      ]
     },
     "execution_count": 23,
     "metadata": {},
     "output_type": "execute_result"
    }
   ],
   "source": [
    "results.tail()"
   ]
  },
  {
   "cell_type": "code",
   "execution_count": 24,
   "metadata": {},
   "outputs": [],
   "source": [
    "# reload the model\n",
    "model = SingleHeadTransformerEncoder(vocab_size=14, embed_dim=16, hidden_dim=64, \n",
    "                                     num_classes=2, num_layers=2)\n",
    "model = load_model(model, MODELS_PATH / 'L09_math_transformer_two_layers.pt', device=get_device())"
   ]
  },
  {
   "cell_type": "code",
   "execution_count": 25,
   "metadata": {},
   "outputs": [
    {
     "data": {
      "application/vnd.jupyter.widget-view+json": {
       "model_id": "67b3909f4bc242bb9df1b5d9e43311a5",
       "version_major": 2,
       "version_minor": 0
      },
      "text/plain": [
       "VBox(children=(Dropdown(description='Layer:', options=(0, 1), value=0), HBox(children=(IntSlider(value=2, cont…"
      ]
     },
     "metadata": {},
     "output_type": "display_data"
    },
    {
     "data": {
      "application/vnd.jupyter.widget-view+json": {
       "model_id": "aa217aebb4aa40d681d25fc42bdef2a1",
       "version_major": 2,
       "version_minor": 0
      },
      "text/plain": [
       "Output()"
      ]
     },
     "metadata": {},
     "output_type": "display_data"
    }
   ],
   "source": [
    "plot_attention_weights_widget(model, valid_loader, vocab)"
   ]
  },
  {
   "cell_type": "code",
   "execution_count": 26,
   "metadata": {},
   "outputs": [
    {
     "data": {
      "text/html": [
       "\n",
       "    <script>\n",
       "        if (typeof require === \"undefined\") {\n",
       "            window.require = {config: function(){}};\n",
       "        }\n",
       "        console.log(\"Injected dummy require to avoid require.config error in CoCalc.\");\n",
       "    </script>\n",
       "    "
      ],
      "text/plain": [
       "<IPython.core.display.HTML object>"
      ]
     },
     "metadata": {},
     "output_type": "display_data"
    },
    {
     "data": {
      "text/html": [
       "\n",
       "        <div id=\"bertviz-4b4c70c7a9dc4eb29b5c464f29f50e8d\" style=\"font-family:'Helvetica Neue', Helvetica, Arial, sans-serif;\">\n",
       "            <span style=\"user-select:none\">\n",
       "                Layer: <select id=\"layer\"></select>\n",
       "            </span>\n",
       "            <div id='vis'></div>\n",
       "        </div>\n",
       "    "
      ],
      "text/plain": [
       "<IPython.core.display.HTML object>"
      ]
     },
     "metadata": {},
     "output_type": "display_data"
    },
    {
     "data": {
      "application/javascript": "/**\n * @fileoverview Transformer Visualization D3 javascript code.\n *\n *\n *  Based on: https://github.com/tensorflow/tensor2tensor/blob/master/tensor2tensor/visualization/attention.js\n *\n * Change log:\n *\n * 12/19/18  Jesse Vig   Assorted cleanup. Changed orientation of attention matrices.\n * 12/29/20  Jesse Vig   Significant refactor.\n * 12/31/20  Jesse Vig   Support multiple visualizations in single notebook.\n * 02/06/21  Jesse Vig   Move require config from separate jupyter notebook step\n * 05/03/21  Jesse Vig   Adjust height of visualization dynamically\n * 07/25/21  Jesse Vig   Support layer filtering\n * 03/23/22  Daniel SC   Update requirement URLs for d3 and jQuery (source of bug not allowing end result to be displayed on browsers)\n **/\n\nrequire.config({\n  paths: {\n      d3: 'https://cdnjs.cloudflare.com/ajax/libs/d3/5.7.0/d3.min',\n    jquery: 'https://cdnjs.cloudflare.com/ajax/libs/jquery/2.0.0/jquery.min',\n  }\n});\n\nrequirejs(['jquery', 'd3'], function ($, d3) {\n\n    const params = {\"attention\": [{\"name\": null, \"attn\": [[[[0.2184358388185501, 0.011256445199251175, 0.1084977239370346, 0.011172863654792309, 0.20825469493865967, 0.011320874094963074, 0.1430450677871704, 0.008084049448370934, 0.11893073469400406, 0.01068940106779337, 0.11905018985271454, 0.0037808718625456095, 0.02748112939298153], [0.02302609011530876, 0.0031977095641195774, 0.961839497089386, 0.00249824533239007, 0.006718945689499378, 1.8279180949321017e-05, 0.0006383509025909007, 1.5963225450832397e-05, 0.002029195660725236, 1.1469874152680859e-05, 5.668234280165052e-06, 8.84281270430165e-09, 6.0252102684899e-07], [0.0014134717639535666, 0.0013017047895118594, 0.07060344517230988, 0.46081632375717163, 0.42952579259872437, 0.00875476747751236, 0.0009466700721532106, 0.00029995525255799294, 0.0033098168205469847, 0.01230701059103012, 0.010531237348914146, 0.0001806568616302684, 9.217696060659364e-06], [0.0010009031975641847, 9.680379662313499e-06, 0.007621648255735636, 0.003808974754065275, 0.9753677248954773, 0.003063311567530036, 0.007313496433198452, 4.1246025830332655e-06, 0.00023436130140908062, 2.2558206183020957e-05, 0.001540282741189003, 4.922851076116785e-06, 8.080018233158626e-06], [5.133271042723209e-05, 3.5804660001304e-06, 0.00027064562891609967, 0.011345834471285343, 0.9459692239761353, 0.019049683585762978, 0.002675927011296153, 1.6276368114631623e-05, 0.0001152170734712854, 0.0002938237157650292, 0.01977071538567543, 0.00042496187961660326, 1.2755646821460687e-05], [0.0016327911289408803, 9.237806807504967e-05, 0.0002224007766926661, 1.1291426744719502e-05, 0.0018571597756817937, 0.004050347022712231, 0.9758986234664917, 0.00913586188107729, 0.00464836647734046, 5.555484676733613e-06, 7.074690074659884e-05, 3.153399666189216e-05, 0.0023428478743880987], [0.004089879337698221, 0.003295938251540065, 0.002741514937952161, 0.0017154896631836891, 0.0009460436995141208, 0.00554968835785985, 0.04332452267408371, 0.5429745316505432, 0.3292308747768402, 0.05252895504236221, 0.006491588428616524, 0.002764997538179159, 0.004345965571701527], [0.04592347517609596, 6.737942021572962e-05, 0.02025160752236843, 7.002009806456044e-05, 0.0006927846698090434, 6.530158134410158e-05, 0.011820857413113117, 0.005764462985098362, 0.8881930112838745, 0.017573615536093712, 0.007753468118607998, 1.8273953173775226e-05, 0.0018058023415505886], [0.02917974255979061, 1.9341325241839513e-05, 0.006202013697475195, 0.00032174456282518804, 0.005016305949538946, 0.000157721689902246, 0.0009755940409377217, 0.0002746523532550782, 0.0939577966928482, 0.16903896629810333, 0.6744287610054016, 0.0028143597301095724, 0.017613032832741737], [0.0005497083184309304, 1.7562273413318508e-08, 4.66193123429548e-05, 1.4139375707600266e-05, 0.007562671788036823, 0.00015024376625660807, 0.0006119819590821862, 7.049964096950134e-06, 0.0036789793521165848, 0.011768513359129429, 0.968093991279602, 0.00221224850974977, 0.005303768441081047], [4.395021278469358e-06, 3.2568672758692685e-10, 1.564538933962467e-07, 2.205780219810549e-06, 0.0018581567564979196, 2.914965443778783e-05, 4.432897640072042e-06, 3.20466533310082e-08, 7.677322173549328e-06, 0.0009782173437997699, 0.986280083656311, 0.009990248829126358, 0.0008452777983620763], [0.0014963812427595258, 8.425579949289386e-07, 2.895057832574821e-06, 1.445234829589026e-07, 4.170674947090447e-05, 0.0001230457128258422, 0.008283259347081184, 0.00037123914808034897, 0.002259381813928485, 0.00033295611501671374, 0.021957939490675926, 0.014162367209792137, 0.9509678483009338], [0.003501421306282282, 8.922431879909709e-05, 3.305650534457527e-05, 4.497011104831472e-06, 5.967033757769968e-06, 5.999069253448397e-05, 0.0005500070401467383, 0.010670735500752926, 0.03161812201142311, 0.07227025181055069, 0.06172521412372589, 0.09330834448337555, 0.7261630892753601]]], [[[0.0864969938993454, 0.2564831078052521, 0.00810049008578062, 0.1079096794128418, 0.008242609910666943, 0.1709434539079666, 0.008029671385884285, 0.051515281200408936, 0.008484759368002415, 0.07319308072328568, 0.008213269524276257, 0.20410685241222382, 0.008280719630420208], [0.0964212715625763, 0.15769241750240326, 0.028035221621394157, 0.09580875188112259, 0.029060760512948036, 0.1740957498550415, 0.027430333197116852, 0.05807958543300629, 0.027841972187161446, 0.10131523013114929, 0.028182510286569595, 0.14828205108642578, 0.027754176408052444], [0.0949818566441536, 0.14095529913902283, 0.04021076112985611, 0.10377553850412369, 0.04082674905657768, 0.12158458679914474, 0.04054482653737068, 0.07750117033720016, 0.040841251611709595, 0.09153851121664047, 0.04066626727581024, 0.12596899271011353, 0.040604181587696075], [0.09630575776100159, 0.17753662168979645, 0.02082967385649681, 0.09912638366222382, 0.02187505178153515, 0.18419118225574493, 0.020558904856443405, 0.05451657995581627, 0.020804500207304955, 0.0991133451461792, 0.021098649129271507, 0.1632070392370224, 0.02083633840084076], [0.09616506099700928, 0.14967110753059387, 0.03585384041070938, 0.10482469946146011, 0.036713603883981705, 0.13107547163963318, 0.036150719970464706, 0.07351508736610413, 0.03638041764497757, 0.09363768249750137, 0.03636563569307327, 0.133422389626503, 0.03622429072856903], [0.08925756812095642, 0.24634693562984467, 0.00987125001847744, 0.12801118195056915, 0.009706936776638031, 0.13242673873901367, 0.00988169014453888, 0.07871610671281815, 0.010318327695131302, 0.0669768676161766, 0.009822113439440727, 0.19843748211860657, 0.01022674422711134], [0.09472641348838806, 0.13908864557743073, 0.04089319705963135, 0.10203221440315247, 0.041504018008708954, 0.12381546199321747, 0.041107699275016785, 0.0756930336356163, 0.04144122451543808, 0.09300460666418076, 0.041294217109680176, 0.12426620721817017, 0.041133105754852295], [0.09497334808111191, 0.19604428112506866, 0.0187627375125885, 0.10330759733915329, 0.01911015994846821, 0.17345170676708221, 0.018450647592544556, 0.05864425748586655, 0.019141370430588722, 0.09185739606618881, 0.018876152113080025, 0.1686183214187622, 0.018762031570076942], [0.0931449830532074, 0.1295049637556076, 0.04565684124827385, 0.09820003062486649, 0.04618913680315018, 0.11904828995466232, 0.04578283429145813, 0.07514143735170364, 0.046208374202251434, 0.09299136698246002, 0.046024516224861145, 0.1163705587387085, 0.0457366518676281], [0.0876784399151802, 0.2601028382778168, 0.007929632440209389, 0.12374448776245117, 0.007900838740170002, 0.14083422720432281, 0.00796964205801487, 0.06846638023853302, 0.008327593095600605, 0.06689683347940445, 0.0079626040533185, 0.20393702387809753, 0.008249476552009583], [0.09440519660711288, 0.1362493634223938, 0.042212117463350296, 0.1002442017197609, 0.043063849210739136, 0.12344466149806976, 0.042518045753240585, 0.07402067631483078, 0.04276997596025467, 0.09317506104707718, 0.042795583605766296, 0.12259151041507721, 0.0425097718834877], [0.09597718715667725, 0.1490754336118698, 0.0307072214782238, 0.09450118988752365, 0.03207654133439064, 0.1720108836889267, 0.03010014072060585, 0.05753426253795624, 0.03028692491352558, 0.10373885929584503, 0.030897464603185654, 0.14275063574314117, 0.030343271791934967], [0.09541229158639908, 0.1475134789943695, 0.0377596840262413, 0.1037440225481987, 0.038346558809280396, 0.12731394171714783, 0.037967562675476074, 0.07448046654462814, 0.038467854261398315, 0.09239137172698975, 0.03822890669107437, 0.13032157719135284, 0.038052305579185486]]]], \"left_text\": [\"<CLS>\", \"plus\", \"seven\", \"plus\", \"three\", \"minus\", \"five\", \"plus\", \"one\", \"minus\", \"two\", \"plus\", \"six\"], \"right_text\": [\"<CLS>\", \"plus\", \"seven\", \"plus\", \"three\", \"minus\", \"five\", \"plus\", \"one\", \"minus\", \"two\", \"plus\", \"six\"]}], \"default_filter\": \"0\", \"root_div_id\": \"bertviz-4b4c70c7a9dc4eb29b5c464f29f50e8d\", \"layer\": null, \"heads\": null, \"include_layers\": [0, 1]}; // HACK: {\"attention\": [{\"name\": null, \"attn\": [[[[0.2184358388185501, 0.011256445199251175, 0.1084977239370346, 0.011172863654792309, 0.20825469493865967, 0.011320874094963074, 0.1430450677871704, 0.008084049448370934, 0.11893073469400406, 0.01068940106779337, 0.11905018985271454, 0.0037808718625456095, 0.02748112939298153], [0.02302609011530876, 0.0031977095641195774, 0.961839497089386, 0.00249824533239007, 0.006718945689499378, 1.8279180949321017e-05, 0.0006383509025909007, 1.5963225450832397e-05, 0.002029195660725236, 1.1469874152680859e-05, 5.668234280165052e-06, 8.84281270430165e-09, 6.0252102684899e-07], [0.0014134717639535666, 0.0013017047895118594, 0.07060344517230988, 0.46081632375717163, 0.42952579259872437, 0.00875476747751236, 0.0009466700721532106, 0.00029995525255799294, 0.0033098168205469847, 0.01230701059103012, 0.010531237348914146, 0.0001806568616302684, 9.217696060659364e-06], [0.0010009031975641847, 9.680379662313499e-06, 0.007621648255735636, 0.003808974754065275, 0.9753677248954773, 0.003063311567530036, 0.007313496433198452, 4.1246025830332655e-06, 0.00023436130140908062, 2.2558206183020957e-05, 0.001540282741189003, 4.922851076116785e-06, 8.080018233158626e-06], [5.133271042723209e-05, 3.5804660001304e-06, 0.00027064562891609967, 0.011345834471285343, 0.9459692239761353, 0.019049683585762978, 0.002675927011296153, 1.6276368114631623e-05, 0.0001152170734712854, 0.0002938237157650292, 0.01977071538567543, 0.00042496187961660326, 1.2755646821460687e-05], [0.0016327911289408803, 9.237806807504967e-05, 0.0002224007766926661, 1.1291426744719502e-05, 0.0018571597756817937, 0.004050347022712231, 0.9758986234664917, 0.00913586188107729, 0.00464836647734046, 5.555484676733613e-06, 7.074690074659884e-05, 3.153399666189216e-05, 0.0023428478743880987], [0.004089879337698221, 0.003295938251540065, 0.002741514937952161, 0.0017154896631836891, 0.0009460436995141208, 0.00554968835785985, 0.04332452267408371, 0.5429745316505432, 0.3292308747768402, 0.05252895504236221, 0.006491588428616524, 0.002764997538179159, 0.004345965571701527], [0.04592347517609596, 6.737942021572962e-05, 0.02025160752236843, 7.002009806456044e-05, 0.0006927846698090434, 6.530158134410158e-05, 0.011820857413113117, 0.005764462985098362, 0.8881930112838745, 0.017573615536093712, 0.007753468118607998, 1.8273953173775226e-05, 0.0018058023415505886], [0.02917974255979061, 1.9341325241839513e-05, 0.006202013697475195, 0.00032174456282518804, 0.005016305949538946, 0.000157721689902246, 0.0009755940409377217, 0.0002746523532550782, 0.0939577966928482, 0.16903896629810333, 0.6744287610054016, 0.0028143597301095724, 0.017613032832741737], [0.0005497083184309304, 1.7562273413318508e-08, 4.66193123429548e-05, 1.4139375707600266e-05, 0.007562671788036823, 0.00015024376625660807, 0.0006119819590821862, 7.049964096950134e-06, 0.0036789793521165848, 0.011768513359129429, 0.968093991279602, 0.00221224850974977, 0.005303768441081047], [4.395021278469358e-06, 3.2568672758692685e-10, 1.564538933962467e-07, 2.205780219810549e-06, 0.0018581567564979196, 2.914965443778783e-05, 4.432897640072042e-06, 3.20466533310082e-08, 7.677322173549328e-06, 0.0009782173437997699, 0.986280083656311, 0.009990248829126358, 0.0008452777983620763], [0.0014963812427595258, 8.425579949289386e-07, 2.895057832574821e-06, 1.445234829589026e-07, 4.170674947090447e-05, 0.0001230457128258422, 0.008283259347081184, 0.00037123914808034897, 0.002259381813928485, 0.00033295611501671374, 0.021957939490675926, 0.014162367209792137, 0.9509678483009338], [0.003501421306282282, 8.922431879909709e-05, 3.305650534457527e-05, 4.497011104831472e-06, 5.967033757769968e-06, 5.999069253448397e-05, 0.0005500070401467383, 0.010670735500752926, 0.03161812201142311, 0.07227025181055069, 0.06172521412372589, 0.09330834448337555, 0.7261630892753601]]], [[[0.0864969938993454, 0.2564831078052521, 0.00810049008578062, 0.1079096794128418, 0.008242609910666943, 0.1709434539079666, 0.008029671385884285, 0.051515281200408936, 0.008484759368002415, 0.07319308072328568, 0.008213269524276257, 0.20410685241222382, 0.008280719630420208], [0.0964212715625763, 0.15769241750240326, 0.028035221621394157, 0.09580875188112259, 0.029060760512948036, 0.1740957498550415, 0.027430333197116852, 0.05807958543300629, 0.027841972187161446, 0.10131523013114929, 0.028182510286569595, 0.14828205108642578, 0.027754176408052444], [0.0949818566441536, 0.14095529913902283, 0.04021076112985611, 0.10377553850412369, 0.04082674905657768, 0.12158458679914474, 0.04054482653737068, 0.07750117033720016, 0.040841251611709595, 0.09153851121664047, 0.04066626727581024, 0.12596899271011353, 0.040604181587696075], [0.09630575776100159, 0.17753662168979645, 0.02082967385649681, 0.09912638366222382, 0.02187505178153515, 0.18419118225574493, 0.020558904856443405, 0.05451657995581627, 0.020804500207304955, 0.0991133451461792, 0.021098649129271507, 0.1632070392370224, 0.02083633840084076], [0.09616506099700928, 0.14967110753059387, 0.03585384041070938, 0.10482469946146011, 0.036713603883981705, 0.13107547163963318, 0.036150719970464706, 0.07351508736610413, 0.03638041764497757, 0.09363768249750137, 0.03636563569307327, 0.133422389626503, 0.03622429072856903], [0.08925756812095642, 0.24634693562984467, 0.00987125001847744, 0.12801118195056915, 0.009706936776638031, 0.13242673873901367, 0.00988169014453888, 0.07871610671281815, 0.010318327695131302, 0.0669768676161766, 0.009822113439440727, 0.19843748211860657, 0.01022674422711134], [0.09472641348838806, 0.13908864557743073, 0.04089319705963135, 0.10203221440315247, 0.041504018008708954, 0.12381546199321747, 0.041107699275016785, 0.0756930336356163, 0.04144122451543808, 0.09300460666418076, 0.041294217109680176, 0.12426620721817017, 0.041133105754852295], [0.09497334808111191, 0.19604428112506866, 0.0187627375125885, 0.10330759733915329, 0.01911015994846821, 0.17345170676708221, 0.018450647592544556, 0.05864425748586655, 0.019141370430588722, 0.09185739606618881, 0.018876152113080025, 0.1686183214187622, 0.018762031570076942], [0.0931449830532074, 0.1295049637556076, 0.04565684124827385, 0.09820003062486649, 0.04618913680315018, 0.11904828995466232, 0.04578283429145813, 0.07514143735170364, 0.046208374202251434, 0.09299136698246002, 0.046024516224861145, 0.1163705587387085, 0.0457366518676281], [0.0876784399151802, 0.2601028382778168, 0.007929632440209389, 0.12374448776245117, 0.007900838740170002, 0.14083422720432281, 0.00796964205801487, 0.06846638023853302, 0.008327593095600605, 0.06689683347940445, 0.0079626040533185, 0.20393702387809753, 0.008249476552009583], [0.09440519660711288, 0.1362493634223938, 0.042212117463350296, 0.1002442017197609, 0.043063849210739136, 0.12344466149806976, 0.042518045753240585, 0.07402067631483078, 0.04276997596025467, 0.09317506104707718, 0.042795583605766296, 0.12259151041507721, 0.0425097718834877], [0.09597718715667725, 0.1490754336118698, 0.0307072214782238, 0.09450118988752365, 0.03207654133439064, 0.1720108836889267, 0.03010014072060585, 0.05753426253795624, 0.03028692491352558, 0.10373885929584503, 0.030897464603185654, 0.14275063574314117, 0.030343271791934967], [0.09541229158639908, 0.1475134789943695, 0.0377596840262413, 0.1037440225481987, 0.038346558809280396, 0.12731394171714783, 0.037967562675476074, 0.07448046654462814, 0.038467854261398315, 0.09239137172698975, 0.03822890669107437, 0.13032157719135284, 0.038052305579185486]]]], \"left_text\": [\"<CLS>\", \"plus\", \"seven\", \"plus\", \"three\", \"minus\", \"five\", \"plus\", \"one\", \"minus\", \"two\", \"plus\", \"six\"], \"right_text\": [\"<CLS>\", \"plus\", \"seven\", \"plus\", \"three\", \"minus\", \"five\", \"plus\", \"one\", \"minus\", \"two\", \"plus\", \"six\"]}], \"default_filter\": \"0\", \"root_div_id\": \"bertviz-4b4c70c7a9dc4eb29b5c464f29f50e8d\", \"layer\": null, \"heads\": null, \"include_layers\": [0, 1]} is a template marker that is replaced by actual params.\n    const TEXT_SIZE = 15;\n    const BOXWIDTH = 110;\n    const BOXHEIGHT = 22.5;\n    const MATRIX_WIDTH = 115;\n    const CHECKBOX_SIZE = 20;\n    const TEXT_TOP = 30;\n\n    console.log(\"d3 version\", d3.version)\n    let headColors;\n    try {\n        headColors = d3.scaleOrdinal(d3.schemeCategory10);\n    } catch (err) {\n        console.log('Older d3 version')\n        headColors = d3.scale.category10();\n    }\n    let config = {};\n    initialize();\n    renderVis();\n\n    function initialize() {\n        config.attention = params['attention'];\n        config.filter = params['default_filter'];\n        config.rootDivId = params['root_div_id'];\n        config.nLayers = config.attention[config.filter]['attn'].length;\n        config.nHeads = config.attention[config.filter]['attn'][0].length;\n        config.layers = params['include_layers']\n\n        if (params['heads']) {\n            config.headVis = new Array(config.nHeads).fill(false);\n            params['heads'].forEach(x => config.headVis[x] = true);\n        } else {\n            config.headVis = new Array(config.nHeads).fill(true);\n        }\n        config.initialTextLength = config.attention[config.filter].right_text.length;\n        config.layer_seq = (params['layer'] == null ? 0 : config.layers.findIndex(layer => params['layer'] === layer));\n        config.layer = config.layers[config.layer_seq]\n\n        let layerEl = $(`#${config.rootDivId} #layer`);\n        for (const layer of config.layers) {\n            layerEl.append($(\"<option />\").val(layer).text(layer));\n        }\n        layerEl.val(config.layer).change();\n        layerEl.on('change', function (e) {\n            config.layer = +e.currentTarget.value;\n            config.layer_seq = config.layers.findIndex(layer => config.layer === layer);\n            renderVis();\n        });\n\n        $(`#${config.rootDivId} #filter`).on('change', function (e) {\n            config.filter = e.currentTarget.value;\n            renderVis();\n        });\n    }\n\n    function renderVis() {\n\n        // Load parameters\n        const attnData = config.attention[config.filter];\n        const leftText = attnData.left_text;\n        const rightText = attnData.right_text;\n\n        // Select attention for given layer\n        const layerAttention = attnData.attn[config.layer_seq];\n\n        // Clear vis\n        $(`#${config.rootDivId} #vis`).empty();\n\n        // Determine size of visualization\n        const height = Math.max(leftText.length, rightText.length) * BOXHEIGHT + TEXT_TOP;\n        const svg = d3.select(`#${config.rootDivId} #vis`)\n            .append('svg')\n            .attr(\"width\", \"100%\")\n            .attr(\"height\", height + \"px\")\n            .style(\"background-color\", \"white\");\n\n        // Display tokens on left and right side of visualization\n        renderText(svg, leftText, true, layerAttention, 0);\n        renderText(svg, rightText, false, layerAttention, MATRIX_WIDTH + BOXWIDTH);\n\n        // Render attention arcs\n        renderAttention(svg, layerAttention);\n\n        // Draw squares at top of visualization, one for each head\n        drawCheckboxes(0, svg, layerAttention);\n    }\n\n    function renderText(svg, text, isLeft, attention, leftPos) {\n\n        const textContainer = svg.append(\"svg:g\")\n            .attr(\"id\", isLeft ? \"left\" : \"right\");\n\n        // Add attention highlights superimposed over words\n        textContainer.append(\"g\")\n            .classed(\"attentionBoxes\", true)\n            .selectAll(\"g\")\n            .data(attention)\n            .enter()\n            .append(\"g\")\n            .attr(\"head-index\", (d, i) => i)\n            .selectAll(\"rect\")\n            .data(d => isLeft ? d : transpose(d)) // if right text, transpose attention to get right-to-left weights\n            .enter()\n            .append(\"rect\")\n            .attr(\"x\", function () {\n                var headIndex = +this.parentNode.getAttribute(\"head-index\");\n                return leftPos + boxOffsets(headIndex);\n            })\n            .attr(\"y\", (+1) * BOXHEIGHT)\n            .attr(\"width\", BOXWIDTH / activeHeads())\n            .attr(\"height\", BOXHEIGHT)\n            .attr(\"fill\", function () {\n                return headColors(+this.parentNode.getAttribute(\"head-index\"))\n            })\n            .style(\"opacity\", 0.0);\n\n        const tokenContainer = textContainer.append(\"g\").selectAll(\"g\")\n            .data(text)\n            .enter()\n            .append(\"g\");\n\n        // Add gray background that appears when hovering over text\n        tokenContainer.append(\"rect\")\n            .classed(\"background\", true)\n            .style(\"opacity\", 0.0)\n            .attr(\"fill\", \"lightgray\")\n            .attr(\"x\", leftPos)\n            .attr(\"y\", (d, i) => TEXT_TOP + i * BOXHEIGHT)\n            .attr(\"width\", BOXWIDTH)\n            .attr(\"height\", BOXHEIGHT);\n\n        // Add token text\n        const textEl = tokenContainer.append(\"text\")\n            .text(d => d)\n            .attr(\"font-size\", TEXT_SIZE + \"px\")\n            .style(\"cursor\", \"default\")\n            .style(\"-webkit-user-select\", \"none\")\n            .attr(\"x\", leftPos)\n            .attr(\"y\", (d, i) => TEXT_TOP + i * BOXHEIGHT);\n\n        if (isLeft) {\n            textEl.style(\"text-anchor\", \"end\")\n                .attr(\"dx\", BOXWIDTH - 0.5 * TEXT_SIZE)\n                .attr(\"dy\", TEXT_SIZE);\n        } else {\n            textEl.style(\"text-anchor\", \"start\")\n                .attr(\"dx\", +0.5 * TEXT_SIZE)\n                .attr(\"dy\", TEXT_SIZE);\n        }\n\n        tokenContainer.on(\"mouseover\", function (d, index) {\n\n            // Show gray background for moused-over token\n            textContainer.selectAll(\".background\")\n                .style(\"opacity\", (d, i) => i === index ? 1.0 : 0.0)\n\n            // Reset visibility attribute for any previously highlighted attention arcs\n            svg.select(\"#attention\")\n                .selectAll(\"line[visibility='visible']\")\n                .attr(\"visibility\", null)\n\n            // Hide group containing attention arcs\n            svg.select(\"#attention\").attr(\"visibility\", \"hidden\");\n\n            // Set to visible appropriate attention arcs to be highlighted\n            if (isLeft) {\n                svg.select(\"#attention\").selectAll(\"line[left-token-index='\" + index + \"']\").attr(\"visibility\", \"visible\");\n            } else {\n                svg.select(\"#attention\").selectAll(\"line[right-token-index='\" + index + \"']\").attr(\"visibility\", \"visible\");\n            }\n\n            // Update color boxes superimposed over tokens\n            const id = isLeft ? \"right\" : \"left\";\n            const leftPos = isLeft ? MATRIX_WIDTH + BOXWIDTH : 0;\n            svg.select(\"#\" + id)\n                .selectAll(\".attentionBoxes\")\n                .selectAll(\"g\")\n                .attr(\"head-index\", (d, i) => i)\n                .selectAll(\"rect\")\n                .attr(\"x\", function () {\n                    const headIndex = +this.parentNode.getAttribute(\"head-index\");\n                    return leftPos + boxOffsets(headIndex);\n                })\n                .attr(\"y\", (d, i) => TEXT_TOP + i * BOXHEIGHT)\n                .attr(\"width\", BOXWIDTH / activeHeads())\n                .attr(\"height\", BOXHEIGHT)\n                .style(\"opacity\", function (d) {\n                    const headIndex = +this.parentNode.getAttribute(\"head-index\");\n                    if (config.headVis[headIndex])\n                        if (d) {\n                            return d[index];\n                        } else {\n                            return 0.0;\n                        }\n                    else\n                        return 0.0;\n                });\n        });\n\n        textContainer.on(\"mouseleave\", function () {\n\n            // Unhighlight selected token\n            d3.select(this).selectAll(\".background\")\n                .style(\"opacity\", 0.0);\n\n            // Reset visibility attributes for previously selected lines\n            svg.select(\"#attention\")\n                .selectAll(\"line[visibility='visible']\")\n                .attr(\"visibility\", null) ;\n            svg.select(\"#attention\").attr(\"visibility\", \"visible\");\n\n            // Reset highlights superimposed over tokens\n            svg.selectAll(\".attentionBoxes\")\n                .selectAll(\"g\")\n                .selectAll(\"rect\")\n                .style(\"opacity\", 0.0);\n        });\n    }\n\n    function renderAttention(svg, attention) {\n\n        // Remove previous dom elements\n        svg.select(\"#attention\").remove();\n\n        // Add new elements\n        svg.append(\"g\")\n            .attr(\"id\", \"attention\") // Container for all attention arcs\n            .selectAll(\".headAttention\")\n            .data(attention)\n            .enter()\n            .append(\"g\")\n            .classed(\"headAttention\", true) // Group attention arcs by head\n            .attr(\"head-index\", (d, i) => i)\n            .selectAll(\".tokenAttention\")\n            .data(d => d)\n            .enter()\n            .append(\"g\")\n            .classed(\"tokenAttention\", true) // Group attention arcs by left token\n            .attr(\"left-token-index\", (d, i) => i)\n            .selectAll(\"line\")\n            .data(d => d)\n            .enter()\n            .append(\"line\")\n            .attr(\"x1\", BOXWIDTH)\n            .attr(\"y1\", function () {\n                const leftTokenIndex = +this.parentNode.getAttribute(\"left-token-index\")\n                return TEXT_TOP + leftTokenIndex * BOXHEIGHT + (BOXHEIGHT / 2)\n            })\n            .attr(\"x2\", BOXWIDTH + MATRIX_WIDTH)\n            .attr(\"y2\", (d, rightTokenIndex) => TEXT_TOP + rightTokenIndex * BOXHEIGHT + (BOXHEIGHT / 2))\n            .attr(\"stroke-width\", 2)\n            .attr(\"stroke\", function () {\n                const headIndex = +this.parentNode.parentNode.getAttribute(\"head-index\");\n                return headColors(headIndex)\n            })\n            .attr(\"left-token-index\", function () {\n                return +this.parentNode.getAttribute(\"left-token-index\")\n            })\n            .attr(\"right-token-index\", (d, i) => i)\n        ;\n        updateAttention(svg)\n    }\n\n    function updateAttention(svg) {\n        svg.select(\"#attention\")\n            .selectAll(\"line\")\n            .attr(\"stroke-opacity\", function (d) {\n                const headIndex = +this.parentNode.parentNode.getAttribute(\"head-index\");\n                // If head is selected\n                if (config.headVis[headIndex]) {\n                    // Set opacity to attention weight divided by number of active heads\n                    return d / activeHeads()\n                } else {\n                    return 0.0;\n                }\n            })\n    }\n\n    function boxOffsets(i) {\n        const numHeadsAbove = config.headVis.reduce(\n            function (acc, val, cur) {\n                return val && cur < i ? acc + 1 : acc;\n            }, 0);\n        return numHeadsAbove * (BOXWIDTH / activeHeads());\n    }\n\n    function activeHeads() {\n        return config.headVis.reduce(function (acc, val) {\n            return val ? acc + 1 : acc;\n        }, 0);\n    }\n\n    function drawCheckboxes(top, svg) {\n        const checkboxContainer = svg.append(\"g\");\n        const checkbox = checkboxContainer.selectAll(\"rect\")\n            .data(config.headVis)\n            .enter()\n            .append(\"rect\")\n            .attr(\"fill\", (d, i) => headColors(i))\n            .attr(\"x\", (d, i) => i * CHECKBOX_SIZE)\n            .attr(\"y\", top)\n            .attr(\"width\", CHECKBOX_SIZE)\n            .attr(\"height\", CHECKBOX_SIZE);\n\n        function updateCheckboxes() {\n            checkboxContainer.selectAll(\"rect\")\n                .data(config.headVis)\n                .attr(\"fill\", (d, i) => d ? headColors(i): lighten(headColors(i)));\n        }\n\n        updateCheckboxes();\n\n        checkbox.on(\"click\", function (d, i) {\n            if (config.headVis[i] && activeHeads() === 1) return;\n            config.headVis[i] = !config.headVis[i];\n            updateCheckboxes();\n            updateAttention(svg);\n        });\n\n        checkbox.on(\"dblclick\", function (d, i) {\n            // If we double click on the only active head then reset\n            if (config.headVis[i] && activeHeads() === 1) {\n                config.headVis = new Array(config.nHeads).fill(true);\n            } else {\n                config.headVis = new Array(config.nHeads).fill(false);\n                config.headVis[i] = true;\n            }\n            updateCheckboxes();\n            updateAttention(svg);\n        });\n    }\n\n    function lighten(color) {\n        const c = d3.hsl(color);\n        const increment = (1 - c.l) * 0.6;\n        c.l += increment;\n        c.s -= increment;\n        return c;\n    }\n\n    function transpose(mat) {\n        return mat[0].map(function (col, i) {\n            return mat.map(function (row) {\n                return row[i];\n            });\n        });\n    }\n\n});",
      "text/plain": [
       "<IPython.core.display.Javascript object>"
      ]
     },
     "metadata": {},
     "output_type": "display_data"
    }
   ],
   "source": [
    "display_attention(0, model, valid_loader, vocab)"
   ]
  },
  {
   "cell_type": "markdown",
   "metadata": {},
   "source": [
    "## Decoder Architectures\n",
    "\n",
    "The building blocks of a transformer decoder model are nearly identical to those of an encoder.  The only significant difference is that the self-attention matrix is modified so the each output embedding can only attend to input embeddings that come before it in the sequence.  This is because decoders, used for chatbots, are usually used in auto-regressive fashion.  Auto-regression means that the incomplete text is fed to the model so that it can predict the next token in the sequence.  This token is appended to the sequence and the whole thing is fed to the model again, repeatedly.  So a decoder model has to figure out the relationships between each token and the previous tokens.\n",
    "\n",
    "\n",
    "Sequence-to-sequence transfomers, like those use in translation and summarization, use an encoder followed by a decoder.  The token embeddings produced the encoder are used as the keys in a \"cross-attention\" mechanism in the decoder.  Imagine a translation task where the encoder figures out the relationships between words and meanings of words in the source language, then the sequence in the target language is decoded one token at a time by combining the embeddings produced from the source language with its knowledge of the target language.\n",
    "\n",
    "If you want to learn more about decoders, the [3blue1brown videos about LLMs](https://www.3blue1brown.com/topics/neural-networks) are absolutely amazing.  Here are some other great resources for learning about transformers:\n",
    "\n",
    "* Any video by Andrej Karpathy on YouTube.  His [Deep Dive in LLMs like ChatGPT](https://www.youtube.com/watch?v=7xTGNNLPyMI&ab_channel=AndrejKarpathy) is 3.5 hours long, but a very good and accessible introduction.\n",
    "* This [NanoGPT visualization](https://bbycroft.net/llm) is used by Karpathy and allows you to see all the pieces of a small transformer.\n",
    "* The [Illustrated Transformer](https://jalammar.github.io/illustrated-transformer/) is a visual walkthrough of the translation encoder-decoder model proposed in the first transformer paper [\"Attention Is All You Need\"](https://arxiv.org/abs/1706.03762)\n",
    "* [How Transformer LLMs Work](https://www.deeplearning.ai/short-courses/how-transformer-llms-work/) is a short course on DeepLearning.AI from Andrew Ng's group.  I haven't gone through this one yet, but all of their materials are amazing.\n"
   ]
  },
  {
   "cell_type": "markdown",
   "metadata": {},
   "source": []
  }
 ],
 "metadata": {
  "kernelspec": {
   "display_name": "DS776env",
   "language": "python",
   "name": "python3"
  },
  "language_info": {
   "codemirror_mode": {
    "name": "ipython",
    "version": 3
   },
   "file_extension": ".py",
   "mimetype": "text/x-python",
   "name": "python",
   "nbconvert_exporter": "python",
   "pygments_lexer": "ipython3",
   "version": "3.11.11"
  }
 },
 "nbformat": 4,
 "nbformat_minor": 2
}
