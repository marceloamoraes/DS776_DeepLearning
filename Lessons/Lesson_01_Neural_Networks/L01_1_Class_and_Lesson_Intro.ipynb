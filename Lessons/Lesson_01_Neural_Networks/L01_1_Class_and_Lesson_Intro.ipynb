{
 "cells": [
  {
   "cell_type": "markdown",
   "metadata": {},
   "source": [
    "# DS776 - Deep Learning\n",
    "\n",
    "## Instructor:  Dr. Jeff Baggett or \"Dr. B.\"\n",
    "\n",
    "* Applied Mathematician\n",
    "    * Computational Fluid Dynamics\n",
    "    * Environmental Modeling\n",
    "    * Optimization\n",
    "    * Statistics and Machine Learning\n",
    "    * Computer Vision\n",
    "* Teaching at UW - La Crosse for 26 years\n",
    "\n",
    "## Course Objectives\n",
    "\n",
    "*After this class you should be able to:*\n",
    "* **Understand Core Neural Network Architectures** \n",
    "* **Develop and Train Models in PyTorch** \n",
    "* **Apply Deep Learning to Computer Vision** \n",
    "* **Implement Transformer-Based Models for NLP** \n",
    "* **Leverage the Hugging Face Ecosystem for NLP** \n",
    "* **Evaluate and Optimize Model Performance**\n",
    "\n",
    "# Machine Learning vs. Deep Learning\n",
    "\n",
    "<img src=\"./pictures/Machine_Learning_Paradigm.png\" alt=\"Inside Deep Learning\" style=\"width: 700px;\"/>\n",
    "\n",
    "<img src=\"./pictures/Deep_Learning_Paradigm.png\" alt=\"Inside Deep Learning\" style=\"width: 700px;\"/>\n",
    "\n",
    "[\"The Bitter Lesson\"](http://www.incompleteideas.net/IncIdeas/BitterLesson.html) by Rich Sutton - *\"approaches that leverage computation are ultimately the most effective\"*\n",
    "- Computers didn't win at chess until we stopped trying to teach them to play like humans and instead relied on massive search\n",
    "- Go\n",
    "- Speech Recognition\n",
    "- Computer Vision\n",
    "- Natural Language Processing\n"
   ]
  },
  {
   "cell_type": "markdown",
   "metadata": {},
   "source": [
    "\n",
    "# Part 1 Introduction to Deep Learning and Computer Vision, Lessons 1-6\n",
    "<img src=\"./pictures/Inside_Deep_Learning_Cover.png\" alt=\"Inside Deep Learning\" style=\"width: 300px;\"/>\n",
    "\n",
    "- PyTorch\n",
    "- Fully Connected Neural Networks\n",
    "    - Classification and Regression\n",
    "- Convolutional Neural Networks\n",
    "    - Image Classification\n",
    "- Advanced Training of Models\n",
    "- Advanced Neural Network Architectures\n",
    "- Object Detection and Segmentation\n",
    "\n",
    "# Part 2 - Natural Language Processing with Transformers, Lessons 7-12\n",
    "<img src=\"./pictures/NLP_with_Transformers_Cover.png\" alt=\"Inside Deep Learning\" style=\"width: 300px;\"/>\n",
    "\n",
    "- [HuggingFace](https://huggingface.co/) ecosystem\n",
    "- Basics of Transformer Architectures\n",
    "- NLP Applications\n",
    "    - Text classification \n",
    "    - Named Entitity Recognition\n",
    "    - Text Generation (ChatGPT, Github Copilot) \n",
    "    - Text Summarization \n",
    "\n",
    "# Part 3 - Project, Lesons 13-14\n",
    "\n",
    "Options:\n",
    "- Work through a textbook chapters we didn't cover\n",
    "- Investigate different approach to a topic we did cover\n",
    "- Apply what you've learned to new data\n"
   ]
  },
  {
   "cell_type": "markdown",
   "metadata": {},
   "source": [
    "# Weekly Structure\n",
    "- Read an assigned chapter\n",
    "- Work through lesson Jupyter notebooks with videos in CoCalc\n",
    "- Complete your homework in a Jupyter notebook in CoCalc"
   ]
  },
  {
   "cell_type": "markdown",
   "metadata": {},
   "source": [
    "# Getting Help\n",
    "\n",
    "- Piazza\n",
    "- Use to ask questions, share ideas and resources, build community\n",
    "- Don't share any part of a solution in your public questions\n",
    "- Use for all course communication (private posts)\n",
    "    - Alert me about late HW submissions (read the Syllabus)\n",
    "- Don't include large chunks of code in private questions\n",
    "- Use AI appropriately\n",
    "\n"
   ]
  },
  {
   "cell_type": "markdown",
   "metadata": {},
   "source": [
    "# Appropriate AI Use\n",
    "\n",
    "OK use:\n",
    "- use AI to ASSIST your learning\n",
    "- ask it to explain code, fix errors, help with syntax\n",
    "- use it HELP you code\n",
    "    - \"help me write a PyTorch dataset that reads labels and image names from a csv file, explain the steps\"\n",
    "    - \"write a python function that displays a grid of randomly selected images from a PyTorch dataset\"\n",
    "- make sure you understand the code before you move on\n",
    "- ALWAYS explain / cite your AI use in your submitted homework\n",
    "\n",
    "NOT OK use:\n",
    "- give it your homework question and have it generate whole solutions (this is easy to detect)\n",
    "\n",
    "\n",
    "We expect your homework code to be similar to the code we present in the lessons.  *If you submit AI generated code that differs from the lessons then we'll treat your submission as plagiarism and, at best, you'll get zero points (see the syllabus).*\n",
    "\n",
    "AI is getting better at writing code, but it's far from perfect.  You still have to understand how to code to use AI effectively.  If you don't learn to code on simpler task that AI can easily solve, you won't be able to collaboratively code using an AI on advanced tasks."
   ]
  },
  {
   "cell_type": "markdown",
   "metadata": {},
   "source": []
  }
 ],
 "metadata": {
  "kernelspec": {
   "display_name": "Python 3 (ipykernel)",
   "language": "python",
   "name": "python3"
  },
  "language_info": {
   "codemirror_mode": {
    "name": "ipython",
    "version": 3
   },
   "file_extension": ".py",
   "mimetype": "text/x-python",
   "name": "python",
   "nbconvert_exporter": "python",
   "pygments_lexer": "ipython3",
   "version": "3.12.7"
  }
 },
 "nbformat": 4,
 "nbformat_minor": 4
}
