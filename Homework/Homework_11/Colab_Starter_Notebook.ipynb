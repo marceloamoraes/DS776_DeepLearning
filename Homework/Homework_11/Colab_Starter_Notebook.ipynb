{
 "cells": [
  {
   "cell_type": "markdown",
   "metadata": {
    "id": "xpjl6nG0IfZ5"
   },
   "source": [
    "This notebook will help you configure Google Colab and get your files from CoCalc so that you can easily work on them in Colab.  The free tier of Colab gives access to T4 GPUs when they're available.  A $10/month subscription to Colab Pro gives longer access to T4 and better GPUs.  You can also buy additional compute credits as needed, but I hope you won't need any to finish the class.\n",
    "\n",
    "## Initial Setup\n",
    "\n",
    "1. You'll need a Google Account.\n",
    "\n",
    "2. One time only to make sure you have the Colab Notebooks Folder in your Google Drive.  \n",
    "  * Save a copy of this notebook in your Google Drive with File -> Save a copy in Drive.  This creates the Colab Notebooks folder in your Google Drive if you didn't already have it.  This is where your files will live while you're working in CoCalc.\n",
    "\n",
    "3.  In CoCalc follow these directions to create Homework_11.zip, Homework_12.zip.  You can do this on the Home Server in CoCalc.\n",
    "  * Go to Explorer -> Homework.  Check the box next to Homework 11.  Click Compress. Click \"Compress 1 Item\".\n",
    "  * Download this file to your local computer.\n",
    "  * Repeat for Homework 12 if desired.\n",
    "\n",
    "4.  Now we're going to get those files into Google Drive:\n",
    "  * Open drive.google.com.  Go to My Drive / Colab Notebooks.  Drag Homework_11.zip to that folder.  \n",
    "  * Click the three dots to the right of the filename.  Choose Open With -> Zip Extractro and agree to the terms to unzip your Homework 11 folder.  \n",
    "  * You might have to refresh, but you should see Homwork 11 Folder now.\n",
    "  * Repeat the steps above for Homework 12.\n",
    "\n",
    "5.  Download your api_keys.env file from CoCalc and put it in your Colab Notebooks folder in Google Drive\n",
    "\n",
    "6.  Now you can double-click on your notebook in Google Drive to open it in Colab.\n",
    "\n",
    "Before you can proceed to the setting up your homework notebooks, make sure that in Google Drive you have this file structure before proceeding to setting up your notebook:\n",
    "\n",
    "```\n",
    "Colab Notebooks/\n",
    "├── api_keys.env\n",
    "├── Homework_11/\n",
    "│   ├── Homework_11.ipynb\n",
    "│   ├── helpers.py\n",
    "│   └── (other files...)\n",
    "├── Homework_12/\n",
    "│   ├── Homework_12.ipynb\n",
    "│   ├── helpers.py\n",
    "│   └── (other files...)\n",
    "```\n",
    "\n",
    "It's fine if you have other files or folders or if you've renamed the homework files."
   ]
  },
  {
   "cell_type": "markdown",
   "metadata": {
    "id": "hnt9W6EVvmEU"
   },
   "source": [
    "## Prepare Your Notebook to Work in Google Colab.\n",
    "\n",
    "We'll have to make a couple of tweaks in your notebook to get it up and going in Colab.  Double-click your homework notebook file in Google Drive to open it in Colab.  We're going to add a code cell at the top of the notebook.  You'll only have to add the code one time.  But you'll have to rerun the cell everytime you go to Colab.\n",
    "\n",
    "Essentially what we're going to do is copy the contents of the following cell to the top of notebook you want to run in Colab.  We'll have to make a small tweak each time to update to the the correct folder.  \n",
    "\n",
    "This code is here for reference, we'll demonstrate what this does in another notebook.\n",
    "\n"
   ]
  },
  {
   "cell_type": "code",
   "execution_count": null,
   "metadata": {
    "colab": {
     "base_uri": "https://localhost:8080/"
    },
    "executionInfo": {
     "elapsed": 78508,
     "status": "ok",
     "timestamp": 1745168946615,
     "user": {
      "displayName": "Jeff B",
      "userId": "12312427422906518493"
     },
     "user_tz": 300
    },
    "id": "XUWlCo2CAcAE",
    "outputId": "dc4ffddc-205d-42bd-b935-8ebb490d7885"
   },
   "outputs": [],
   "source": [
    "%%capture\n",
    "#### RUN THIS IN EVERY NEW COLAB SESSION\n",
    "#### RUN IT if you change runtimes\n",
    "#### shouldn't need to run after a kernel restart in the same session\n",
    "\n",
    "from google.colab import drive\n",
    "import sys\n",
    "from pathlib import Path\n",
    "\n",
    "drive.mount('/content/drive')\n",
    "COLAB_NOTEBOOKS_DIR = Path(\"/content/drive/MyDrive/Colab Notebooks\")\n",
    "\n",
    "########## MODIFY THIS PATH TO AS NEEDED ##########\n",
    "WORKING_DIR = COLAB_NOTEBOOKS_DIR / \"Homework_11\"\n",
    "################################################### \n",
    "sys.path.append(str(WORKING_DIR))\n",
    "\n",
    "# ✅ Now you can import from helpers.py in the your homework folder\n",
    "\n",
    "# ✅ Install JupyterLab so the nbconvert lab template becomes available\n",
    "%pip install -q jupyterlab jupyterlab_widgets\n",
    "!jupyter nbconvert --to html --template lab --stdout --output dummy /dev/null || true\n",
    "\n",
    "# ✅ Install the introdl course package\n",
    "!wget -q https://github.com/DataScienceUWL/DS776/raw/main/Lessons/Course_Tools/introdl.zip\n",
    "!unzip -q introdl.zip -d introdl_pkg\n",
    "%pip install -q -e introdl_pkg --no-cache-dir\n",
    "\n",
    "src_path = Path(\"introdl_pkg/src\").resolve()\n",
    "if str(src_path) not in sys.path:\n",
    "    sys.path.insert(0, str(src_path))\n",
    "\n",
    "# Reload the introdl package (no kernel restart needed)\n",
    "import importlib\n",
    "try:\n",
    "    import introdl\n",
    "    importlib.reload(introdl)\n",
    "except ImportError:\n",
    "    import introdl"
   ]
  }
 ],
 "metadata": {
  "colab": {
   "gpuType": "L4",
   "machine_shape": "hm",
   "provenance": []
  },
  "kernelspec": {
   "display_name": "DS776_env_v2",
   "language": "python",
   "name": "python3"
  },
  "language_info": {
   "codemirror_mode": {
    "name": "ipython",
    "version": 3
   },
   "file_extension": ".py",
   "mimetype": "text/x-python",
   "name": "python",
   "nbconvert_exporter": "python",
   "pygments_lexer": "ipython3",
   "version": "3.10.16"
  }
 },
 "nbformat": 4,
 "nbformat_minor": 0
}
