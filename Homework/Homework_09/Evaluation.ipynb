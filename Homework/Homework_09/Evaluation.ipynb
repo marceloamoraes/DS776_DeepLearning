{
 "cells": [
  {
   "cell_type": "markdown",
   "id": "d21dc9b0",
   "metadata": {},
   "source": [
    "### **Evaluation Criteria**  \n",
    "\n",
    "**Original, Thoughtful, In-Depth Analysis (10 pts)**:  \n",
    "\n",
    "**Completeness, Figures (10 pts)**: \n",
    "\n",
    "**Personalization, Applications (10 pts)**: \n",
    "\n",
    "**Citations, Supporting Evidence (10 pts)**: \n"
   ]
  }
 ],
 "metadata": {
  "language_info": {
   "name": "python"
  }
 },
 "nbformat": 4,
 "nbformat_minor": 5
}
